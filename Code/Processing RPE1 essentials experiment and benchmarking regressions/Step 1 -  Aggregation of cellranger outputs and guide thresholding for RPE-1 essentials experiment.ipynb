{
 "cells": [
  {
   "cell_type": "code",
   "execution_count": 1,
   "id": "ffc078af",
   "metadata": {},
   "outputs": [],
   "source": [
    "import matplotlib.pyplot as plt\n",
    "import numpy as np\n",
    "import pandas as pd\n",
    "import seaborn as sns\n",
    "pd.options.display.float_format = '{:.4f}'.format\n",
    "import matplotlib\n",
    "from tqdm.notebook import tqdm\n",
    "\n",
    "\n",
    "import sys\n",
    "# adding notebooks to the system path\n",
    "sys.path.insert(0, '/home/southark/notebooks')\n",
    "\n",
    "\n",
    "matplotlib.rcParams['pdf.fonttype'] = 42\n",
    "%load_ext autoreload\n",
    "%autoreload 2\n",
    "%matplotlib inline\n",
    "\n",
    "from perturbseq import *\n",
    "import scanpy as sc"
   ]
  },
  {
   "cell_type": "markdown",
   "id": "b20e52e3",
   "metadata": {},
   "source": [
    "Aggreation of GEX and Guide UMI data and export of raw GEX matrix and guide UMI .h5"
   ]
  },
  {
   "cell_type": "code",
   "execution_count": 3,
   "id": "d7041cd6",
   "metadata": {},
   "outputs": [],
   "source": [
    "EXPERIMENT = '/scratch/sequencing/processed_overloading/202301_RPE1_E150_MAX_OL/'"
   ]
  },
  {
   "cell_type": "code",
   "execution_count": 4,
   "id": "99202000",
   "metadata": {},
   "outputs": [],
   "source": [
    "#import 10x guide calls\n",
    "guide_calls_10x = pd.read_csv(EXPERIMENT+'/outs/count/crispr_analysis/protospacer_calls_per_cell.csv')\n"
   ]
  },
  {
   "cell_type": "code",
   "execution_count": 5,
   "id": "5b3f2e16",
   "metadata": {},
   "outputs": [],
   "source": [
    "from glob import glob\n",
    "import os\n",
    "\n",
    "#list of sample names\n",
    "#gather from the workingfolder\n",
    "COUNT_GLOB = '*outs*'\n",
    "\n",
    "#perform for each project folder (i.e. if more sequencing was ordered)\n",
    "\n",
    "unique_outs = sorted(set(map(lambda x: x.split('/')[-1],#.split('/outs')[0], \n",
    "                                glob(os.path.join(EXPERIMENT, COUNT_GLOB)))))\n"
   ]
  },
  {
   "cell_type": "code",
   "execution_count": 9,
   "id": "6500dd41",
   "metadata": {},
   "outputs": [
    {
     "name": "stdout",
     "output_type": "stream",
     "text": [
      "0\n"
     ]
    }
   ],
   "source": [
    "for i, path in enumerate(cellranger_output_paths):\n",
    "    print(i)"
   ]
  },
  {
   "cell_type": "code",
   "execution_count": null,
   "id": "b0d35482",
   "metadata": {},
   "outputs": [],
   "source": [
    "#FILENAME = '/outs/filtered_feature_bc_matrix.h5'\n",
    "FILENAME = '/count/filtered_feature_bc_matrix.h5' #since working from an aggr\n",
    "\n",
    "# List of paths to the cellranger output folders\n",
    "cellranger_output_paths = [EXPERIMENT+d+FILENAME for d in unique_outs]\n",
    "\n",
    "cellranger_output_paths"
   ]
  },
  {
   "cell_type": "code",
   "execution_count": 10,
   "id": "f647c67b",
   "metadata": {},
   "outputs": [
    {
     "name": "stdout",
     "output_type": "stream",
     "text": [
      "0\n"
     ]
    },
    {
     "name": "stderr",
     "output_type": "stream",
     "text": [
      "Variable names are not unique. To make them unique, call `.var_names_make_unique`.\n"
     ]
    }
   ],
   "source": [
    "# Import the data from each folder and concatenate them into a single AnnData object\n",
    "adata_list = []\n",
    "for i, path in enumerate(cellranger_output_paths):\n",
    "    print(i)\n",
    "    adata = sc.read_10x_h5(path, gex_only=False)#import full matrix\n",
    "    adata.var_names_make_unique()\n",
    "    adata.obs['dataset'] = 'normal_from_maxexp'#unique_outs[i]\n",
    "    #adata.obs['cell_barcode'] = adata.obs.index.str.split('-').str[0]\n",
    "    #adata.obs = adata.obs.reset_index().set_index('cell_barcode').rename(columns = {'index': 'old_barcode'})\n",
    "    adata_list.append(adata)"
   ]
  },
  {
   "cell_type": "code",
   "execution_count": 11,
   "id": "2407e4e0",
   "metadata": {},
   "outputs": [
    {
     "data": {
      "text/html": [
       "<div>\n",
       "<style scoped>\n",
       "    .dataframe tbody tr th:only-of-type {\n",
       "        vertical-align: middle;\n",
       "    }\n",
       "\n",
       "    .dataframe tbody tr th {\n",
       "        vertical-align: top;\n",
       "    }\n",
       "\n",
       "    .dataframe thead th {\n",
       "        text-align: right;\n",
       "    }\n",
       "</style>\n",
       "<table border=\"1\" class=\"dataframe\">\n",
       "  <thead>\n",
       "    <tr style=\"text-align: right;\">\n",
       "      <th></th>\n",
       "      <th>dataset</th>\n",
       "    </tr>\n",
       "  </thead>\n",
       "  <tbody>\n",
       "    <tr>\n",
       "      <th>AAACCCAAGCTGTCCG-1</th>\n",
       "      <td>normal_from_maxexp</td>\n",
       "    </tr>\n",
       "    <tr>\n",
       "      <th>AAACCCAAGGAGGTTC-1</th>\n",
       "      <td>normal_from_maxexp</td>\n",
       "    </tr>\n",
       "    <tr>\n",
       "      <th>AAACCCACACGAGAAC-1</th>\n",
       "      <td>normal_from_maxexp</td>\n",
       "    </tr>\n",
       "    <tr>\n",
       "      <th>AAACCCACAGTCTACA-1</th>\n",
       "      <td>normal_from_maxexp</td>\n",
       "    </tr>\n",
       "    <tr>\n",
       "      <th>AAACCCAGTGCTGATT-1</th>\n",
       "      <td>normal_from_maxexp</td>\n",
       "    </tr>\n",
       "    <tr>\n",
       "      <th>...</th>\n",
       "      <td>...</td>\n",
       "    </tr>\n",
       "    <tr>\n",
       "      <th>TTTGTTGCATGTGCTA-2</th>\n",
       "      <td>normal_from_maxexp</td>\n",
       "    </tr>\n",
       "    <tr>\n",
       "      <th>TTTGTTGGTGCGGATA-2</th>\n",
       "      <td>normal_from_maxexp</td>\n",
       "    </tr>\n",
       "    <tr>\n",
       "      <th>TTTGTTGGTTAGGGAC-2</th>\n",
       "      <td>normal_from_maxexp</td>\n",
       "    </tr>\n",
       "    <tr>\n",
       "      <th>TTTGTTGTCACCCTTG-2</th>\n",
       "      <td>normal_from_maxexp</td>\n",
       "    </tr>\n",
       "    <tr>\n",
       "      <th>TTTGTTGTCTTGTTAC-2</th>\n",
       "      <td>normal_from_maxexp</td>\n",
       "    </tr>\n",
       "  </tbody>\n",
       "</table>\n",
       "<p>26684 rows × 1 columns</p>\n",
       "</div>"
      ],
      "text/plain": [
       "                               dataset\n",
       "AAACCCAAGCTGTCCG-1  normal_from_maxexp\n",
       "AAACCCAAGGAGGTTC-1  normal_from_maxexp\n",
       "AAACCCACACGAGAAC-1  normal_from_maxexp\n",
       "AAACCCACAGTCTACA-1  normal_from_maxexp\n",
       "AAACCCAGTGCTGATT-1  normal_from_maxexp\n",
       "...                                ...\n",
       "TTTGTTGCATGTGCTA-2  normal_from_maxexp\n",
       "TTTGTTGGTGCGGATA-2  normal_from_maxexp\n",
       "TTTGTTGGTTAGGGAC-2  normal_from_maxexp\n",
       "TTTGTTGTCACCCTTG-2  normal_from_maxexp\n",
       "TTTGTTGTCTTGTTAC-2  normal_from_maxexp\n",
       "\n",
       "[26684 rows x 1 columns]"
      ]
     },
     "execution_count": 11,
     "metadata": {},
     "output_type": "execute_result"
    }
   ],
   "source": [
    "adata_list[0].obs"
   ]
  },
  {
   "cell_type": "code",
   "execution_count": 12,
   "id": "49c1febc",
   "metadata": {},
   "outputs": [
    {
     "data": {
      "text/plain": [
       "Gene Expression         36601\n",
       "CRISPR Guide Capture      156\n",
       "Name: feature_types, dtype: int64"
      ]
     },
     "execution_count": 12,
     "metadata": {},
     "output_type": "execute_result"
    }
   ],
   "source": [
    "adata_list[0].var.feature_types.value_counts()"
   ]
  },
  {
   "cell_type": "code",
   "execution_count": 13,
   "id": "048a6299",
   "metadata": {},
   "outputs": [],
   "source": [
    "adata = adata_list[0]#.concatenate(adata_list[1:], join='outer') use if working from count"
   ]
  },
  {
   "cell_type": "code",
   "execution_count": 14,
   "id": "2d595ec5",
   "metadata": {},
   "outputs": [],
   "source": [
    "adata_guides = adata[:,adata.var['feature_types'].isin(['CRISPR Guide Capture'])]\n",
    "\n",
    "#take gex only for gex output\n",
    "adata_gex = adata[:,adata.var['feature_types'].isin(['Gene Expression'])]"
   ]
  },
  {
   "cell_type": "code",
   "execution_count": 15,
   "id": "ce9ae45d",
   "metadata": {},
   "outputs": [
    {
     "data": {
      "text/html": [
       "<div>\n",
       "<style scoped>\n",
       "    .dataframe tbody tr th:only-of-type {\n",
       "        vertical-align: middle;\n",
       "    }\n",
       "\n",
       "    .dataframe tbody tr th {\n",
       "        vertical-align: top;\n",
       "    }\n",
       "\n",
       "    .dataframe thead th {\n",
       "        text-align: right;\n",
       "    }\n",
       "</style>\n",
       "<table border=\"1\" class=\"dataframe\">\n",
       "  <thead>\n",
       "    <tr style=\"text-align: right;\">\n",
       "      <th></th>\n",
       "      <th>guide_target</th>\n",
       "      <th>feature_types</th>\n",
       "      <th>genome</th>\n",
       "    </tr>\n",
       "    <tr>\n",
       "      <th>guide_identity</th>\n",
       "      <th></th>\n",
       "      <th></th>\n",
       "      <th></th>\n",
       "    </tr>\n",
       "  </thead>\n",
       "  <tbody>\n",
       "    <tr>\n",
       "      <th>127_ADAM10_P1P2_ENSG00000137845</th>\n",
       "      <td>ADAM10</td>\n",
       "      <td>CRISPR Guide Capture</td>\n",
       "      <td></td>\n",
       "    </tr>\n",
       "    <tr>\n",
       "      <th>1893_CSE1L_P1P2_ENSG00000124207</th>\n",
       "      <td>CSE1L</td>\n",
       "      <td>CRISPR Guide Capture</td>\n",
       "      <td></td>\n",
       "    </tr>\n",
       "    <tr>\n",
       "      <th>2124_DDX47_P1P2_ENSG00000213782</th>\n",
       "      <td>DDX47</td>\n",
       "      <td>CRISPR Guide Capture</td>\n",
       "      <td></td>\n",
       "    </tr>\n",
       "    <tr>\n",
       "      <th>2238_DLD_P1P2_ENSG00000091140</th>\n",
       "      <td>DLD</td>\n",
       "      <td>CRISPR Guide Capture</td>\n",
       "      <td></td>\n",
       "    </tr>\n",
       "    <tr>\n",
       "      <th>2527_EIF1AX_P1P2_ENSG00000173674</th>\n",
       "      <td>EIF1AX</td>\n",
       "      <td>CRISPR Guide Capture</td>\n",
       "      <td></td>\n",
       "    </tr>\n",
       "    <tr>\n",
       "      <th>...</th>\n",
       "      <td>...</td>\n",
       "      <td>...</td>\n",
       "      <td>...</td>\n",
       "    </tr>\n",
       "    <tr>\n",
       "      <th>non-targeting_03760</th>\n",
       "      <td>NTC</td>\n",
       "      <td>CRISPR Guide Capture</td>\n",
       "      <td></td>\n",
       "    </tr>\n",
       "    <tr>\n",
       "      <th>non-targeting_01195</th>\n",
       "      <td>NTC</td>\n",
       "      <td>CRISPR Guide Capture</td>\n",
       "      <td></td>\n",
       "    </tr>\n",
       "    <tr>\n",
       "      <th>non-targeting_00236</th>\n",
       "      <td>NTC</td>\n",
       "      <td>CRISPR Guide Capture</td>\n",
       "      <td></td>\n",
       "    </tr>\n",
       "    <tr>\n",
       "      <th>non-targeting_01537</th>\n",
       "      <td>NTC</td>\n",
       "      <td>CRISPR Guide Capture</td>\n",
       "      <td></td>\n",
       "    </tr>\n",
       "    <tr>\n",
       "      <th>non-targeting_gfp</th>\n",
       "      <td>GFP</td>\n",
       "      <td>CRISPR Guide Capture</td>\n",
       "      <td></td>\n",
       "    </tr>\n",
       "  </tbody>\n",
       "</table>\n",
       "<p>156 rows × 3 columns</p>\n",
       "</div>"
      ],
      "text/plain": [
       "                                 guide_target         feature_types genome\n",
       "guide_identity                                                            \n",
       "127_ADAM10_P1P2_ENSG00000137845        ADAM10  CRISPR Guide Capture       \n",
       "1893_CSE1L_P1P2_ENSG00000124207         CSE1L  CRISPR Guide Capture       \n",
       "2124_DDX47_P1P2_ENSG00000213782         DDX47  CRISPR Guide Capture       \n",
       "2238_DLD_P1P2_ENSG00000091140             DLD  CRISPR Guide Capture       \n",
       "2527_EIF1AX_P1P2_ENSG00000173674       EIF1AX  CRISPR Guide Capture       \n",
       "...                                       ...                   ...    ...\n",
       "non-targeting_03760                       NTC  CRISPR Guide Capture       \n",
       "non-targeting_01195                       NTC  CRISPR Guide Capture       \n",
       "non-targeting_00236                       NTC  CRISPR Guide Capture       \n",
       "non-targeting_01537                       NTC  CRISPR Guide Capture       \n",
       "non-targeting_gfp                         GFP  CRISPR Guide Capture       \n",
       "\n",
       "[156 rows x 3 columns]"
      ]
     },
     "execution_count": 15,
     "metadata": {},
     "output_type": "execute_result"
    }
   ],
   "source": [
    "adata_guides.var = adata_guides.var.rename(columns={'gene_ids': 'guide_identity'}).reset_index().set_index('guide_identity').rename(columns={'index': 'guide_target'})\n",
    "adata_guides.var['guide_target'] = adata_guides.var.guide_target.map(lambda x: x.split('-')[0])\n",
    "adata_guides.var"
   ]
  },
  {
   "cell_type": "code",
   "execution_count": 16,
   "id": "d99e6ed6",
   "metadata": {},
   "outputs": [
    {
     "data": {
      "text/plain": [
       "<26684x156 sparse matrix of type '<class 'numpy.float32'>'\n",
       "\twith 87477 stored elements in Compressed Sparse Row format>"
      ]
     },
     "execution_count": 16,
     "metadata": {},
     "output_type": "execute_result"
    }
   ],
   "source": [
    "adata_guides.X"
   ]
  },
  {
   "cell_type": "code",
   "execution_count": 17,
   "id": "4bc92474",
   "metadata": {
    "scrolled": true
   },
   "outputs": [
    {
     "name": "stdout",
     "output_type": "stream",
     "text": [
      "(0, 1000)\n",
      "(1000, 2000)\n",
      "(2000, 3000)\n",
      "(3000, 4000)\n",
      "(4000, 5000)\n",
      "(5000, 6000)\n",
      "(6000, 7000)\n",
      "(7000, 8000)\n",
      "(8000, 9000)\n",
      "(9000, 10000)\n",
      "(10000, 11000)\n",
      "(11000, 12000)\n",
      "(12000, 13000)\n",
      "(13000, 14000)\n",
      "(14000, 15000)\n",
      "(15000, 16000)\n",
      "(16000, 17000)\n",
      "(17000, 18000)\n",
      "(18000, 19000)\n",
      "(19000, 20000)\n",
      "(20000, 21000)\n",
      "(21000, 22000)\n",
      "(22000, 23000)\n",
      "(23000, 24000)\n",
      "(24000, 25000)\n",
      "(25000, 26000)\n",
      "(26000, 26684)\n"
     ]
    }
   ],
   "source": [
    "chunk_size = 1000\n",
    "\n",
    "# Create a generator object that yields chunks of the masked dataframe\n",
    "chunks = (adata_guides[chunk] for chunk in adata_guides.chunked_X(chunk_size=chunk_size))\n",
    "\n",
    "# Create an empty list to store the stacked chunks\n",
    "stacked_list = []\n",
    "\n",
    "# Iterate over the chunks mask and stack them\n",
    "for chunk in adata_guides.chunked_X(chunk_size=chunk_size):\n",
    "    df_chunk = adata_guides[chunk[1]:chunk[2],].to_df()\n",
    "    print((chunk[1],chunk[2]))\n",
    "    m = df_chunk > 0\n",
    "    masked_chunk = df_chunk.mask(~m)\n",
    "    stacked_chunk = masked_chunk.stack()\n",
    "    stacked_list.append(stacked_chunk)        \n",
    "        \n",
    "guide_umis = pd.concat(stacked_list)"
   ]
  },
  {
   "cell_type": "code",
   "execution_count": 18,
   "id": "46374e2a",
   "metadata": {},
   "outputs": [
    {
     "data": {
      "text/plain": [
       "                    guide_identity                   \n",
       "AAACCCAAGGAGGTTC-1  9691_UXT_P1P2_ENSG00000126756       1382.0000\n",
       "AAACCCACACGAGAAC-1  7538_RPS8_P1P2_ENSG00000142937       273.0000\n",
       "AAACCCAGTGCTGATT-1  5900_NUP62_P1P2_ENSG00000213024     2669.0000\n",
       "                    9621_URI1_P1P2_ENSG00000105176        65.0000\n",
       "AAACCCAGTGGCTGCT-1  non-targeting_00236                  902.0000\n",
       "                                                           ...   \n",
       "TTTGTTGCATGTGCTA-2  6671_PPP1R37_P1P2_ENSG00000104866    261.0000\n",
       "TTTGTTGGTGCGGATA-2  6556_POLR3B_P1P2_ENSG00000013503     796.0000\n",
       "TTTGTTGGTTAGGGAC-2  5699_NKX6-1_P1P2_ENSG00000163623     509.0000\n",
       "TTTGTTGTCACCCTTG-2  6558_POLR3D_P1P2_ENSG00000168495      65.0000\n",
       "TTTGTTGTCTTGTTAC-2  4313_POGLUT3_P1P2_ENSG00000178202   1714.0000\n",
       "Length: 35247, dtype: float32"
      ]
     },
     "execution_count": 18,
     "metadata": {},
     "output_type": "execute_result"
    }
   ],
   "source": [
    "guide_umis[guide_umis >= 5]"
   ]
  },
  {
   "cell_type": "code",
   "execution_count": 19,
   "id": "7e5592df",
   "metadata": {},
   "outputs": [
    {
     "data": {
      "text/plain": [
       "                    guide_identity                   \n",
       "TTTGTTGCATACGCAT-2  9621_URI1_P1P2_ENSG00000105176       109.0000\n",
       "TTTGTTGCATCTGTTT-2  2238_DLD_P1P2_ENSG00000091140        996.0000\n",
       "                    6679_PPP2CB_P1P2_ENSG00000104695       1.0000\n",
       "                    7460_RPL32_P1P2_ENSG00000144713        1.0000\n",
       "                    7507_RPS18_P1P2_ENSG00000231500        1.0000\n",
       "                    7539_RPS9_P1P2_ENSG00000170889         1.0000\n",
       "                    8680_TANGO6_P1P2_ENSG00000103047       1.0000\n",
       "                    9909_XRCC6_P1P2_ENSG00000196419        1.0000\n",
       "TTTGTTGCATGTGCTA-2  4953_MED30_P1P2_ENSG00000164758        1.0000\n",
       "                    6671_PPP1R37_P1P2_ENSG00000104866    261.0000\n",
       "TTTGTTGGTGCGGATA-2  6556_POLR3B_P1P2_ENSG00000013503     796.0000\n",
       "                    7438_RPL14_P1P2_ENSG00000188846        3.0000\n",
       "TTTGTTGGTTAGGGAC-2  2553_EIF3I_P1P2_ENSG00000084623        1.0000\n",
       "                    5699_NKX6-1_P1P2_ENSG00000163623     509.0000\n",
       "TTTGTTGTCACCCTTG-2  3570_GTF2E2_P1P2_ENSG00000197265       1.0000\n",
       "                    4313_POGLUT3_P1P2_ENSG00000178202      1.0000\n",
       "                    5901_NUP85_P1P2_ENSG00000125450        1.0000\n",
       "                    6558_POLR3D_P1P2_ENSG00000168495      65.0000\n",
       "                    7520_RPS29_P2_ENSG00000213741          1.0000\n",
       "TTTGTTGTCTTGTTAC-2  4313_POGLUT3_P1P2_ENSG00000178202   1714.0000\n",
       "dtype: float32"
      ]
     },
     "execution_count": 19,
     "metadata": {},
     "output_type": "execute_result"
    }
   ],
   "source": [
    "guide_umis.tail(20)"
   ]
  },
  {
   "cell_type": "code",
   "execution_count": 20,
   "id": "d08e4cc1",
   "metadata": {},
   "outputs": [],
   "source": [
    "guide_umis.index.names = ['cell_barcode', 'guide_identity']"
   ]
  },
  {
   "cell_type": "code",
   "execution_count": 21,
   "id": "ead176a7",
   "metadata": {},
   "outputs": [],
   "source": [
    "all_guides = guide_umis.reset_index().set_index('cell_barcode')"
   ]
  },
  {
   "cell_type": "code",
   "execution_count": 22,
   "id": "c624a13c",
   "metadata": {},
   "outputs": [
    {
     "data": {
      "text/plain": [
       "cell_barcode\n",
       "AAACCCAAGGAGGTTC-1   1382.0000\n",
       "AAACCCACACGAGAAC-1      2.0000\n",
       "AAACCCACACGAGAAC-1      1.0000\n",
       "AAACCCACACGAGAAC-1    273.0000\n",
       "AAACCCACAGTCTACA-1      1.0000\n",
       "                        ...   \n",
       "TTTGTTGTCACCCTTG-2      1.0000\n",
       "TTTGTTGTCACCCTTG-2      1.0000\n",
       "TTTGTTGTCACCCTTG-2     65.0000\n",
       "TTTGTTGTCACCCTTG-2      1.0000\n",
       "TTTGTTGTCTTGTTAC-2   1714.0000\n",
       "Name: 0, Length: 87477, dtype: float32"
      ]
     },
     "execution_count": 22,
     "metadata": {},
     "output_type": "execute_result"
    }
   ],
   "source": [
    "all_guides[0]"
   ]
  },
  {
   "cell_type": "code",
   "execution_count": 23,
   "id": "c5fa5f78",
   "metadata": {},
   "outputs": [
    {
     "data": {
      "text/plain": [
       "<matplotlib.axes._subplots.AxesSubplot at 0x7f84c7fdcb90>"
      ]
     },
     "execution_count": 23,
     "metadata": {},
     "output_type": "execute_result"
    },
    {
     "data": {
      "image/png": "[encoded data removed]",
      "text/plain": [
       "<Figure size 432x288 with 1 Axes>"
      ]
     },
     "metadata": {
      "needs_background": "light"
     },
     "output_type": "display_data"
    }
   ],
   "source": [
    "sns.distplot(np.log(all_guides[(all_guides.guide_identity == '7480_RPL8_P1P2_ENSG00000161016')&(all_guides[0] >= 25)][0]))\n",
    "sns.distplot(np.log(all_guides[(all_guides.guide_identity == 'non-targeting_01377')&(all_guides[0] >= 25)][0]))\n",
    "sns.distplot(np.log(all_guides[(all_guides.guide_identity == '7467_RPL37A_P1P2_ENSG00000197756')&(all_guides[0] >= 25)][0]))"
   ]
  },
  {
   "cell_type": "code",
   "execution_count": 24,
   "id": "47c9e88d",
   "metadata": {},
   "outputs": [
    {
     "data": {
      "text/plain": [
       "<matplotlib.axes._subplots.AxesSubplot at 0x7f84c7ed1410>"
      ]
     },
     "execution_count": 24,
     "metadata": {},
     "output_type": "execute_result"
    },
    {
     "data": {
      "image/png": "[encoded data removed]",
      "text/plain": [
       "<Figure size 432x288 with 1 Axes>"
      ]
     },
     "metadata": {
      "needs_background": "light"
     },
     "output_type": "display_data"
    }
   ],
   "source": [
    "sns.distplot(np.log10(all_guides[(all_guides.guide_identity == '6671_PPP1R37_P1P2_ENSG00000104866')&(all_guides[0] >= 20)][0]+1))\n"
   ]
  },
  {
   "cell_type": "code",
   "execution_count": 25,
   "id": "20d6765a",
   "metadata": {},
   "outputs": [
    {
     "data": {
      "text/plain": [
       "<matplotlib.axes._subplots.AxesSubplot at 0x7f84c7fa8e90>"
      ]
     },
     "execution_count": 25,
     "metadata": {},
     "output_type": "execute_result"
    },
    {
     "data": {
      "image/png": "[encoded data removed]",
      "text/plain": [
       "<Figure size 432x288 with 1 Axes>"
      ]
     },
     "metadata": {
      "needs_background": "light"
     },
     "output_type": "display_data"
    }
   ],
   "source": [
    "sns.distplot(all_guides[(all_guides.guide_identity == '6671_PPP1R37_P1P2_ENSG00000104866')&(all_guides[0] >= 1)][0])\n"
   ]
  },
  {
   "cell_type": "markdown",
   "id": "d3bd65c3",
   "metadata": {},
   "source": [
    "# Export guide calls\n",
    "for each sample import cell calls list"
   ]
  },
  {
   "cell_type": "code",
   "execution_count": 26,
   "id": "696929f0",
   "metadata": {},
   "outputs": [],
   "source": [
    "output_path = '/data/norman/southark/rpe1e150_standardized/'\n",
    "\n",
    "date = '240227'\n",
    "\n",
    "cells = 'rpe1_e150_maxol'\n",
    "\n",
    "cas = 'crispri'\n",
    "\n",
    "thres = 5\n",
    "\n",
    "guide_umis.to_hdf(output_path+f'{date}_{cells}_{cas}_aggr_total_guide_umis.h5', key='guide_umis', mode='w')\n",
    "\n",
    "#guide_umis[guide_umis >= thres].to_hdf(output_path+f'{date}_{cells}_{cas}_aggr_thres{thres}_guide_umis.h5', key='guide_umis', mode='w')"
   ]
  },
  {
   "cell_type": "markdown",
   "id": "abb9e198",
   "metadata": {},
   "source": [
    "# Export GEX (raw)"
   ]
  },
  {
   "cell_type": "code",
   "execution_count": 27,
   "id": "165edc49",
   "metadata": {},
   "outputs": [
    {
     "name": "stderr",
     "output_type": "stream",
     "text": [
      "... storing 'dataset' as categorical\n",
      "... storing 'feature_types' as categorical\n",
      "... storing 'genome' as categorical\n"
     ]
    }
   ],
   "source": [
    "#export raw gex aggr, no metadata formating\n",
    "\n",
    "adata_raw = adata[:,adata.var['feature_types'].isin(['Gene Expression'])].copy()\n",
    "\n",
    "adata_raw.write_h5ad(output_path+f'{date}_{cells}_{cas}_raw_scanpy_aggr.h5ad')"
   ]
  },
  {
   "cell_type": "markdown",
   "id": "7da1674d",
   "metadata": {},
   "source": [
    "# Create GEX matrix with some preliminary metadata"
   ]
  },
  {
   "cell_type": "code",
   "execution_count": 28,
   "id": "81013067",
   "metadata": {},
   "outputs": [
    {
     "data": {
      "text/html": [
       "<div>\n",
       "<style scoped>\n",
       "    .dataframe tbody tr th:only-of-type {\n",
       "        vertical-align: middle;\n",
       "    }\n",
       "\n",
       "    .dataframe tbody tr th {\n",
       "        vertical-align: top;\n",
       "    }\n",
       "\n",
       "    .dataframe thead th {\n",
       "        text-align: right;\n",
       "    }\n",
       "</style>\n",
       "<table border=\"1\" class=\"dataframe\">\n",
       "  <thead>\n",
       "    <tr style=\"text-align: right;\">\n",
       "      <th></th>\n",
       "      <th>cell_barcode</th>\n",
       "      <th>num_features</th>\n",
       "      <th>feature_call</th>\n",
       "      <th>num_umis</th>\n",
       "    </tr>\n",
       "  </thead>\n",
       "  <tbody>\n",
       "    <tr>\n",
       "      <th>0</th>\n",
       "      <td>AAAGTCCAGAAGGATG-1</td>\n",
       "      <td>1</td>\n",
       "      <td>127_ADAM10_P1P2_ENSG00000137845</td>\n",
       "      <td>3758</td>\n",
       "    </tr>\n",
       "    <tr>\n",
       "      <th>1</th>\n",
       "      <td>AAGTGAATCGGAAGGT-1</td>\n",
       "      <td>1</td>\n",
       "      <td>127_ADAM10_P1P2_ENSG00000137845</td>\n",
       "      <td>3422</td>\n",
       "    </tr>\n",
       "    <tr>\n",
       "      <th>2</th>\n",
       "      <td>AATCGTGGTCGAACAG-1</td>\n",
       "      <td>1</td>\n",
       "      <td>127_ADAM10_P1P2_ENSG00000137845</td>\n",
       "      <td>896</td>\n",
       "    </tr>\n",
       "    <tr>\n",
       "      <th>3</th>\n",
       "      <td>AATGAAGGTGGACAGT-1</td>\n",
       "      <td>1</td>\n",
       "      <td>127_ADAM10_P1P2_ENSG00000137845</td>\n",
       "      <td>3469</td>\n",
       "    </tr>\n",
       "    <tr>\n",
       "      <th>4</th>\n",
       "      <td>AATGAAGTCATCAGTG-1</td>\n",
       "      <td>1</td>\n",
       "      <td>127_ADAM10_P1P2_ENSG00000137845</td>\n",
       "      <td>3664</td>\n",
       "    </tr>\n",
       "    <tr>\n",
       "      <th>...</th>\n",
       "      <td>...</td>\n",
       "      <td>...</td>\n",
       "      <td>...</td>\n",
       "      <td>...</td>\n",
       "    </tr>\n",
       "    <tr>\n",
       "      <th>23139</th>\n",
       "      <td>GACTCTCGTACTGAGG-1</td>\n",
       "      <td>1</td>\n",
       "      <td>non-targeting_gfp</td>\n",
       "      <td>507</td>\n",
       "    </tr>\n",
       "    <tr>\n",
       "      <th>23140</th>\n",
       "      <td>TGTGAGTAGCTAGAAT-1</td>\n",
       "      <td>1</td>\n",
       "      <td>non-targeting_gfp</td>\n",
       "      <td>162</td>\n",
       "    </tr>\n",
       "    <tr>\n",
       "      <th>23141</th>\n",
       "      <td>TTTCACACAATACAGA-1</td>\n",
       "      <td>1</td>\n",
       "      <td>non-targeting_gfp</td>\n",
       "      <td>61</td>\n",
       "    </tr>\n",
       "    <tr>\n",
       "      <th>23142</th>\n",
       "      <td>GCCTGTTTCTATCGGA-2</td>\n",
       "      <td>1</td>\n",
       "      <td>non-targeting_gfp</td>\n",
       "      <td>255</td>\n",
       "    </tr>\n",
       "    <tr>\n",
       "      <th>23143</th>\n",
       "      <td>GTGACGCCAGACAATA-2</td>\n",
       "      <td>1</td>\n",
       "      <td>non-targeting_gfp</td>\n",
       "      <td>2465</td>\n",
       "    </tr>\n",
       "  </tbody>\n",
       "</table>\n",
       "<p>23144 rows × 4 columns</p>\n",
       "</div>"
      ],
      "text/plain": [
       "             cell_barcode  num_features                     feature_call  \\\n",
       "0      AAAGTCCAGAAGGATG-1             1  127_ADAM10_P1P2_ENSG00000137845   \n",
       "1      AAGTGAATCGGAAGGT-1             1  127_ADAM10_P1P2_ENSG00000137845   \n",
       "2      AATCGTGGTCGAACAG-1             1  127_ADAM10_P1P2_ENSG00000137845   \n",
       "3      AATGAAGGTGGACAGT-1             1  127_ADAM10_P1P2_ENSG00000137845   \n",
       "4      AATGAAGTCATCAGTG-1             1  127_ADAM10_P1P2_ENSG00000137845   \n",
       "...                   ...           ...                              ...   \n",
       "23139  GACTCTCGTACTGAGG-1             1                non-targeting_gfp   \n",
       "23140  TGTGAGTAGCTAGAAT-1             1                non-targeting_gfp   \n",
       "23141  TTTCACACAATACAGA-1             1                non-targeting_gfp   \n",
       "23142  GCCTGTTTCTATCGGA-2             1                non-targeting_gfp   \n",
       "23143  GTGACGCCAGACAATA-2             1                non-targeting_gfp   \n",
       "\n",
       "      num_umis  \n",
       "0         3758  \n",
       "1         3422  \n",
       "2          896  \n",
       "3         3469  \n",
       "4         3664  \n",
       "...        ...  \n",
       "23139      507  \n",
       "23140      162  \n",
       "23141       61  \n",
       "23142      255  \n",
       "23143     2465  \n",
       "\n",
       "[23144 rows x 4 columns]"
      ]
     },
     "execution_count": 28,
     "metadata": {},
     "output_type": "execute_result"
    }
   ],
   "source": [
    "guide_calls_10x"
   ]
  },
  {
   "cell_type": "code",
   "execution_count": 29,
   "id": "49d1bc7f",
   "metadata": {},
   "outputs": [],
   "source": [
    "guide_calls_10x['guide_identity'] = guide_calls_10x.feature_call.map(lambda x: x.split('|'))\n",
    "guide_calls_10x['guide_umi_count'] = guide_calls_10x.num_umis.map(lambda x: x.split('|'))\n",
    "\n",
    "cells_by_guide = guide_calls_10x.set_index(['cell_barcode','num_features','feature_call','num_umis']).apply(pd.Series.explode).reset_index()\n",
    "cells_by_guide['guide_umi_count'] = cells_by_guide['guide_umi_count'].astype('int32')"
   ]
  },
  {
   "cell_type": "code",
   "execution_count": 30,
   "id": "58139946",
   "metadata": {},
   "outputs": [
    {
     "data": {
      "text/plain": [
       "guide_identity\n",
       "6670_PPP1R37_P1P2_ENSG00000104866     6\n",
       "815_BDP1_P1P2_ENSG00000145734        10\n",
       "non-targeting_02622                  10\n",
       "non-targeting_02969                  11\n",
       "6559_POLR3E_P1P2_ENSG00000058600     11\n",
       "                                     ..\n",
       "5891_NUP205_P1P2_ENSG00000155561     49\n",
       "non-targeting_03602                  54\n",
       "4932_MED12_P1P2_ENSG00000184634      55\n",
       "7449_RPL23A_P1P2_ENSG00000198242     61\n",
       "non-targeting_gfp                    61\n",
       "Name: guide_umi_count, Length: 156, dtype: int32"
      ]
     },
     "execution_count": 30,
     "metadata": {},
     "output_type": "execute_result"
    }
   ],
   "source": [
    "cells_by_guide.groupby('guide_identity').guide_umi_count.min().sort_values()"
   ]
  },
  {
   "cell_type": "code",
   "execution_count": 31,
   "id": "fc8b8545",
   "metadata": {},
   "outputs": [
    {
     "data": {
      "text/html": [
       "<div>\n",
       "<style scoped>\n",
       "    .dataframe tbody tr th:only-of-type {\n",
       "        vertical-align: middle;\n",
       "    }\n",
       "\n",
       "    .dataframe tbody tr th {\n",
       "        vertical-align: top;\n",
       "    }\n",
       "\n",
       "    .dataframe thead th {\n",
       "        text-align: right;\n",
       "    }\n",
       "</style>\n",
       "<table border=\"1\" class=\"dataframe\">\n",
       "  <thead>\n",
       "    <tr style=\"text-align: right;\">\n",
       "      <th></th>\n",
       "      <th>number_of_cells</th>\n",
       "      <th>num_features</th>\n",
       "      <th>feature_call</th>\n",
       "      <th>num_umis</th>\n",
       "      <th>guide_identity</th>\n",
       "      <th>guide_umi_count</th>\n",
       "      <th>good_coverage</th>\n",
       "      <th>gem_group</th>\n",
       "    </tr>\n",
       "    <tr>\n",
       "      <th>cell_barcode</th>\n",
       "      <th></th>\n",
       "      <th></th>\n",
       "      <th></th>\n",
       "      <th></th>\n",
       "      <th></th>\n",
       "      <th></th>\n",
       "      <th></th>\n",
       "      <th></th>\n",
       "    </tr>\n",
       "  </thead>\n",
       "  <tbody>\n",
       "    <tr>\n",
       "      <th>AAACCCAAGAGGTCAC-2</th>\n",
       "      <td>1</td>\n",
       "      <td>1</td>\n",
       "      <td>5339_MTOR_P1P2_ENSG00000198793</td>\n",
       "      <td>1102</td>\n",
       "      <td>5339_MTOR_P1P2_ENSG00000198793</td>\n",
       "      <td>1102</td>\n",
       "      <td>True</td>\n",
       "      <td>2</td>\n",
       "    </tr>\n",
       "    <tr>\n",
       "      <th>AAACCCAAGGAGGTTC-1</th>\n",
       "      <td>1</td>\n",
       "      <td>1</td>\n",
       "      <td>9691_UXT_P1P2_ENSG00000126756</td>\n",
       "      <td>1382</td>\n",
       "      <td>9691_UXT_P1P2_ENSG00000126756</td>\n",
       "      <td>1382</td>\n",
       "      <td>True</td>\n",
       "      <td>1</td>\n",
       "    </tr>\n",
       "    <tr>\n",
       "      <th>AAACCCAAGGGATCAC-2</th>\n",
       "      <td>1</td>\n",
       "      <td>1</td>\n",
       "      <td>3570_GTF2E2_P1P2_ENSG00000197265</td>\n",
       "      <td>2208</td>\n",
       "      <td>3570_GTF2E2_P1P2_ENSG00000197265</td>\n",
       "      <td>2208</td>\n",
       "      <td>True</td>\n",
       "      <td>2</td>\n",
       "    </tr>\n",
       "    <tr>\n",
       "      <th>AAACCCACACGAGAAC-1</th>\n",
       "      <td>1</td>\n",
       "      <td>1</td>\n",
       "      <td>7538_RPS8_P1P2_ENSG00000142937</td>\n",
       "      <td>273</td>\n",
       "      <td>7538_RPS8_P1P2_ENSG00000142937</td>\n",
       "      <td>273</td>\n",
       "      <td>True</td>\n",
       "      <td>1</td>\n",
       "    </tr>\n",
       "    <tr>\n",
       "      <th>AAACCCACATGGCTAT-2</th>\n",
       "      <td>3</td>\n",
       "      <td>3</td>\n",
       "      <td>2795_EXOSC8_P1P2_ENSG00000120699|5339_MTOR_P1P...</td>\n",
       "      <td>186|294|722</td>\n",
       "      <td>2795_EXOSC8_P1P2_ENSG00000120699</td>\n",
       "      <td>186</td>\n",
       "      <td>True</td>\n",
       "      <td>2</td>\n",
       "    </tr>\n",
       "  </tbody>\n",
       "</table>\n",
       "</div>"
      ],
      "text/plain": [
       "                    number_of_cells  num_features  \\\n",
       "cell_barcode                                        \n",
       "AAACCCAAGAGGTCAC-2                1             1   \n",
       "AAACCCAAGGAGGTTC-1                1             1   \n",
       "AAACCCAAGGGATCAC-2                1             1   \n",
       "AAACCCACACGAGAAC-1                1             1   \n",
       "AAACCCACATGGCTAT-2                3             3   \n",
       "\n",
       "                                                         feature_call  \\\n",
       "cell_barcode                                                            \n",
       "AAACCCAAGAGGTCAC-2                     5339_MTOR_P1P2_ENSG00000198793   \n",
       "AAACCCAAGGAGGTTC-1                      9691_UXT_P1P2_ENSG00000126756   \n",
       "AAACCCAAGGGATCAC-2                   3570_GTF2E2_P1P2_ENSG00000197265   \n",
       "AAACCCACACGAGAAC-1                     7538_RPS8_P1P2_ENSG00000142937   \n",
       "AAACCCACATGGCTAT-2  2795_EXOSC8_P1P2_ENSG00000120699|5339_MTOR_P1P...   \n",
       "\n",
       "                       num_umis                    guide_identity  \\\n",
       "cell_barcode                                                        \n",
       "AAACCCAAGAGGTCAC-2         1102    5339_MTOR_P1P2_ENSG00000198793   \n",
       "AAACCCAAGGAGGTTC-1         1382     9691_UXT_P1P2_ENSG00000126756   \n",
       "AAACCCAAGGGATCAC-2         2208  3570_GTF2E2_P1P2_ENSG00000197265   \n",
       "AAACCCACACGAGAAC-1          273    7538_RPS8_P1P2_ENSG00000142937   \n",
       "AAACCCACATGGCTAT-2  186|294|722  2795_EXOSC8_P1P2_ENSG00000120699   \n",
       "\n",
       "                    guide_umi_count  good_coverage gem_group  \n",
       "cell_barcode                                                  \n",
       "AAACCCAAGAGGTCAC-2             1102           True         2  \n",
       "AAACCCAAGGAGGTTC-1             1382           True         1  \n",
       "AAACCCAAGGGATCAC-2             2208           True         2  \n",
       "AAACCCACACGAGAAC-1              273           True         1  \n",
       "AAACCCACATGGCTAT-2              186           True         2  "
      ]
     },
     "execution_count": 31,
     "metadata": {},
     "output_type": "execute_result"
    }
   ],
   "source": [
    "#number of cells called per droplet\n",
    "UMI_cutoff= 5\n",
    "\n",
    "#filter to catch any guide calls that were given too low of a threshold\n",
    "filtered_calls = cells_by_guide[cells_by_guide.guide_umi_count >= UMI_cutoff]\n",
    "\n",
    "num_cells = filtered_calls.groupby('cell_barcode').guide_identity.count().reset_index()\n",
    "\n",
    "\n",
    "cell_identities = pd.merge(num_cells.rename(columns = {'guide_identity': 'number_of_cells'}), filtered_calls, on = 'cell_barcode')\n",
    "\n",
    "cell_identities['good_coverage'] = True\n",
    "\n",
    "cell_identities['gem_group'] = cell_identities.cell_barcode.str.split('-').str[1]\n",
    "\n",
    "cell_identities.set_index('cell_barcode', inplace = True)\n",
    "\n",
    "cell_identities.head()"
   ]
  },
  {
   "cell_type": "code",
   "execution_count": 32,
   "id": "f3e8e678",
   "metadata": {},
   "outputs": [],
   "source": [
    "import six\n",
    "\n",
    "name_replacer = {'C3orf72': 'FOXL2NB',\n",
    "                 'C19orf26': 'CBARP',\n",
    "                 'KIAA1804': 'RP5-862P8.2',\n",
    "                 'RHOXF2': 'RHOXF2B',\n",
    "                }\n",
    "\n",
    "cell_identities['guide_target'] = cell_identities['guide_identity'].map(lambda x: x.split('__')[0] if isinstance(x, six.string_types) else 'no_id')\n",
    "cell_identities['guide_target'] = cell_identities['guide_target'].map(lambda x: x.split('_')[0])\n",
    "cell_identities['guide_target'] = cell_identities['guide_target'].map(lambda x: name_replacer.get(x, x))\n",
    "cell_identities['perturbed'] = cell_identities['guide_target'].map(lambda x: 'control' if 'negative' in x else x)"
   ]
  },
  {
   "cell_type": "code",
   "execution_count": 34,
   "id": "2fafbef3",
   "metadata": {},
   "outputs": [],
   "source": [
    "full = cell_identities[(cell_identities['number_of_cells'] > 0)]\n",
    "\n",
    "full_top_UMI = full.sort_values('guide_umi_count', ascending = False).groupby(level = 0).first()"
   ]
  },
  {
   "cell_type": "code",
   "execution_count": 40,
   "id": "f332892c",
   "metadata": {},
   "outputs": [],
   "source": [
    "adata_gex.var = adata_gex.var.rename(columns={'gene_ids': 'gene_id'}).reset_index().set_index('gene_id').rename(columns={'index': 'gene_name'})\n",
    "\n",
    "adata_gex.obs['UMI_count'] = adata_gex.X.sum(axis=1)\n",
    "\n",
    "adata_gex.obs = pd.merge(adata_gex.obs, full_top_UMI, left_index=True, right_index=True, how='left')"
   ]
  },
  {
   "cell_type": "code",
   "execution_count": 41,
   "id": "267394d2",
   "metadata": {},
   "outputs": [],
   "source": [
    "#remove droplets without a guide assignment\n",
    "adata_gex = adata_gex[~adata_gex.obs['feature_call'].isnull()].copy()"
   ]
  },
  {
   "cell_type": "code",
   "execution_count": 42,
   "id": "efc34c47",
   "metadata": {},
   "outputs": [],
   "source": [
    "adata_gex.var['mean'] = pd.Series(adata_gex.X.mean(axis=0).A.flatten(), index=adata_gex.var.index)\n",
    "\n",
    "#adata_gex = adata_gex[:, adata_gex.var['mean'] >= 0.05].copy() do not do this!!! (this was the culprit)\n",
    "#adata_gex.var['in_matrix'] = True"
   ]
  },
  {
   "cell_type": "markdown",
   "id": "60c37e02",
   "metadata": {},
   "source": [
    "# EXPORT GEX with guide assignments\n",
    "\n",
    "here thresdholded features is formated like the feature calls from 10x, but is created from the actual guide calls using raw UMI counts"
   ]
  },
  {
   "cell_type": "code",
   "execution_count": 43,
   "id": "43e2bef4",
   "metadata": {},
   "outputs": [
    {
     "name": "stderr",
     "output_type": "stream",
     "text": [
      "... storing 'dataset' as categorical\n",
      "... storing 'feature_call' as categorical\n",
      "... storing 'num_umis' as categorical\n",
      "... storing 'guide_identity' as categorical\n",
      "... storing 'gem_group' as categorical\n",
      "... storing 'guide_target' as categorical\n",
      "... storing 'perturbed' as categorical\n",
      "... storing 'feature_types' as categorical\n",
      "... storing 'genome' as categorical\n"
     ]
    }
   ],
   "source": [
    "#write out scanpy file with metdadata\n",
    "adata_gex.write_h5ad(output_path+f'{date}_{cells}_{cas}_scanpy_from_cellranger_aggr_singlets_and_multiplets_{thres}umi_cellranger_guide_calls.h5ad')"
   ]
  },
  {
   "cell_type": "code",
   "execution_count": 46,
   "id": "2236b206",
   "metadata": {},
   "outputs": [],
   "source": [
    "#create design matrix for single and multicells\n",
    "full_design_matrix = full['guide_identity'].groupby(level = 0).apply(lambda x: '|'.join(x.astype(str))).str.get_dummies(sep='|')"
   ]
  },
  {
   "cell_type": "code",
   "execution_count": 47,
   "id": "46031f2c",
   "metadata": {},
   "outputs": [],
   "source": [
    "#save design matrix to csv\n",
    "full_design_matrix.to_csv(output_path+f'{date}_{cells}_{cas}_full_design_matrix_guide_identity.csv')"
   ]
  },
  {
   "cell_type": "code",
   "execution_count": null,
   "id": "3987f724",
   "metadata": {},
   "outputs": [],
   "source": []
  }
 ],
 "metadata": {
  "kernelspec": {
   "display_name": "Python [conda env:analysisKS01]",
   "language": "python",
   "name": "conda-env-analysisKS01-py"
  },
  "language_info": {
   "codemirror_mode": {
    "name": "ipython",
    "version": 3
   },
   "file_extension": ".py",
   "mimetype": "text/x-python",
   "name": "python",
   "nbconvert_exporter": "python",
   "pygments_lexer": "ipython3",
   "version": "3.7.7"
  }
 },
 "nbformat": 4,
 "nbformat_minor": 5
}
