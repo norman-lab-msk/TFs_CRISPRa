{
 "cells": [
  {
   "cell_type": "code",
   "execution_count": 1,
   "id": "eb3f7f1c",
   "metadata": {},
   "outputs": [
    {
     "data": {
      "text/html": [
       "\n",
       "    <div class=\"bk-root\">\n",
       "        <a href=\"https://bokeh.org\" target=\"_blank\" class=\"bk-logo bk-logo-small bk-logo-notebook\"></a>\n",
       "        <span id=\"1002\">Loading BokehJS ...</span>\n",
       "    </div>"
      ]
     },
     "metadata": {},
     "output_type": "display_data"
    },
    {
     "data": {
      "application/javascript": [
       "\n",
       "(function(root) {\n",
       "  function now() {\n",
       "    return new Date();\n",
       "  }\n",
       "\n",
       "  const force = true;\n",
       "\n",
       "  if (typeof root._bokeh_onload_callbacks === \"undefined\" || force === true) {\n",
       "    root._bokeh_onload_callbacks = [];\n",
       "    root._bokeh_is_loading = undefined;\n",
       "  }\n",
       "\n",
       "  const JS_MIME_TYPE = 'application/javascript';\n",
       "  const HTML_MIME_TYPE = 'text/html';\n",
       "  const EXEC_MIME_TYPE = 'application/vnd.bokehjs_exec.v0+json';\n",
       "  const CLASS_NAME = 'output_bokeh rendered_html';\n",
       "\n",
       "  /**\n",
       "   * Render data to the DOM node\n",
       "   */\n",
       "  function render(props, node) {\n",
       "    const script = document.createElement(\"script\");\n",
       "    node.appendChild(script);\n",
       "  }\n",
       "\n",
       "  /**\n",
       "   * Handle when an output is cleared or removed\n",
       "   */\n",
       "  function handleClearOutput(event, handle) {\n",
       "    const cell = handle.cell;\n",
       "\n",
       "    const id = cell.output_area._bokeh_element_id;\n",
       "    const server_id = cell.output_area._bokeh_server_id;\n",
       "    // Clean up Bokeh references\n",
       "    if (id != null && id in Bokeh.index) {\n",
       "      Bokeh.index[id].model.document.clear();\n",
       "      delete Bokeh.index[id];\n",
       "    }\n",
       "\n",
       "    if (server_id !== undefined) {\n",
       "      // Clean up Bokeh references\n",
       "      const cmd_clean = \"from bokeh.io.state import curstate; print(curstate().uuid_to_server['\" + server_id + \"'].get_sessions()[0].document.roots[0]._id)\";\n",
       "      cell.notebook.kernel.execute(cmd_clean, {\n",
       "        iopub: {\n",
       "          output: function(msg) {\n",
       "            const id = msg.content.text.trim();\n",
       "            if (id in Bokeh.index) {\n",
       "              Bokeh.index[id].model.document.clear();\n",
       "              delete Bokeh.index[id];\n",
       "            }\n",
       "          }\n",
       "        }\n",
       "      });\n",
       "      // Destroy server and session\n",
       "      const cmd_destroy = \"import bokeh.io.notebook as ion; ion.destroy_server('\" + server_id + \"')\";\n",
       "      cell.notebook.kernel.execute(cmd_destroy);\n",
       "    }\n",
       "  }\n",
       "\n",
       "  /**\n",
       "   * Handle when a new output is added\n",
       "   */\n",
       "  function handleAddOutput(event, handle) {\n",
       "    const output_area = handle.output_area;\n",
       "    const output = handle.output;\n",
       "\n",
       "    // limit handleAddOutput to display_data with EXEC_MIME_TYPE content only\n",
       "    if ((output.output_type != \"display_data\") || (!Object.prototype.hasOwnProperty.call(output.data, EXEC_MIME_TYPE))) {\n",
       "      return\n",
       "    }\n",
       "\n",
       "    const toinsert = output_area.element.find(\".\" + CLASS_NAME.split(' ')[0]);\n",
       "\n",
       "    if (output.metadata[EXEC_MIME_TYPE][\"id\"] !== undefined) {\n",
       "      toinsert[toinsert.length - 1].firstChild.textContent = output.data[JS_MIME_TYPE];\n",
       "      // store reference to embed id on output_area\n",
       "      output_area._bokeh_element_id = output.metadata[EXEC_MIME_TYPE][\"id\"];\n",
       "    }\n",
       "    if (output.metadata[EXEC_MIME_TYPE][\"server_id\"] !== undefined) {\n",
       "      const bk_div = document.createElement(\"div\");\n",
       "      bk_div.innerHTML = output.data[HTML_MIME_TYPE];\n",
       "      const script_attrs = bk_div.children[0].attributes;\n",
       "      for (let i = 0; i < script_attrs.length; i++) {\n",
       "        toinsert[toinsert.length - 1].firstChild.setAttribute(script_attrs[i].name, script_attrs[i].value);\n",
       "        toinsert[toinsert.length - 1].firstChild.textContent = bk_div.children[0].textContent\n",
       "      }\n",
       "      // store reference to server id on output_area\n",
       "      output_area._bokeh_server_id = output.metadata[EXEC_MIME_TYPE][\"server_id\"];\n",
       "    }\n",
       "  }\n",
       "\n",
       "  function register_renderer(events, OutputArea) {\n",
       "\n",
       "    function append_mime(data, metadata, element) {\n",
       "      // create a DOM node to render to\n",
       "      const toinsert = this.create_output_subarea(\n",
       "        metadata,\n",
       "        CLASS_NAME,\n",
       "        EXEC_MIME_TYPE\n",
       "      );\n",
       "      this.keyboard_manager.register_events(toinsert);\n",
       "      // Render to node\n",
       "      const props = {data: data, metadata: metadata[EXEC_MIME_TYPE]};\n",
       "      render(props, toinsert[toinsert.length - 1]);\n",
       "      element.append(toinsert);\n",
       "      return toinsert\n",
       "    }\n",
       "\n",
       "    /* Handle when an output is cleared or removed */\n",
       "    events.on('clear_output.CodeCell', handleClearOutput);\n",
       "    events.on('delete.Cell', handleClearOutput);\n",
       "\n",
       "    /* Handle when a new output is added */\n",
       "    events.on('output_added.OutputArea', handleAddOutput);\n",
       "\n",
       "    /**\n",
       "     * Register the mime type and append_mime function with output_area\n",
       "     */\n",
       "    OutputArea.prototype.register_mime_type(EXEC_MIME_TYPE, append_mime, {\n",
       "      /* Is output safe? */\n",
       "      safe: true,\n",
       "      /* Index of renderer in `output_area.display_order` */\n",
       "      index: 0\n",
       "    });\n",
       "  }\n",
       "\n",
       "  // register the mime type if in Jupyter Notebook environment and previously unregistered\n",
       "  if (root.Jupyter !== undefined) {\n",
       "    const events = require('base/js/events');\n",
       "    const OutputArea = require('notebook/js/outputarea').OutputArea;\n",
       "\n",
       "    if (OutputArea.prototype.mime_types().indexOf(EXEC_MIME_TYPE) == -1) {\n",
       "      register_renderer(events, OutputArea);\n",
       "    }\n",
       "  }\n",
       "\n",
       "  \n",
       "  if (typeof (root._bokeh_timeout) === \"undefined\" || force === true) {\n",
       "    root._bokeh_timeout = Date.now() + 5000;\n",
       "    root._bokeh_failed_load = false;\n",
       "  }\n",
       "\n",
       "  const NB_LOAD_WARNING = {'data': {'text/html':\n",
       "     \"<div style='background-color: #fdd'>\\n\"+\n",
       "     \"<p>\\n\"+\n",
       "     \"BokehJS does not appear to have successfully loaded. If loading BokehJS from CDN, this \\n\"+\n",
       "     \"may be due to a slow or bad network connection. Possible fixes:\\n\"+\n",
       "     \"</p>\\n\"+\n",
       "     \"<ul>\\n\"+\n",
       "     \"<li>re-rerun `output_notebook()` to attempt to load from CDN again, or</li>\\n\"+\n",
       "     \"<li>use INLINE resources instead, as so:</li>\\n\"+\n",
       "     \"</ul>\\n\"+\n",
       "     \"<code>\\n\"+\n",
       "     \"from bokeh.resources import INLINE\\n\"+\n",
       "     \"output_notebook(resources=INLINE)\\n\"+\n",
       "     \"</code>\\n\"+\n",
       "     \"</div>\"}};\n",
       "\n",
       "  function display_loaded() {\n",
       "    const el = document.getElementById(\"1002\");\n",
       "    if (el != null) {\n",
       "      el.textContent = \"BokehJS is loading...\";\n",
       "    }\n",
       "    if (root.Bokeh !== undefined) {\n",
       "      if (el != null) {\n",
       "        el.textContent = \"BokehJS \" + root.Bokeh.version + \" successfully loaded.\";\n",
       "      }\n",
       "    } else if (Date.now() < root._bokeh_timeout) {\n",
       "      setTimeout(display_loaded, 100)\n",
       "    }\n",
       "  }\n",
       "\n",
       "\n",
       "  function run_callbacks() {\n",
       "    try {\n",
       "      root._bokeh_onload_callbacks.forEach(function(callback) {\n",
       "        if (callback != null)\n",
       "          callback();\n",
       "      });\n",
       "    } finally {\n",
       "      delete root._bokeh_onload_callbacks\n",
       "    }\n",
       "    console.debug(\"Bokeh: all callbacks have finished\");\n",
       "  }\n",
       "\n",
       "  function load_libs(css_urls, js_urls, callback) {\n",
       "    if (css_urls == null) css_urls = [];\n",
       "    if (js_urls == null) js_urls = [];\n",
       "\n",
       "    root._bokeh_onload_callbacks.push(callback);\n",
       "    if (root._bokeh_is_loading > 0) {\n",
       "      console.debug(\"Bokeh: BokehJS is being loaded, scheduling callback at\", now());\n",
       "      return null;\n",
       "    }\n",
       "    if (js_urls == null || js_urls.length === 0) {\n",
       "      run_callbacks();\n",
       "      return null;\n",
       "    }\n",
       "    console.debug(\"Bokeh: BokehJS not loaded, scheduling load and callback at\", now());\n",
       "    root._bokeh_is_loading = css_urls.length + js_urls.length;\n",
       "\n",
       "    function on_load() {\n",
       "      root._bokeh_is_loading--;\n",
       "      if (root._bokeh_is_loading === 0) {\n",
       "        console.debug(\"Bokeh: all BokehJS libraries/stylesheets loaded\");\n",
       "        run_callbacks()\n",
       "      }\n",
       "    }\n",
       "\n",
       "    function on_error(url) {\n",
       "      console.error(\"failed to load \" + url);\n",
       "    }\n",
       "\n",
       "    for (let i = 0; i < css_urls.length; i++) {\n",
       "      const url = css_urls[i];\n",
       "      const element = document.createElement(\"link\");\n",
       "      element.onload = on_load;\n",
       "      element.onerror = on_error.bind(null, url);\n",
       "      element.rel = \"stylesheet\";\n",
       "      element.type = \"text/css\";\n",
       "      element.href = url;\n",
       "      console.debug(\"Bokeh: injecting link tag for BokehJS stylesheet: \", url);\n",
       "      document.body.appendChild(element);\n",
       "    }\n",
       "\n",
       "    for (let i = 0; i < js_urls.length; i++) {\n",
       "      const url = js_urls[i];\n",
       "      const element = document.createElement('script');\n",
       "      element.onload = on_load;\n",
       "      element.onerror = on_error.bind(null, url);\n",
       "      element.async = false;\n",
       "      element.src = url;\n",
       "      console.debug(\"Bokeh: injecting script tag for BokehJS library: \", url);\n",
       "      document.head.appendChild(element);\n",
       "    }\n",
       "  };\n",
       "\n",
       "  function inject_raw_css(css) {\n",
       "    const element = document.createElement(\"style\");\n",
       "    element.appendChild(document.createTextNode(css));\n",
       "    document.body.appendChild(element);\n",
       "  }\n",
       "\n",
       "  \n",
       "  const js_urls = [\"https://cdn.bokeh.org/bokeh/release/bokeh-2.4.1.min.js\", \"https://cdn.bokeh.org/bokeh/release/bokeh-gl-2.4.1.min.js\", \"https://cdn.bokeh.org/bokeh/release/bokeh-widgets-2.4.1.min.js\", \"https://cdn.bokeh.org/bokeh/release/bokeh-tables-2.4.1.min.js\", \"https://cdn.bokeh.org/bokeh/release/bokeh-mathjax-2.4.1.min.js\"];\n",
       "  const css_urls = [];\n",
       "  \n",
       "\n",
       "  const inline_js = [\n",
       "    function(Bokeh) {\n",
       "      Bokeh.set_log_level(\"info\");\n",
       "    },\n",
       "    function(Bokeh) {\n",
       "    \n",
       "    \n",
       "    }\n",
       "  ];\n",
       "\n",
       "  function run_inline_js() {\n",
       "    \n",
       "    if (root.Bokeh !== undefined || force === true) {\n",
       "      \n",
       "    for (let i = 0; i < inline_js.length; i++) {\n",
       "      inline_js[i].call(root, root.Bokeh);\n",
       "    }\n",
       "    if (force === true) {\n",
       "        display_loaded();\n",
       "      }} else if (Date.now() < root._bokeh_timeout) {\n",
       "      setTimeout(run_inline_js, 100);\n",
       "    } else if (!root._bokeh_failed_load) {\n",
       "      console.log(\"Bokeh: BokehJS failed to load within specified timeout.\");\n",
       "      root._bokeh_failed_load = true;\n",
       "    } else if (force !== true) {\n",
       "      const cell = $(document.getElementById(\"1002\")).parents('.cell').data().cell;\n",
       "      cell.output_area.append_execute_result(NB_LOAD_WARNING)\n",
       "    }\n",
       "\n",
       "  }\n",
       "\n",
       "  if (root._bokeh_is_loading === 0) {\n",
       "    console.debug(\"Bokeh: BokehJS loaded, going straight to plotting\");\n",
       "    run_inline_js();\n",
       "  } else {\n",
       "    load_libs(css_urls, js_urls, function() {\n",
       "      console.debug(\"Bokeh: BokehJS plotting callback run at\", now());\n",
       "      run_inline_js();\n",
       "    });\n",
       "  }\n",
       "}(window));"
      ],
      "application/vnd.bokehjs_load.v0+json": "\n(function(root) {\n  function now() {\n    return new Date();\n  }\n\n  const force = true;\n\n  if (typeof root._bokeh_onload_callbacks === \"undefined\" || force === true) {\n    root._bokeh_onload_callbacks = [];\n    root._bokeh_is_loading = undefined;\n  }\n\n  \n\n  \n  if (typeof (root._bokeh_timeout) === \"undefined\" || force === true) {\n    root._bokeh_timeout = Date.now() + 5000;\n    root._bokeh_failed_load = false;\n  }\n\n  const NB_LOAD_WARNING = {'data': {'text/html':\n     \"<div style='background-color: #fdd'>\\n\"+\n     \"<p>\\n\"+\n     \"BokehJS does not appear to have successfully loaded. If loading BokehJS from CDN, this \\n\"+\n     \"may be due to a slow or bad network connection. Possible fixes:\\n\"+\n     \"</p>\\n\"+\n     \"<ul>\\n\"+\n     \"<li>re-rerun `output_notebook()` to attempt to load from CDN again, or</li>\\n\"+\n     \"<li>use INLINE resources instead, as so:</li>\\n\"+\n     \"</ul>\\n\"+\n     \"<code>\\n\"+\n     \"from bokeh.resources import INLINE\\n\"+\n     \"output_notebook(resources=INLINE)\\n\"+\n     \"</code>\\n\"+\n     \"</div>\"}};\n\n  function display_loaded() {\n    const el = document.getElementById(\"1002\");\n    if (el != null) {\n      el.textContent = \"BokehJS is loading...\";\n    }\n    if (root.Bokeh !== undefined) {\n      if (el != null) {\n        el.textContent = \"BokehJS \" + root.Bokeh.version + \" successfully loaded.\";\n      }\n    } else if (Date.now() < root._bokeh_timeout) {\n      setTimeout(display_loaded, 100)\n    }\n  }\n\n\n  function run_callbacks() {\n    try {\n      root._bokeh_onload_callbacks.forEach(function(callback) {\n        if (callback != null)\n          callback();\n      });\n    } finally {\n      delete root._bokeh_onload_callbacks\n    }\n    console.debug(\"Bokeh: all callbacks have finished\");\n  }\n\n  function load_libs(css_urls, js_urls, callback) {\n    if (css_urls == null) css_urls = [];\n    if (js_urls == null) js_urls = [];\n\n    root._bokeh_onload_callbacks.push(callback);\n    if (root._bokeh_is_loading > 0) {\n      console.debug(\"Bokeh: BokehJS is being loaded, scheduling callback at\", now());\n      return null;\n    }\n    if (js_urls == null || js_urls.length === 0) {\n      run_callbacks();\n      return null;\n    }\n    console.debug(\"Bokeh: BokehJS not loaded, scheduling load and callback at\", now());\n    root._bokeh_is_loading = css_urls.length + js_urls.length;\n\n    function on_load() {\n      root._bokeh_is_loading--;\n      if (root._bokeh_is_loading === 0) {\n        console.debug(\"Bokeh: all BokehJS libraries/stylesheets loaded\");\n        run_callbacks()\n      }\n    }\n\n    function on_error(url) {\n      console.error(\"failed to load \" + url);\n    }\n\n    for (let i = 0; i < css_urls.length; i++) {\n      const url = css_urls[i];\n      const element = document.createElement(\"link\");\n      element.onload = on_load;\n      element.onerror = on_error.bind(null, url);\n      element.rel = \"stylesheet\";\n      element.type = \"text/css\";\n      element.href = url;\n      console.debug(\"Bokeh: injecting link tag for BokehJS stylesheet: \", url);\n      document.body.appendChild(element);\n    }\n\n    for (let i = 0; i < js_urls.length; i++) {\n      const url = js_urls[i];\n      const element = document.createElement('script');\n      element.onload = on_load;\n      element.onerror = on_error.bind(null, url);\n      element.async = false;\n      element.src = url;\n      console.debug(\"Bokeh: injecting script tag for BokehJS library: \", url);\n      document.head.appendChild(element);\n    }\n  };\n\n  function inject_raw_css(css) {\n    const element = document.createElement(\"style\");\n    element.appendChild(document.createTextNode(css));\n    document.body.appendChild(element);\n  }\n\n  \n  const js_urls = [\"https://cdn.bokeh.org/bokeh/release/bokeh-2.4.1.min.js\", \"https://cdn.bokeh.org/bokeh/release/bokeh-gl-2.4.1.min.js\", \"https://cdn.bokeh.org/bokeh/release/bokeh-widgets-2.4.1.min.js\", \"https://cdn.bokeh.org/bokeh/release/bokeh-tables-2.4.1.min.js\", \"https://cdn.bokeh.org/bokeh/release/bokeh-mathjax-2.4.1.min.js\"];\n  const css_urls = [];\n  \n\n  const inline_js = [\n    function(Bokeh) {\n      Bokeh.set_log_level(\"info\");\n    },\n    function(Bokeh) {\n    \n    \n    }\n  ];\n\n  function run_inline_js() {\n    \n    if (root.Bokeh !== undefined || force === true) {\n      \n    for (let i = 0; i < inline_js.length; i++) {\n      inline_js[i].call(root, root.Bokeh);\n    }\n    if (force === true) {\n        display_loaded();\n      }} else if (Date.now() < root._bokeh_timeout) {\n      setTimeout(run_inline_js, 100);\n    } else if (!root._bokeh_failed_load) {\n      console.log(\"Bokeh: BokehJS failed to load within specified timeout.\");\n      root._bokeh_failed_load = true;\n    } else if (force !== true) {\n      const cell = $(document.getElementById(\"1002\")).parents('.cell').data().cell;\n      cell.output_area.append_execute_result(NB_LOAD_WARNING)\n    }\n\n  }\n\n  if (root._bokeh_is_loading === 0) {\n    console.debug(\"Bokeh: BokehJS loaded, going straight to plotting\");\n    run_inline_js();\n  } else {\n    load_libs(css_urls, js_urls, function() {\n      console.debug(\"Bokeh: BokehJS plotting callback run at\", now());\n      run_inline_js();\n    });\n  }\n}(window));"
     },
     "metadata": {},
     "output_type": "display_data"
    }
   ],
   "source": [
    "import os\n",
    "os.environ[\"OMP_NUM_THREADS\"] = \"20\"\n",
    "\n",
    "import pandas as pd\n",
    "import numpy as np\n",
    "from joblib import Parallel, delayed\n",
    "import seaborn as sns\n",
    "from tqdm.notebook import tqdm\n",
    "import matplotlib.pyplot as plt\n",
    "import scanpy as sc\n",
    "from hits.visualize import interactive\n",
    "from bokeh.io import output_notebook\n",
    "from hdbscan import HDBSCAN\n",
    "\n",
    "from perturbseq import *\n",
    "\n",
    "%load_ext autoreload\n",
    "%autoreload 2\n",
    "%matplotlib inline"
   ]
  },
  {
   "cell_type": "code",
   "execution_count": null,
   "id": "62659a63",
   "metadata": {},
   "outputs": [],
   "source": [
    "PREFIX = '20240310_fibroblast_final_low_UMI_count_regressions_'"
   ]
  },
  {
   "cell_type": "markdown",
   "id": "90a0ae1f",
   "metadata": {},
   "source": [
    "# Data loading and filtering droplets"
   ]
  },
  {
   "cell_type": "code",
   "execution_count": 2,
   "id": "8a95f6e8",
   "metadata": {},
   "outputs": [],
   "source": [
    "import scanpy as sc"
   ]
  },
  {
   "cell_type": "code",
   "execution_count": 3,
   "id": "71c0e14e",
   "metadata": {},
   "outputs": [],
   "source": [
    "full_pop = sc.read_h5ad('/data/norman/southark/tfs_standardized/240308_fibroblast_CRISPRa_final_pop.h5ad')"
   ]
  },
  {
   "cell_type": "code",
   "execution_count": 4,
   "id": "117546b7",
   "metadata": {},
   "outputs": [
    {
     "name": "stdout",
     "output_type": "stream",
     "text": [
      "Done.\n"
     ]
    }
   ],
   "source": [
    "full_pop = CellPopulation(pd.DataFrame(full_pop.X.todense().A, index=full_pop.obs.index, columns=full_pop.var.index), full_pop.obs, full_pop.var, calculate_statistics=False)"
   ]
  },
  {
   "cell_type": "code",
   "execution_count": 5,
   "id": "35959e31",
   "metadata": {},
   "outputs": [
    {
     "data": {
      "text/plain": [
       "1.0    321770\n",
       "2.0    253113\n",
       "3.0    170070\n",
       "4.0    105272\n",
       "Name: num_cells, dtype: int64"
      ]
     },
     "execution_count": 5,
     "metadata": {},
     "output_type": "execute_result"
    }
   ],
   "source": [
    "full_pop.cells['num_cells'].value_counts()"
   ]
  },
  {
   "cell_type": "code",
   "execution_count": 6,
   "id": "938f45e9",
   "metadata": {},
   "outputs": [],
   "source": [
    "full_pop.genes['in_matrix'] = True"
   ]
  },
  {
   "cell_type": "markdown",
   "id": "4b1609b9",
   "metadata": {},
   "source": [
    "# Fixing names"
   ]
  },
  {
   "cell_type": "code",
   "execution_count": 7,
   "id": "220906e6",
   "metadata": {},
   "outputs": [],
   "source": [
    "feature_library = pd.read_csv('/lila/data/norman/southark/rpe1_tfs/rpe1_tfs_crispra_w_controls.csv')\n",
    "feature_library['end'] = feature_library['sequence'].map(lambda x: x[-5:])\n",
    "feature_library['name'] = feature_library['name'].replace({'non_targeting': 'non-targeting'})\n",
    "feature_library['new_name'] = feature_library['name'] + '_' + feature_library['sequence']"
   ]
  },
  {
   "cell_type": "code",
   "execution_count": 8,
   "id": "7faeb22c",
   "metadata": {},
   "outputs": [],
   "source": [
    "name_mapper = pd.Series(feature_library['new_name'].values, index=feature_library['id'])"
   ]
  },
  {
   "cell_type": "code",
   "execution_count": 9,
   "id": "be414af0",
   "metadata": {},
   "outputs": [
    {
     "data": {
      "text/plain": [
       "id\n",
       "AATF_GGAAGCGCGCAGAAGGTTGA                      AATF_GGAAGCGCGCAGAAGGTTGA\n",
       "AATF_GCGTGCGAGTGCGCGGGAAG                      AATF_GCGTGCGAGTGCGCGGGAAG\n",
       "AATF_GCGCAGAAGGTTGAAGGGAT                      AATF_GCGCAGAAGGTTGAAGGGAT\n",
       "AATF_GGGCGTTGCTAGCATGAAGG                      AATF_GGGCGTTGCTAGCATGAAGG\n",
       "AATF_GTGAAGGGATTGGAGCCGTA                      AATF_GTGAAGGGATTGGAGCCGTA\n",
       "                                                     ...                \n",
       "non_targeting_GAACGGGCCGTGATCGGACC    non-targeting_GAACGGGCCGTGATCGGACC\n",
       "non_targeting_GGCCCTCCCCACCGGCACGA    non-targeting_GGCCCTCCCCACCGGCACGA\n",
       "non_targeting_GTCGTTATCTCGCTATTTCG    non-targeting_GTCGTTATCTCGCTATTTCG\n",
       "non_targeting_GTGGTTATACCCGACTAGAC    non-targeting_GTGGTTATACCCGACTAGAC\n",
       "non_targeting_GTCCACAAGACGTGCTCGCA    non-targeting_GTCCACAAGACGTGCTCGCA\n",
       "Length: 10979, dtype: object"
      ]
     },
     "execution_count": 9,
     "metadata": {},
     "output_type": "execute_result"
    }
   ],
   "source": [
    "name_mapper"
   ]
  },
  {
   "cell_type": "code",
   "execution_count": 10,
   "id": "33c74ea4",
   "metadata": {},
   "outputs": [],
   "source": [
    "control_guides = full_pop.cells.query('control')['guide_identity'].unique()\n",
    "off_target_controls = np.setdiff1d(full_pop.cells.query('guide_target==\"non\"')['guide_identity'].unique(), control_guides)"
   ]
  },
  {
   "cell_type": "code",
   "execution_count": null,
   "id": "dfadd5b8",
   "metadata": {},
   "outputs": [],
   "source": []
  },
  {
   "cell_type": "code",
   "execution_count": 11,
   "id": "4b5bbc3f",
   "metadata": {},
   "outputs": [],
   "source": [
    "off_target_mapper = pd.Series(map(lambda x: x.replace('non_targeting', 'off-target'), off_target_controls), index=off_target_controls)"
   ]
  },
  {
   "cell_type": "code",
   "execution_count": 12,
   "id": "8c09af7d",
   "metadata": {},
   "outputs": [],
   "source": [
    "feature_library['corrected_name'] = feature_library['id'].map(lambda x: off_target_mapper.get(x, x))\n",
    "feature_library['corrected_name'] = feature_library['corrected_name'].map(lambda x: name_mapper.get(x, x))\n",
    "\n",
    "feature_library = feature_library.set_index('corrected_name')"
   ]
  },
  {
   "cell_type": "code",
   "execution_count": 13,
   "id": "d3599a9f",
   "metadata": {},
   "outputs": [],
   "source": [
    "name_mapper = pd.Series(feature_library.index, index=feature_library['id'])"
   ]
  },
  {
   "cell_type": "code",
   "execution_count": 14,
   "id": "e1383a32",
   "metadata": {},
   "outputs": [
    {
     "data": {
      "text/plain": [
       "id\n",
       "AATF_GGAAGCGCGCAGAAGGTTGA                      AATF_GGAAGCGCGCAGAAGGTTGA\n",
       "AATF_GCGTGCGAGTGCGCGGGAAG                      AATF_GCGTGCGAGTGCGCGGGAAG\n",
       "AATF_GCGCAGAAGGTTGAAGGGAT                      AATF_GCGCAGAAGGTTGAAGGGAT\n",
       "AATF_GGGCGTTGCTAGCATGAAGG                      AATF_GGGCGTTGCTAGCATGAAGG\n",
       "AATF_GTGAAGGGATTGGAGCCGTA                      AATF_GTGAAGGGATTGGAGCCGTA\n",
       "                                                     ...                \n",
       "non_targeting_GAACGGGCCGTGATCGGACC    non-targeting_GAACGGGCCGTGATCGGACC\n",
       "non_targeting_GGCCCTCCCCACCGGCACGA    non-targeting_GGCCCTCCCCACCGGCACGA\n",
       "non_targeting_GTCGTTATCTCGCTATTTCG    non-targeting_GTCGTTATCTCGCTATTTCG\n",
       "non_targeting_GTGGTTATACCCGACTAGAC    non-targeting_GTGGTTATACCCGACTAGAC\n",
       "non_targeting_GTCCACAAGACGTGCTCGCA    non-targeting_GTCCACAAGACGTGCTCGCA\n",
       "Name: corrected_name, Length: 10979, dtype: object"
      ]
     },
     "execution_count": 14,
     "metadata": {},
     "output_type": "execute_result"
    }
   ],
   "source": [
    "name_mapper"
   ]
  },
  {
   "cell_type": "code",
   "execution_count": 15,
   "id": "5ff1cbb0",
   "metadata": {},
   "outputs": [],
   "source": [
    "control_reduced_name_mapper = name_mapper.copy()"
   ]
  },
  {
   "cell_type": "code",
   "execution_count": 16,
   "id": "3aa7a215",
   "metadata": {},
   "outputs": [],
   "source": [
    "control_reduced_name_mapper.loc[control_reduced_name_mapper.str.contains('non-targeting')] = 'control'"
   ]
  },
  {
   "cell_type": "code",
   "execution_count": 17,
   "id": "c1384837",
   "metadata": {},
   "outputs": [
    {
     "data": {
      "text/plain": [
       "id\n",
       "AATF_GGAAGCGCGCAGAAGGTTGA             AATF_GGAAGCGCGCAGAAGGTTGA\n",
       "AATF_GCGTGCGAGTGCGCGGGAAG             AATF_GCGTGCGAGTGCGCGGGAAG\n",
       "AATF_GCGCAGAAGGTTGAAGGGAT             AATF_GCGCAGAAGGTTGAAGGGAT\n",
       "AATF_GGGCGTTGCTAGCATGAAGG             AATF_GGGCGTTGCTAGCATGAAGG\n",
       "AATF_GTGAAGGGATTGGAGCCGTA             AATF_GTGAAGGGATTGGAGCCGTA\n",
       "                                                ...            \n",
       "non_targeting_GAACGGGCCGTGATCGGACC                      control\n",
       "non_targeting_GGCCCTCCCCACCGGCACGA                      control\n",
       "non_targeting_GTCGTTATCTCGCTATTTCG                      control\n",
       "non_targeting_GTGGTTATACCCGACTAGAC                      control\n",
       "non_targeting_GTCCACAAGACGTGCTCGCA                      control\n",
       "Name: corrected_name, Length: 10979, dtype: object"
      ]
     },
     "execution_count": 17,
     "metadata": {},
     "output_type": "execute_result"
    }
   ],
   "source": [
    "control_reduced_name_mapper"
   ]
  },
  {
   "cell_type": "markdown",
   "id": "27c68605",
   "metadata": {},
   "source": [
    "# UMI factors"
   ]
  },
  {
   "cell_type": "code",
   "execution_count": 19,
   "id": "de866fc6",
   "metadata": {},
   "outputs": [],
   "source": [
    "full_pop.cells['number_of_cells'] = full_pop.cells['num_cells']"
   ]
  },
  {
   "cell_type": "code",
   "execution_count": 20,
   "id": "8631c7d1",
   "metadata": {},
   "outputs": [],
   "source": [
    "UMI_counts = full_pop.cells.groupby(['gem_group', 'number_of_cells'])['UMI_count'].median()\n",
    "factors = (UMI_counts/UMI_counts.xs(1, level=1))\n",
    "\n",
    "cell_factors = full_pop.cells.apply(lambda x: factors.loc[(x['gem_group'], x['number_of_cells'])], axis=1)"
   ]
  },
  {
   "cell_type": "markdown",
   "id": "7cf76fa2",
   "metadata": {},
   "source": [
    "# Load identity calls and make design matrix"
   ]
  },
  {
   "cell_type": "code",
   "execution_count": 23,
   "id": "e7aacd50",
   "metadata": {},
   "outputs": [],
   "source": [
    "guide_umis = pd.read_hdf('/data/norman/southark/tfs_standardized/240116_fibroblast_CRISPRa_aggr_total_guide_umis.h5', key='guide_umis')"
   ]
  },
  {
   "cell_type": "code",
   "execution_count": 24,
   "id": "3e22a049",
   "metadata": {},
   "outputs": [],
   "source": [
    "guide_umis = pd.Series(guide_umis.values, \n",
    "    index=pd.MultiIndex.from_arrays([guide_umis.index.get_level_values(0), guide_umis.index.get_level_values(1).map(control_reduced_name_mapper)]))"
   ]
  },
  {
   "cell_type": "code",
   "execution_count": 25,
   "id": "e1d418bf",
   "metadata": {},
   "outputs": [],
   "source": [
    "guide_umis = guide_umis.loc[full_pop.cells.index]\n",
    "guide_umis = guide_umis[guide_umis>4].astype(bool).astype(np.float32)\n",
    "guide_umis = guide_umis.groupby(level=[0,1]).sum()"
   ]
  },
  {
   "cell_type": "code",
   "execution_count": 26,
   "id": "7fa7dd94",
   "metadata": {},
   "outputs": [
    {
     "name": "stderr",
     "output_type": "stream",
     "text": [
      "/data/norman/tmn/envs/analysis38/lib/python3.8/site-packages/pandas/core/reshape/reshape.py:134: PerformanceWarning: The following operation may generate 9278505425 cells in the resulting pandas object.\n",
      "  warnings.warn(\n"
     ]
    }
   ],
   "source": [
    "design_matrix = guide_umis.unstack(fill_value=0)"
   ]
  },
  {
   "cell_type": "code",
   "execution_count": 27,
   "id": "abba45d0",
   "metadata": {},
   "outputs": [],
   "source": [
    "cell_counts = design_matrix.sum(axis=0)\n",
    "\n",
    "design_matrix = design_matrix.loc[:, cell_counts > 0]"
   ]
  },
  {
   "cell_type": "code",
   "execution_count": 28,
   "id": "d676cffc",
   "metadata": {},
   "outputs": [],
   "source": [
    "non_control_counts = design_matrix.loc[:, design_matrix.columns!='control'].sum(axis=1)\n",
    "\n",
    "design_matrix['control'] = design_matrix['control'] + non_control_counts"
   ]
  },
  {
   "cell_type": "code",
   "execution_count": 32,
   "id": "a3c237ad",
   "metadata": {},
   "outputs": [],
   "source": [
    "design_matrix = design_matrix.div(cell_factors, axis=0)"
   ]
  },
  {
   "cell_type": "code",
   "execution_count": 39,
   "id": "907d349b",
   "metadata": {},
   "outputs": [],
   "source": [
    "design_matrix = design_matrix.loc[full_pop.cells.index]"
   ]
  },
  {
   "cell_type": "markdown",
   "id": "1bdcd44b",
   "metadata": {},
   "source": [
    "# Regressions"
   ]
  },
  {
   "cell_type": "code",
   "execution_count": 45,
   "id": "087615ec",
   "metadata": {},
   "outputs": [],
   "source": [
    "import warnings\n",
    "from scipy.linalg import lstsq\n",
    "from scipy.stats import t as t_stat\n",
    "from joblib import Parallel, delayed\n",
    "\n",
    "def compute_column(X, y, coef, ss_res, rank, XtX_inv, constant, gene_name):\n",
    "    n = X.shape[0]\n",
    "    \n",
    "    # Degrees of freedom\n",
    "    df_model = rank - constant\n",
    "    df_resid = n - rank\n",
    "    ss_tot = y @ y\n",
    "        \n",
    "    mse = ss_res / df_resid\n",
    "    beta_var = mse * XtX_inv\n",
    "    beta_se = np.sqrt(beta_var)\n",
    "\n",
    "    # Compute T and p-values\n",
    "    T = coef / beta_se\n",
    "    pval = 2 * t_stat.sf(np.fabs(T), df_resid)\n",
    "\n",
    "    out = pd.DataFrame([pd.Series(coef, index=X.columns, name='coef'),\n",
    "                        pd.Series(pval, index=X.columns, name='p')]).T\n",
    "    if gene_name is not None:\n",
    "        out['gene_name'] = gene_name\n",
    "\n",
    "    return out\n",
    "\n",
    "def least_squares(X, Y, coef_only=False, constant=False, XtX_inv=None, n_jobs=-1):\n",
    "    \"\"\"\n",
    "    Perform ordinary least squares regression.\n",
    "    \n",
    "    Parameters:\n",
    "    - X: DataFrame containing the independent variables.\n",
    "    - Y: DataFrame containing the dependent variables.\n",
    "    - coef_only: If True, returns only the coefficients.\n",
    "    - constant: Boolean, indicating if there's a constant term in the regression.\n",
    "    - n_jobs: Number of cores to use in parallel. -1 means using all processors.\n",
    "    \n",
    "    Returns:\n",
    "    - Dictionary where each key corresponds to a dependent variable's column name and its associated value is the DataFrame containing coefficients and p-values for that dependent variable.\n",
    "    \"\"\"\n",
    "    n = X.shape[0]\n",
    "\n",
    "    # FIT LEAST SQUARES REGRESSION\n",
    "    coef, ss_res, rank, _ = lstsq(X, Y, cond=None, check_finite=False)\n",
    "    \n",
    "    calc_ss_res = False\n",
    "    if rank < X.shape[1]:\n",
    "        warnings.warn(\n",
    "            \"Design matrix supplied with `X` parameter is rank \"\n",
    "            f\"deficient (rank {rank} with {X.shape[1]} columns). \"\n",
    "            \"That means that one or more of the columns in `X` \"\n",
    "            \"are a linear combination of one or more of the \"\n",
    "            \"other columns.\"\n",
    "        )\n",
    "        calc_ss_res = True\n",
    "        \n",
    "    if coef_only:\n",
    "        return coef\n",
    "\n",
    "    if XtX_inv is None:\n",
    "        XtX_inv = (np.linalg.pinv(X.T @ X).diagonal())\n",
    "\n",
    "    if calc_ss_res:\n",
    "        resid = Y.values - X.values @ coef\n",
    "        ss_res = (resid**2).sum(axis=0)\n",
    "    \n",
    "    ss_res = pd.Series(ss_res, index=Y.columns)\n",
    "\n",
    "    results = Parallel(n_jobs=n_jobs, verbose=10)(\n",
    "        delayed(compute_column)(X, Y[col], coef[:, i], ss_res[col], rank, XtX_inv, constant, col)\n",
    "        for i, col in enumerate(Y.columns)\n",
    "    )\n",
    "    \n",
    "    results = pd.concat(results).pivot(columns='gene_name')\n",
    "    return results['coef'], results['p']"
   ]
  },
  {
   "cell_type": "code",
   "execution_count": null,
   "id": "9f2d9a07",
   "metadata": {},
   "outputs": [],
   "source": []
  },
  {
   "cell_type": "code",
   "execution_count": null,
   "id": "a1983f1d",
   "metadata": {
    "scrolled": true
   },
   "outputs": [],
   "source": [
    "coefs, ps = least_squares(design_matrix, full_pop.matrix,\n",
    "                          coef_only=False, n_jobs=12)"
   ]
  },
  {
   "cell_type": "code",
   "execution_count": null,
   "id": "5eaf8265",
   "metadata": {},
   "outputs": [],
   "source": []
  },
  {
   "cell_type": "code",
   "execution_count": null,
   "id": "f89f74a3",
   "metadata": {},
   "outputs": [],
   "source": [
    "from perturbseq.differential_expression import _multi_test_correct\n",
    "\n",
    "coefs.to_hdf(PREFIX + 'coefs.hdf', key='coefs')\n",
    "ps.to_hdf(PREFIX + 'ps.hdf', key='ps')\n",
    "adj_ps = ps.dropna(axis=1).T.apply(lambda x: _multi_test_correct(x, 0.05, 'fdr_bh')).T\n",
    "adj_ps.to_hdf(PREFIX + 'adj_ps.hdf', key='adj_ps')"
   ]
  },
  {
   "cell_type": "code",
   "execution_count": null,
   "id": "074fb7cb",
   "metadata": {},
   "outputs": [],
   "source": []
  },
  {
   "cell_type": "markdown",
   "id": "85874b11",
   "metadata": {},
   "source": [
    "# Saving results"
   ]
  },
  {
   "cell_type": "code",
   "execution_count": null,
   "id": "3b49450b",
   "metadata": {},
   "outputs": [],
   "source": [
    "count_profiles = dict()\n",
    "naive_mean_profiles = dict()\n",
    "frac_profiles = dict()\n",
    "\n",
    "for perturbation, col in tqdm(design_matrix.iteritems(), total=design_matrix.shape[1]):\n",
    "    mask_col = col > 0\n",
    "    naive_mean_profiles[perturbation] = full_pop.matrix.loc[mask_col].mean()\n",
    "    count_profiles[perturbation] = (full_pop.matrix.loc[mask_col] > 0).sum()\n",
    "    frac_profiles[perturbation] = (full_pop.matrix.loc[mask_col] > 0).mean()\n",
    "    \n",
    "count_profiles = pd.DataFrame(count_profiles).T\n",
    "naive_mean_profiles = pd.DataFrame(naive_mean_profiles).T\n",
    "frac_profiles = pd.DataFrame(frac_profiles).T"
   ]
  },
  {
   "cell_type": "code",
   "execution_count": null,
   "id": "6ba92b56",
   "metadata": {},
   "outputs": [],
   "source": [
    "count_profiles.to_hdf(PREFIX + 'count_profiles.hdf', key='count_profiles')\n",
    "naive_mean_profiles.to_hdf(PREFIX + 'naive_mean_profiles.hdf', key='naive_mean_profiles')\n",
    "frac_profiles.to_hdf(PREFIX + 'frac_profiles.hdf', key='frac_profiles')"
   ]
  },
  {
   "cell_type": "code",
   "execution_count": null,
   "id": "309377cb",
   "metadata": {},
   "outputs": [],
   "source": [
    "mean_pop = MeanPopulation(coefs,\n",
    "                          pd.DataFrame(cell_counts, columns=['cell_count']),\n",
    "                          full_pop.genes.loc[coefs.columns], calculate_statistics=False)\n",
    "\n",
    "mean_pop.genes.index.name = 'gene_id'\n",
    "mean_pop.normalized_matrix = dict()\n",
    "mean_pop.normalized_matrix['count_profile'] = count_profiles\n",
    "mean_pop.normalized_matrix['naive_mean_profile'] = naive_mean_profiles\n",
    "\n",
    "mean_pop.normalized_matrix['p'] = ps\n",
    "mean_pop.normalized_matrix['adj_p'] = adj_ps\n",
    "\n",
    "mean_pop.to_hdf(PREFIX + 'coef_mean_pop.hdf', store_normalized_matrix=True)"
   ]
  }
 ],
 "metadata": {
  "kernelspec": {
   "display_name": "Python [conda env:tmn-analysis38] *",
   "language": "python",
   "name": "conda-env-tmn-analysis38-py"
  },
  "language_info": {
   "codemirror_mode": {
    "name": "ipython",
    "version": 3
   },
   "file_extension": ".py",
   "mimetype": "text/x-python",
   "name": "python",
   "nbconvert_exporter": "python",
   "pygments_lexer": "ipython3",
   "version": "3.8.15"
  }
 },
 "nbformat": 4,
 "nbformat_minor": 5
}
