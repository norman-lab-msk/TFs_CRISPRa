{
 "cells": [
  {
   "cell_type": "code",
   "execution_count": 1,
   "metadata": {},
   "outputs": [],
   "source": [
    "import os\n",
    "os.environ[\"OMP_NUM_THREADS\"] = \"24\"\n",
    "\n",
    "import pandas as pd\n",
    "import numpy as np\n",
    "from joblib import Parallel, delayed\n",
    "import seaborn as sns\n",
    "from tqdm.notebook import tqdm\n",
    "import matplotlib.pyplot as plt\n",
    "import scanpy as sc\n",
    "\n",
    "from perturbseq import *\n",
    "\n",
    "%load_ext autoreload\n",
    "%autoreload 2\n",
    "%matplotlib inline"
   ]
  },
  {
   "cell_type": "code",
   "execution_count": 2,
   "metadata": {},
   "outputs": [
    {
     "name": "stdout",
     "output_type": "stream",
     "text": [
      "Loading matrix...\n",
      "Loading metadata...\n",
      "Done in 2.0715413093566895s.\n",
      "Done.\n"
     ]
    }
   ],
   "source": [
    "mean_pop = CellPopulation.from_hdf('/data/norman/southark/tfs_standardized/20240311_fibroblast_CRISPRa_mean_pop.hdf', stored_matrix_ids=['p', 'adj_p', 'masked'])\n",
    "mean_pop.genes.index.name = 'gene_id'"
   ]
  },
  {
   "cell_type": "code",
   "execution_count": null,
   "metadata": {},
   "outputs": [],
   "source": []
  },
  {
   "cell_type": "code",
   "execution_count": 3,
   "metadata": {},
   "outputs": [],
   "source": [
    "guide_library = pd.read_csv('/data/norman/southark/tfs_standardized/20240318_merged_morf_tf_lib_guide_activity_classifications_final_low_UMI_count_regressions_coef.csv', index_col=0)"
   ]
  },
  {
   "cell_type": "code",
   "execution_count": 4,
   "metadata": {},
   "outputs": [],
   "source": [
    "import dill\n",
    "\n",
    "with open('/data/norman/southark/tfs_standardized/20240311_fibroblast_CRISPRa_masked_variables.pickle', 'rb') as file:\n",
    "    data = dill.load(file)"
   ]
  },
  {
   "cell_type": "code",
   "execution_count": 5,
   "metadata": {},
   "outputs": [],
   "source": [
    "from functools import reduce\n",
    "\n",
    "all_clustered = {k:v for k,v in data['full_clusters'][1.2].items() if (('non-targeting' not in k) and ('off-target' not in k))}\n",
    "\n",
    "all_clustered = list(map(lambda x: reduce(np.union1d, list(x.values())), list(all_clustered.values())))\n",
    "all_clustered = [list(v) for v in all_clustered]\n",
    "all_clustered = reduce(np.union1d, all_clustered)"
   ]
  },
  {
   "cell_type": "code",
   "execution_count": 6,
   "metadata": {},
   "outputs": [],
   "source": [
    "new_guides = np.setdiff1d(all_clustered, mean_pop.cells.query('masked_active').index)\n",
    "new_guides = np.intersect1d(new_guides, guide_library.query('good_guide_fibro').index)\n",
    "new_guides = mean_pop.cells.loc[new_guides].query('~sequence_driven').index\n",
    "new_genes = guide_library.loc[new_guides]['target_gene'].unique()\n",
    "new_genes = np.setdiff1d(new_genes, mean_pop.cells.query('masked_active')['target_gene'])"
   ]
  },
  {
   "cell_type": "code",
   "execution_count": 12,
   "metadata": {
    "scrolled": true
   },
   "outputs": [
    {
     "data": {
      "text/plain": [
       "92"
      ]
     },
     "execution_count": 12,
     "metadata": {},
     "output_type": "execute_result"
    }
   ],
   "source": [
    "len(new_genes)"
   ]
  },
  {
   "cell_type": "code",
   "execution_count": 13,
   "metadata": {},
   "outputs": [],
   "source": [
    "mean_pop.cells['expanded_masked_active'] = mean_pop.cells.index.isin(new_guides)"
   ]
  },
  {
   "cell_type": "code",
   "execution_count": 24,
   "metadata": {},
   "outputs": [],
   "source": [
    "mean_pop.cells['rescued_strong_guide'] = mean_pop.cells.index.isin(new_guides)"
   ]
  },
  {
   "cell_type": "code",
   "execution_count": 28,
   "metadata": {},
   "outputs": [],
   "source": [
    "table = mean_pop.cells[['expanded_masked_active', 'rescued_strong_guide']]"
   ]
  },
  {
   "cell_type": "code",
   "execution_count": null,
   "metadata": {},
   "outputs": [],
   "source": [
    "table.to_csv('20240319_rescued_fibroblast_guides.csv')"
   ]
  }
 ],
 "metadata": {
  "kernelspec": {
   "display_name": "Python [conda env:tmn-analysis38] *",
   "language": "python",
   "name": "conda-env-tmn-analysis38-py"
  },
  "language_info": {
   "codemirror_mode": {
    "name": "ipython",
    "version": 3
   },
   "file_extension": ".py",
   "mimetype": "text/x-python",
   "name": "python",
   "nbconvert_exporter": "python",
   "pygments_lexer": "ipython3",
   "version": "3.8.15"
  }
 },
 "nbformat": 4,
 "nbformat_minor": 4
}
