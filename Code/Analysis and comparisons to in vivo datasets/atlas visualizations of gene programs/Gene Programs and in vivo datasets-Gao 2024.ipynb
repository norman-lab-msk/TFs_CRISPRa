{
 "cells": [
  {
   "cell_type": "code",
   "execution_count": null,
   "metadata": {},
   "outputs": [],
   "source": [
    "import sys\n",
    "# adding notebooks to the system path\n",
    "sys.path.insert(0, '/home/southark/notebooks')\n",
    "\n",
    "import matplotlib.pyplot as plt\n",
    "import numpy as np\n",
    "import pandas as pd\n",
    "import seaborn as sns\n",
    "pd.options.display.float_format = '{:.4f}'.format\n",
    "import matplotlib\n",
    "from tqdm import tqdm\n",
    "\n",
    "matplotlib.rcParams['pdf.fonttype'] = 42\n",
    "%load_ext autoreload\n",
    "%autoreload 2\n",
    "%matplotlib inline\n",
    "\n",
    "from perturbseq import *\n",
    "\n",
    "import scanpy as sc"
   ]
  },
  {
   "cell_type": "code",
   "execution_count": null,
   "metadata": {},
   "outputs": [],
   "source": [
    "data_path = '/data/norman/southark/tfs_standardized/'"
   ]
  },
  {
   "cell_type": "markdown",
   "metadata": {},
   "source": [
    "# Load gene programs"
   ]
  },
  {
   "cell_type": "code",
   "execution_count": null,
   "metadata": {},
   "outputs": [],
   "source": [
    "#comps: i.e. definitions of the sparse gene expression programs (positive if a gene is included)\n",
    "comps = pd.read_csv(f'{data_path}20240331_fibroblast_bulk_comps.csv', index_col=0)"
   ]
  },
  {
   "cell_type": "code",
   "execution_count": null,
   "metadata": {},
   "outputs": [],
   "source": [
    "#Return strong program genes for each program in dictionary form\n",
    "def df_to_dict(df, threshold=0.05):\n",
    "    result_dict = {}\n",
    "    for idx, row in df.iterrows():\n",
    "        filtered_columns = [col for col, val in row.items() if val > threshold]\n",
    "        if filtered_columns:\n",
    "            result_dict[idx] = filtered_columns\n",
    "    return result_dict\n",
    "\n",
    "# Convert the DataFrame\n",
    "gene_prog_dict = df_to_dict(comps)"
   ]
  },
  {
   "cell_type": "markdown",
   "metadata": {},
   "source": [
    "# Load an in vivo dataset \n",
    "\n",
    "## Cross-tissue human fibroblast atlas reveals myofibroblast subtypes with distinct roles in immune modulation\n",
    "Gao, Yang et al.\n",
    "Cancer Cell, Volume 42, Issue 10, 1764 - 1783.e10"
   ]
  },
  {
   "cell_type": "code",
   "execution_count": null,
   "metadata": {},
   "outputs": [],
   "source": [
    "import scanpy as sc\n",
    "import pandas as pd\n",
    "from scipy import io\n",
    "\n",
    "# Read the Matrix Market format sparse matrix\n",
    "mtx = io.mmread('/data/norman/southark/external_datasets/cancer_cell_fibro_atlas/expression_matrix.mtx')\n",
    "\n",
    "# Read genes and barcodes\n",
    "genes = pd.read_csv('/data/norman/southark/external_datasets/cancer_cell_fibro_atlas/genes.tsv', header=None)[0]\n",
    "barcodes = pd.read_csv('/data/norman/southark/external_datasets/cancer_cell_fibro_atlas/barcodes.tsv', header=None)[0]\n",
    "\n",
    "# Read metadata\n",
    "metadata = pd.read_csv('/data/norman/southark/external_datasets/cancer_cell_fibro_atlas/metadata.csv')\n",
    "\n",
    "# Print initial dimensions\n",
    "print(\"Original matrix shape:\", mtx.shape)\n",
    "print(\"Number of genes:\", len(genes))\n",
    "print(\"Number of barcodes:\", len(barcodes))\n",
    "print(\"Number of metadata rows:\", len(metadata))\n",
    "\n",
    "# Transpose the matrix to be (cells x genes)\n",
    "mtx = mtx.T.tocsr()\n",
    "\n",
    "print(\"\\nTransposed matrix shape:\", mtx.shape)\n",
    "\n",
    "# Create AnnData object\n",
    "adata = sc.AnnData(X=mtx, \n",
    "                   obs=metadata,\n",
    "                   var=pd.DataFrame(index=genes))\n",
    "\n",
    "# Make sure the obs_names match the barcodes\n",
    "adata.obs_names = barcodes\n",
    "\n",
    "# Basic verification\n",
    "print(f\"\\nFinal AnnData object shape: {adata.shape}\")\n",
    "print(f\"Number of cells: {adata.n_obs}\")\n",
    "print(f\"Number of genes: {adata.n_vars}\")\n",
    "print(\"\\nMetadata columns:\", adata.obs.columns.tolist())\n"
   ]
  },
  {
   "cell_type": "code",
   "execution_count": null,
   "metadata": {},
   "outputs": [],
   "source": [
    "# # mitochondrial genes, \"MT-\" for human, \"Mt-\" for mouse\n",
    "# adata.var[\"mt\"] = adata.var_names.str.startswith(\"MT-\")\n",
    "# # ribosomal genes\n",
    "# adata.var[\"ribo\"] = adata.var_names.str.startswith((\"RPS\", \"RPL\"))\n",
    "# # hemoglobin genes\n",
    "# adata.var[\"hb\"] = adata.var_names.str.contains(\"^HB[^(P)]\")"
   ]
  },
  {
   "cell_type": "code",
   "execution_count": null,
   "metadata": {},
   "outputs": [],
   "source": [
    "# #qc genes already filtered?\n",
    "# sc.pp.calculate_qc_metrics(\n",
    "#     adata, qc_vars=[\"mt\", \"ribo\", \"hb\"], inplace=True, log1p=True\n",
    "# )"
   ]
  },
  {
   "cell_type": "code",
   "execution_count": null,
   "metadata": {},
   "outputs": [],
   "source": [
    "# sc.pl.violin(\n",
    "#     adata,\n",
    "#     [\"n_genes_by_counts\", \"total_counts\", \"pct_counts_mt\"],\n",
    "#     jitter=0.4,\n",
    "#     multi_panel=True,\n",
    "# )"
   ]
  },
  {
   "cell_type": "code",
   "execution_count": null,
   "metadata": {},
   "outputs": [],
   "source": [
    "# Transfer UMAP coordinates to the correct location in AnnData\n",
    "adata.obsm['X_umap'] = adata.obs[['UMAP_1', 'UMAP_2']].values\n"
   ]
  },
  {
   "cell_type": "markdown",
   "metadata": {},
   "source": [
    "# Apply gene set scores to the single cells"
   ]
  },
  {
   "cell_type": "code",
   "execution_count": null,
   "metadata": {},
   "outputs": [],
   "source": [
    "# Step 2: Create a new dictionary for filtered gene sets\n",
    "filtered_gene_prog_dict = {}\n",
    "\n",
    "# Step 3: Filter gene lists and populate the new dictionary\n",
    "for key, gene_set in gene_prog_dict.items():\n",
    "    filtered_gene_set = set(gene_set) & set(adata.var.index)\n",
    "    if len(filtered_gene_set) > 0: \n",
    "        filtered_gene_prog_dict[key] = list(filtered_gene_set)\n",
    "    else:\n",
    "        print(f'for prog {key} there are no genes left')"
   ]
  },
  {
   "cell_type": "code",
   "execution_count": null,
   "metadata": {},
   "outputs": [],
   "source": []
  },
  {
   "cell_type": "code",
   "execution_count": null,
   "metadata": {},
   "outputs": [],
   "source": []
  },
  {
   "cell_type": "code",
   "execution_count": null,
   "metadata": {},
   "outputs": [],
   "source": [
    "from _weighted_score_genes import *\n",
    "\n",
    "# prog31 = comps.loc[32][comps.loc[32] > 0]\n",
    "\n",
    "# weighted_score = weighted_score_genes(adata, gene_list=prog31.index, weights = prog31.values , score_name=\"prog_KLF4_weighted\")\n",
    "\n",
    "for key, gene_set in filtered_gene_prog_dict.items():\n",
    "    # Score genes for the current gene set\n",
    "    print(f'key:{key}')\n",
    "\n",
    "    prog = comps.loc[key][comps.loc[key] >= 0.05].sort_values()#.tail(50)\n",
    "    #print(prog.index)\n",
    "    weighted_score_genes(adata, gene_list=prog.index, weights = prog.values , score_name=f\"prog_{key}\")\n"
   ]
  },
  {
   "cell_type": "code",
   "execution_count": null,
   "metadata": {},
   "outputs": [],
   "source": []
  },
  {
   "cell_type": "code",
   "execution_count": null,
   "metadata": {},
   "outputs": [],
   "source": [
    "programs_to_plot = [f\"prog_{key}\" for key in filtered_gene_prog_dict.keys()]"
   ]
  },
  {
   "cell_type": "code",
   "execution_count": null,
   "metadata": {},
   "outputs": [],
   "source": [
    "sc.pl.embedding(adata, basis='X_umap', color=programs_to_plot, layer= \"logcounts\")"
   ]
  },
  {
   "cell_type": "code",
   "execution_count": null,
   "metadata": {},
   "outputs": [],
   "source": [
    "from _umap_plots import UMAPPlotter\n",
    "\n",
    "# Initialize plotter\n",
    "plotter = UMAPPlotter(dataset_name=\"cancer-cell-2024\",\n",
    "                      base_output_dir=\"figures\",\n",
    "                      default_continuous_cmap='viridis',\n",
    "                      categorical_width_ratio= 1.3,\n",
    "                      continuous_width_ratio = 1.1\n",
    "                     )\n",
    "\n",
    "# Plot clusters with exact column name\n",
    "plotter.plot_clusters(adata, \n",
    "                     cluster_key=\"Cluster\",\n",
    "                     point_size = 3,\n",
    "                     save=True,\n",
    "                     show=True)\n",
    "# Plot program\n",
    "plotter.plot_program(adata,\n",
    "                     program_key=\"prog_32\",\n",
    "                     vmin = \"p00.1\",\n",
    "                     vmax = \"p99.9\",\n",
    "                      point_size = 5,\n",
    "                     save=True,\n",
    "                     show=True) \n",
    "\n",
    "plotter.plot_program(adata,\n",
    "                     program_key=\"prog_31\",\n",
    "                       vmin = \"p00.1\",\n",
    "                     vmax = \"p99.9\",\n",
    "                          point_size = 5,\n",
    "                     save=True,\n",
    "                     show=True) \n",
    "\n",
    "plotter.plot_program(adata,\n",
    "                     program_key=\"prog_27\",\n",
    "                       vmin = \"p00.1\",\n",
    "                     vmax = \"p99.9\",\n",
    "                          point_size = 5,\n",
    "                     save=True,\n",
    "                     show=True) \n",
    "\n",
    "plotter.plot_program(adata,\n",
    "                     program_key=\"prog_19\",\n",
    "                       vmin = \"p00.1\",\n",
    "                     vmax = \"p99.9\",\n",
    "                          point_size = 5,\n",
    "                     save=True,\n",
    "                     show=True)\n",
    "\n",
    "plotter.plot_program(adata,\n",
    "                     program_key=\"prog_4\",\n",
    "                       vmin = \"p00.1\",\n",
    "                     vmax = \"p99.9\",\n",
    "                          point_size = 5,\n",
    "                     save=True,\n",
    "                     show=True) "
   ]
  },
  {
   "cell_type": "code",
   "execution_count": null,
   "metadata": {},
   "outputs": [],
   "source": []
  },
  {
   "cell_type": "code",
   "execution_count": null,
   "metadata": {},
   "outputs": [],
   "source": [
    "marker_genes = {'myofibroblast' : ['ACTA2', 'TAGLN', 'CNN1', 'TPM1', 'MYH9'],\n",
    "                'inflammatory': ['SPARC', 'COL3A1', 'COL1A1', 'COL1A2', 'CTHRC1'],\n",
    "                'universal': ['IGFBP6','S100A10', 'DCN', 'AHNAK', 'ANXA1'],\n",
    "                'interferon-repsonse':['HLA-A', 'HLA-B','ISG15', 'GBP1', 'IFI6'],\n",
    "               }"
   ]
  },
  {
   "cell_type": "code",
   "execution_count": null,
   "metadata": {},
   "outputs": [],
   "source": [
    "sc.pl.matrixplot(adata, \n",
    "                 marker_genes, groupby=\"Cluster\", standard_scale=\"var\",\n",
    "                figsize = (5,5),\n",
    "                save = 'cancercell_2024_full_markerplot.pdf')"
   ]
  },
  {
   "cell_type": "code",
   "execution_count": null,
   "metadata": {},
   "outputs": [],
   "source": [
    "sc.pl.matrixplot(adata[adata.obs.Cluster.isin(['c01', 'c03', 'c04', 'c16', 'c05', 'c19']), :], \n",
    "                 marker_genes, groupby=\"Cluster\", standard_scale=\"var\",\n",
    "                figsize = (5,2),\n",
    "                save = 'cancercell_2024_markerplot.pdf')"
   ]
  },
  {
   "cell_type": "code",
   "execution_count": null,
   "metadata": {},
   "outputs": [],
   "source": [
    "# Convert var index to strings\n",
    "adata.var.index.name = 'gene_name'"
   ]
  },
  {
   "cell_type": "code",
   "execution_count": null,
   "metadata": {},
   "outputs": [],
   "source": [
    "adata.var.index"
   ]
  },
  {
   "cell_type": "code",
   "execution_count": null,
   "metadata": {},
   "outputs": [],
   "source": [
    "adata.write('/data/norman/southark/external_datasets/cancer_cell_fibro_atlas/250127_Fib_Atlas_cancercell2024_scored.h5ad')"
   ]
  },
  {
   "cell_type": "code",
   "execution_count": null,
   "metadata": {},
   "outputs": [],
   "source": []
  },
  {
   "cell_type": "code",
   "execution_count": null,
   "metadata": {},
   "outputs": [],
   "source": []
  },
  {
   "cell_type": "code",
   "execution_count": null,
   "metadata": {},
   "outputs": [],
   "source": [
    "def calculate_cluster_ratio_score(\n",
    "    adata,\n",
    "    numerator_genes=['PLAGL1'],\n",
    "    denominator_genes=['KLF2', 'KLF4'],\n",
    "    cluster_key='leiden',\n",
    "    score_name='cluster_ratio_score',\n",
    "    target_sum=1e4,\n",
    "    use_raw=True\n",
    "):\n",
    "    \"\"\"\n",
    "    Calculate ratio score based on relative expression levels within clusters.\n",
    "    \n",
    "    Parameters\n",
    "    ----------\n",
    "    adata : AnnData\n",
    "        Annotated data matrix.\n",
    "    numerator_genes : list\n",
    "        List of genes for numerator.\n",
    "    denominator_genes : list\n",
    "        List of genes for denominator.\n",
    "    cluster_key : str\n",
    "        Name of the clustering annotation in adata.obs.\n",
    "    score_name : str\n",
    "        Name for the resulting score in adata.obs.\n",
    "    target_sum : float\n",
    "        Target sum for normalization if using raw data.\n",
    "    use_raw : bool\n",
    "        Whether to use raw data (if available) and normalize it, or use\n",
    "        the normalized data in adata.X.\n",
    "    \"\"\"\n",
    "    def get_expression(adata, genes, use_raw):\n",
    "        if use_raw and adata.raw is not None:\n",
    "            # Get raw counts and normalize\n",
    "            expr = adata.raw[:, genes].X\n",
    "            if scipy.sparse.issparse(expr):\n",
    "                expr = expr.toarray()\n",
    "                \n",
    "            total_counts = np.sum(adata.raw.X.toarray(), axis=1, keepdims=True)\n",
    "            expr_normalized = (expr / total_counts) * target_sum\n",
    "            \n",
    "        else:\n",
    "            # Use already normalized data from adata.X\n",
    "            expr = adata[:, genes].X\n",
    "            if scipy.sparse.issparse(expr):\n",
    "                expr = expr.toarray()\n",
    "            expr_normalized = expr\n",
    "            \n",
    "        return expr_normalized\n",
    "    \n",
    "    # Get expression values\n",
    "    num_expr = get_expression(adata, numerator_genes, use_raw)\n",
    "    denom_expr = get_expression(adata, denominator_genes, use_raw)\n",
    "    \n",
    "    clusters = adata.obs[cluster_key].unique()\n",
    "    cluster_stats = {}\n",
    "    \n",
    "    for cluster in clusters:\n",
    "        mask = adata.obs[cluster_key] == cluster\n",
    "        \n",
    "        num_expr_cluster = num_expr[mask]\n",
    "        denom_expr_cluster = denom_expr[mask]\n",
    "        \n",
    "        if use_raw:\n",
    "            # If using raw data, calculate mean then log transform\n",
    "            num_mean = np.log1p(np.mean(num_expr_cluster))\n",
    "            denom_mean = np.log1p(np.mean(denom_expr_cluster))\n",
    "        else:\n",
    "            # If using normalized data, exp-1 transform, take mean, then log1p transform back\n",
    "            num_mean = np.log1p(np.mean(np.expm1(num_expr_cluster)))\n",
    "            denom_mean = np.log1p(np.mean(np.expm1(denom_expr_cluster)))\n",
    "        \n",
    "        # Store statistics\n",
    "        cluster_stats[cluster] = {\n",
    "            'numerator_mean': num_mean,\n",
    "            'denominator_mean': denom_mean,\n",
    "            'ratio_score': num_mean / denom_mean if denom_mean > 0 else np.inf\n",
    "        }\n",
    "        \n",
    "        # Store individual gene expressions\n",
    "        for gene, expr in zip(numerator_genes, np.mean(num_expr_cluster, axis=0)):\n",
    "            if not use_raw:\n",
    "                expr = np.log1p(np.mean(np.expm1(expr)))\n",
    "            cluster_stats[cluster][f'{gene}_mean'] = expr\n",
    "        for gene, expr in zip(denominator_genes, np.mean(denom_expr_cluster, axis=0)):\n",
    "            if not use_raw:\n",
    "                expr = np.log1p(np.mean(np.expm1(expr)))\n",
    "            cluster_stats[cluster][f'{gene}_mean'] = expr\n",
    "    \n",
    "    stats_df = pd.DataFrame.from_dict(cluster_stats, orient='index')\n",
    "    stats_df = stats_df.sort_values('ratio_score', ascending=False)\n",
    "    \n",
    "    # Add score to original adata object\n",
    "    adata.obs[score_name] = adata.obs[cluster_key].map(stats_df['ratio_score'])\n",
    "    adata.obs[score_name] = adata.obs[score_name].astype('float64')\n",
    "    \n",
    "    return stats_df\n",
    "\n",
    "\n",
    "# Calculate cluster-level ratios\n",
    "numerator_genes=['PLAGL1']\n",
    "denominator_genes=['KLF2', 'KLF4']\n",
    "cluster_key='Cluster'\n",
    "score_name='PLAGL1_cluster_ratio'\n",
    "\n",
    "\n",
    "stats = calculate_cluster_ratio_score(adata,\n",
    "                                    numerator_genes,\n",
    "                                    denominator_genes,\n",
    "                                    cluster_key,\n",
    "                                    score_name)\n",
    "\n",
    "\n",
    "# Print the statistics to see values for each cluster\n",
    "print(\"\\nCluster Statistics:\")\n",
    "print(stats)\n",
    " \n",
    "# Scale and save to new layer\n",
    "adata.layers['zscore'] = sc.pp.scale(adata, copy=True).X\n",
    "\n",
    "# Plot\n",
    "genes_to_plot = numerator_genes + denominator_genes #+ [score_name]\n",
    "\n",
    "print(genes_to_plot)\n",
    "sc.pl.dotplot(adata[adata.obs[cluster_key].isin(['c03','c04', 'c05', 'c16']),:], \n",
    "              var_names=genes_to_plot,\n",
    "              layer = 'zscore',\n",
    "              #cmap = 'RdBu_r',\n",
    "              vcenter = 0,\n",
    "              #var_group_positions=[[0], [1,2], [3]],\n",
    "              groupby=cluster_key,\n",
    "             save = 'cancercell2024_plag_klf_expr_dotplot.pdf')\n",
    "\n",
    "sc.pl.dotplot(adata[adata.obs[cluster_key].isin(['c03','c04', 'c05', 'c16']),:], \n",
    "              var_names='PLAGL1_cluster_ratio',\n",
    "              layer = 'zscore',\n",
    "              cmap = 'viridis',\n",
    "              vcenter = 1,\n",
    "              #var_group_positions=[[0], [1,2], [3]],\n",
    "              groupby=cluster_key,\n",
    "             save = 'cancercell2024_plag_klf_ratio_dotplot.pdf')"
   ]
  },
  {
   "cell_type": "code",
   "execution_count": null,
   "metadata": {},
   "outputs": [],
   "source": []
  },
  {
   "cell_type": "code",
   "execution_count": null,
   "metadata": {},
   "outputs": [],
   "source": []
  },
  {
   "cell_type": "code",
   "execution_count": null,
   "metadata": {},
   "outputs": [],
   "source": []
  }
 ],
 "metadata": {
  "kernelspec": {
   "display_name": "Python 3",
   "language": "python",
   "name": "python3"
  },
  "language_info": {
   "codemirror_mode": {
    "name": "ipython",
    "version": 3
   },
   "file_extension": ".py",
   "mimetype": "text/x-python",
   "name": "python",
   "nbconvert_exporter": "python",
   "pygments_lexer": "ipython3",
   "version": "3.8.5"
  }
 },
 "nbformat": 4,
 "nbformat_minor": 5
}
