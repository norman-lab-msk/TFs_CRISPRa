{
 "cells": [
  {
   "cell_type": "code",
   "execution_count": 8,
   "id": "57dc8b24-e63d-4312-ad86-c0d9e8c76e34",
   "metadata": {},
   "outputs": [],
   "source": [
    "# Load the libraries\n",
    "library(Seurat)"
   ]
  },
  {
   "cell_type": "code",
   "execution_count": 9,
   "id": "2f6111d8-1215-4aad-abd6-3cc9af304fba",
   "metadata": {
    "scrolled": true
   },
   "outputs": [],
   "source": [
    "# First load the file\n",
    "load(\"/data/norman/southark/external_datasets/cancer_cell_fibro_atlas/Fib_Atlas_expression.rda\")"
   ]
  },
  {
   "cell_type": "code",
   "execution_count": 10,
   "id": "c3426227-04e3-4572-bd0e-be67bfdac5e9",
   "metadata": {},
   "outputs": [
    {
     "data": {
      "text/html": [
       "<style>\n",
       ".list-inline {list-style: none; margin:0; padding: 0}\n",
       ".list-inline>li {display: inline-block}\n",
       ".list-inline>li:not(:last-child)::after {content: \"\\00b7\"; padding: 0 .5ex}\n",
       "</style>\n",
       "<ol class=list-inline><li>'Fib_Atlas_expression'</li><li>'Fib_Atlas_metadata'</li></ol>\n"
      ],
      "text/latex": [
       "\\begin{enumerate*}\n",
       "\\item 'Fib\\_Atlas\\_expression'\n",
       "\\item 'Fib\\_Atlas\\_metadata'\n",
       "\\end{enumerate*}\n"
      ],
      "text/markdown": [
       "1. 'Fib_Atlas_expression'\n",
       "2. 'Fib_Atlas_metadata'\n",
       "\n",
       "\n"
      ],
      "text/plain": [
       "[1] \"Fib_Atlas_expression\" \"Fib_Atlas_metadata\"  "
      ]
     },
     "metadata": {},
     "output_type": "display_data"
    }
   ],
   "source": [
    "load(\"/data/norman/southark/external_datasets/cancer_cell_fibro_atlas/Fib_Atlas_metadata.rda\")\n",
    "\n",
    "# See what objects are now in your environment\n",
    "ls()"
   ]
  },
  {
   "cell_type": "code",
   "execution_count": null,
   "id": "22051668-9573-4688-bd76-7db72443b82b",
   "metadata": {},
   "outputs": [],
   "source": [
    "# First in R:\n",
    "# Save the sparse matrix in Matrix Market format\n",
    "library(Matrix)\n",
    "writeMM(Fib_Atlas_expression, \"/data/norman/southark/external_datasets/cancer_cell_fibro_atlas/expression_matrix.mtx\")\n",
    "\n",
    "# Save gene names\n",
    "write.table(rownames(Fib_Atlas_expression), \n",
    "            \"/data/norman/southark/external_datasets/cancer_cell_fibro_atlas/genes.tsv\", \n",
    "            row.names=FALSE, \n",
    "            col.names=FALSE, \n",
    "            quote=FALSE)\n",
    "\n",
    "# Save cell names\n",
    "write.table(colnames(Fib_Atlas_expression), \n",
    "            \"/data/norman/southark/external_datasets/cancer_cell_fibro_atlas/barcodes.tsv\", \n",
    "            row.names=FALSE, \n",
    "            col.names=FALSE, \n",
    "            quote=FALSE)\n",
    "\n",
    "# Save metadata\n",
    "write.csv(Fib_Atlas_metadata, \"/data/norman/southark/external_datasets/cancer_cell_fibro_atlas/metadata.csv\", row.names=FALSE)"
   ]
  },
  {
   "cell_type": "code",
   "execution_count": null,
   "id": "763d32a1-a2ce-4426-8606-5cb46205548a",
   "metadata": {},
   "outputs": [],
   "source": []
  },
  {
   "cell_type": "code",
   "execution_count": null,
   "id": "b48a8662-cc51-4e60-bdf5-69730b5e14bb",
   "metadata": {
    "scrolled": true
   },
   "outputs": [],
   "source": [
    "class(Fib_Atlas_expression)"
   ]
  },
  {
   "cell_type": "code",
   "execution_count": null,
   "id": "4a252ce0-f490-482f-ab74-6da70d39ae06",
   "metadata": {},
   "outputs": [],
   "source": [
    "ls.str()"
   ]
  },
  {
   "cell_type": "code",
   "execution_count": null,
   "id": "36e9c7a4-badb-49df-a979-6724c232092c",
   "metadata": {},
   "outputs": [],
   "source": [
    "sapply(ls(), function(x) class(get(x)))"
   ]
  },
  {
   "cell_type": "code",
   "execution_count": null,
   "id": "80cb197c-b548-47e6-98f6-0596dc3d11f1",
   "metadata": {},
   "outputs": [],
   "source": [
    "str(Fib_Atlas_expression)"
   ]
  },
  {
   "cell_type": "code",
   "execution_count": null,
   "id": "465f69a7-03ce-464e-bc04-e0081c44b986",
   "metadata": {},
   "outputs": [],
   "source": [
    "Fib_Atlas_metadata"
   ]
  },
  {
   "cell_type": "code",
   "execution_count": null,
   "id": "b16f7f17-e254-42bd-b86c-d799b0bc9de2",
   "metadata": {},
   "outputs": [],
   "source": []
  }
 ],
 "metadata": {
  "kernelspec": {
   "display_name": "R",
   "language": "R",
   "name": "ir"
  },
  "language_info": {
   "codemirror_mode": "r",
   "file_extension": ".r",
   "mimetype": "text/x-r-source",
   "name": "R",
   "pygments_lexer": "r",
   "version": "4.0.5"
  }
 },
 "nbformat": 4,
 "nbformat_minor": 5
}
