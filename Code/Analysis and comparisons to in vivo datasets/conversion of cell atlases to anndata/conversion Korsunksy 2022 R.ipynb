{
 "cells": [
  {
   "cell_type": "code",
   "execution_count": 1,
   "id": "4b8d1e4b-d097-44ca-926f-56cc55bc2bfb",
   "metadata": {
    "scrolled": true,
    "tags": []
   },
   "outputs": [],
   "source": [
    "suppressPackageStartupMessages({\n",
    "    library(Seurat)\n",
    "    library(zellkonverter)\n",
    "    library(harmony)\n",
    "    library(singlecellmethods)\n",
    "    library(readxl)\n",
    "    library(rlang)\n",
    "    library(dplyr)\n",
    "    library(uwot)\n",
    "    library(ggplot2)\n",
    "})"
   ]
  },
  {
   "cell_type": "code",
   "execution_count": 30,
   "id": "f965c133-3df6-4de9-9bac-e12f454f80a4",
   "metadata": {},
   "outputs": [],
   "source": [
    "ad <- readH5AD(\"/data/norman/southark/external_datasets/fibroblast_atlas_med_2022/med_2022_normalized_expr.h5ad\")\n",
    "fibro_atlas <- as.Seurat(ad, counts = \"X\", data = NULL)"
   ]
  },
  {
   "cell_type": "code",
   "execution_count": 3,
   "id": "0d09e898-4349-4ff4-bab4-2540974decdc",
   "metadata": {},
   "outputs": [],
   "source": [
    "fibro_atlas <- subset(x = fibro_atlas, subset = sample_type == 'primary')"
   ]
  },
  {
   "cell_type": "code",
   "execution_count": 4,
   "id": "ba2cd204-19a0-45d6-9ed4-ea1369430b60",
   "metadata": {},
   "outputs": [],
   "source": [
    "tissue <- read_excel(\"/data/norman/southark/external_datasets/fibroblast_atlas_med_2022/SupplementaryData.xlsx\", sheet = \"TableS6\")\n",
    "inflamm <- read_excel(\"/data/norman/southark/external_datasets/fibroblast_atlas_med_2022/SupplementaryData.xlsx\", sheet = \"TableS7\")"
   ]
  },
  {
   "cell_type": "code",
   "execution_count": 5,
   "id": "3e3bddfa-d957-452b-889a-f73f4c00e379",
   "metadata": {},
   "outputs": [],
   "source": [
    "filtered_tissue <- tissue[tissue$Pval < 0.05 & tissue$LogFoldChange >= 0.35,]\n",
    "filtered_inflamm <- inflamm[inflamm$Pval < 0.05 & abs(inflamm$Slope) >= 0.1,]"
   ]
  },
  {
   "cell_type": "code",
   "execution_count": 6,
   "id": "e0d4212d-5006-467d-b182-5b8b59472ad5",
   "metadata": {},
   "outputs": [],
   "source": [
    "select_genes <- unique(c(unique(filtered_tissue$Feature), unique(filtered_inflamm$Feature)))"
   ]
  },
  {
   "cell_type": "code",
   "execution_count": 8,
   "id": "c6575c59-7fbe-43a2-8d83-1060aca0eca4",
   "metadata": {},
   "outputs": [],
   "source": [
    "fibro_atlas@assays$originalexp@var.features <- select_genes"
   ]
  },
  {
   "cell_type": "code",
   "execution_count": 9,
   "id": "58fdf794-ac47-458d-b6f9-930aff0e70b5",
   "metadata": {
    "tags": []
   },
   "outputs": [
    {
     "name": "stderr",
     "output_type": "stream",
     "text": [
      "use_weights\n",
      "\n"
     ]
    },
    {
     "name": "stdout",
     "output_type": "stream",
     "text": [
      "[1] TRUE\n"
     ]
    },
    {
     "name": "stderr",
     "output_type": "stream",
     "text": [
      "use_weights\n",
      "\n",
      "use_weights\n",
      "\n"
     ]
    },
    {
     "name": "stdout",
     "output_type": "stream",
     "text": [
      "[1] TRUE\n"
     ]
    },
    {
     "name": "stderr",
     "output_type": "stream",
     "text": [
      "use_weights\n",
      "\n",
      "Harmony 1/10\n",
      "\n",
      "Harmony converged after 1 iterations\n",
      "\n"
     ]
    }
   ],
   "source": [
    "fibro_atlas <- fibro_atlas %>% \n",
    "                RunBalancedPCA(, npcs=40, weight.by=\"organ__ontology_label\", assay.use=\"originalexp\", reduction.name = \"pca.old\") %>%\n",
    "                RunHarmony(, group.by.vars=c(\"donor_id\", \"organ__ontology_label\"),\n",
    "                           reduction = 'pca.old', weight.by=\"organ__ontology_label\",\n",
    "                           assay.use = \"originalexp\", project.dim = FALSE, reduction.save = \"harmony.old\") # weighted harmony"
   ]
  },
  {
   "cell_type": "code",
   "execution_count": 10,
   "id": "9231bba5-e006-4809-973d-1f8b1caaf389",
   "metadata": {},
   "outputs": [],
   "source": [
    "harmony_umap <- umap(fibro_atlas@reductions$harmony.old@cell.embeddings, n_neighbors = 30L, metric = 'Euclidean', init = 'Laplacian',\n",
    "     spread = 0.3, min_dist = 0.05, set_op_mix_ratio = 1.0, local_connectivity = 1L, repulsion_strength = 1, negative_sample_rate = 1, seed=0)"
   ]
  },
  {
   "cell_type": "code",
   "execution_count": 11,
   "id": "1c40d173-4166-44e1-8cd0-94076ba3ffbe",
   "metadata": {},
   "outputs": [
    {
     "name": "stderr",
     "output_type": "stream",
     "text": [
      "Warning message:\n",
      "“No columnames present in cell embeddings, setting to 'umap_1:2'”\n"
     ]
    }
   ],
   "source": [
    "umapdata <- Seurat::CreateDimReducObject(\n",
    "      embeddings = harmony_umap,\n",
    "      stdev = as.numeric(apply(harmony_umap, 2, stats::sd)),\n",
    "      assay = \"originalexp\",\n",
    "      key = \"umap_\"\n",
    "    )"
   ]
  },
  {
   "cell_type": "code",
   "execution_count": 12,
   "id": "affe2f33-0263-4ae7-9ad9-e5cbc93378ca",
   "metadata": {},
   "outputs": [],
   "source": [
    "fibro_atlas[[\"umap.old\"]] <- umapdata"
   ]
  },
  {
   "cell_type": "code",
   "execution_count": 17,
   "id": "0c9f491c-737d-4490-85e3-8ed0064c459f",
   "metadata": {},
   "outputs": [],
   "source": [
    "comps <- read.csv(\"/data/norman/southark/external_datasets/fibro_CRISPRa_Tfs/20240331_fibroblast_bulk_comps.csv\", row.names=\"X\")"
   ]
  },
  {
   "cell_type": "code",
   "execution_count": 18,
   "id": "1af64460-fddd-4b00-97c2-80b9f71d0fa4",
   "metadata": {},
   "outputs": [],
   "source": [
    "features <- list()\n",
    "weights <- list()\n",
    "for (i in rownames(comps)){\n",
    "    features[[strtoi(i)+1]] <- colnames(comps[i, which(comps[i,] > 0.05)])\n",
    "    weights[[strtoi(i)+1]] <- as.numeric(comps[i, which(comps[i,] > 0.05)])\n",
    "}\n",
    "\n",
    "features <- features[-56]\n",
    "weights <- weights[-56]"
   ]
  },
  {
   "cell_type": "code",
   "execution_count": 373,
   "id": "cd22ac29-4ac1-4336-bdfe-0b4d7c0b226f",
   "metadata": {},
   "outputs": [],
   "source": [
    "program_genes <- names(which(apply(comps > 0.05, 2, any)))"
   ]
  },
  {
   "cell_type": "code",
   "execution_count": 374,
   "id": "20acf332-5001-47fb-8602-e22075d29cbb",
   "metadata": {},
   "outputs": [],
   "source": [
    "missing_genes <- setdiff(program_genes, rownames(fibro_atlas@assays$originalexp@meta.features))"
   ]
  },
  {
   "cell_type": "code",
   "execution_count": 375,
   "id": "64dd8996-2997-4aa3-a41d-2eece0ffb6c1",
   "metadata": {},
   "outputs": [
    {
     "name": "stderr",
     "output_type": "stream",
     "text": [
      "Found updated symbols for 14 symbols\n",
      "\n",
      "SARS -> SARS1\n",
      "H2AFV -> H2AZ2\n",
      "GARS -> GARS1\n",
      "TARS -> TARS1\n",
      "NARS -> NARS1\n",
      "EPRS -> EPRS1\n",
      "WARS -> WARS1\n",
      "H3F3A -> H3-3A\n",
      "H2AFZ -> H2AZ1\n",
      "HIST1H2AC -> H2AC6\n",
      "H2AFX -> H2AX\n",
      "IARS -> IARS1\n",
      "HIST1H4C -> H4C3\n",
      "H2AFJ -> H2AJ\n",
      "\n"
     ]
    }
   ],
   "source": [
    "updated_list <- UpdateSymbolList(missing_genes)"
   ]
  },
  {
   "cell_type": "code",
   "execution_count": 859,
   "id": "967c4f8c-4fb9-4e59-8ac9-8bcc321f91aa",
   "metadata": {},
   "outputs": [],
   "source": [
    "manually_mapped <- c(\"HLA-A\", \"HLA-B\", \"HLA-C\", \"KRTAP2-3\", \"KRTAP1-5\", \"MT-ATP6\", \"MT-CO1\",\n",
    "                     \"MT-CO2\", \"MT-CO3\", \"MT-CYB\", \"MT-ND1\", \"MT-ND2\", \"MT-ND3\", \"MT-ND4\", \"MT-ND5\")"
   ]
  },
  {
   "cell_type": "code",
   "execution_count": 860,
   "id": "226d01e8-6d01-478c-b9d5-25ef603cedb3",
   "metadata": {},
   "outputs": [],
   "source": [
    "select_program_genes <- intersect(c(manually_mapped, updated_list, colnames(comps)), rownames(fibro_atlas@assays$originalexp@meta.features))"
   ]
  },
  {
   "cell_type": "code",
   "execution_count": 861,
   "id": "c09319f9-0c13-4b99-96e3-c2117c70b6b5",
   "metadata": {},
   "outputs": [],
   "source": [
    "fibro_atlas@assays$originalexp@var.features <- union(select_program_genes, select_genes)"
   ]
  },
  {
   "cell_type": "code",
   "execution_count": 862,
   "id": "f7439bb7-8a53-455a-8dc1-0028703b34b1",
   "metadata": {},
   "outputs": [
    {
     "name": "stderr",
     "output_type": "stream",
     "text": [
      "use_weights\n",
      "\n"
     ]
    },
    {
     "name": "stdout",
     "output_type": "stream",
     "text": [
      "[1] TRUE\n"
     ]
    },
    {
     "name": "stderr",
     "output_type": "stream",
     "text": [
      "use_weights\n",
      "\n",
      "use_weights\n",
      "\n"
     ]
    },
    {
     "name": "stdout",
     "output_type": "stream",
     "text": [
      "[1] TRUE\n"
     ]
    },
    {
     "name": "stderr",
     "output_type": "stream",
     "text": [
      "use_weights\n",
      "\n",
      "Harmony 1/10\n",
      "\n",
      "Harmony converged after 1 iterations\n",
      "\n"
     ]
    }
   ],
   "source": [
    "fibro_atlas <- fibro_atlas %>% \n",
    "                RunBalancedPCA(, npcs=40, weight.by=\"organ__ontology_label\", assay.use=\"originalexp\", ) %>%\n",
    "                RunHarmony(, group.by.vars=c(\"organ__ontology_label\", \"donor_id\"),\n",
    "                           reduction = 'pca', weight.by=\"organ__ontology_label\", assay.use = \"originalexp\", project.dim = FALSE) # weighted harmony"
   ]
  },
  {
   "cell_type": "code",
   "execution_count": 863,
   "id": "53e73cc6-6860-42d1-95e5-7820bb512bcd",
   "metadata": {},
   "outputs": [],
   "source": [
    "harmony_umap <- umap(fibro_atlas@reductions$harmony@cell.embeddings, n_neighbors = 30L, metric = 'Euclidean', init = 'Laplacian',\n",
    "     spread = 0.3, min_dist = 0.05, set_op_mix_ratio = 1.0, local_connectivity = 1L, repulsion_strength = 1, negative_sample_rate = 1, seed=0)"
   ]
  },
  {
   "cell_type": "code",
   "execution_count": 864,
   "id": "00a0b297-edc5-4f15-a486-d60e4f69a1da",
   "metadata": {},
   "outputs": [
    {
     "name": "stderr",
     "output_type": "stream",
     "text": [
      "Warning message:\n",
      "“No columnames present in cell embeddings, setting to 'umap_1:2'”\n"
     ]
    }
   ],
   "source": [
    "umapdata <- Seurat::CreateDimReducObject(\n",
    "      embeddings = harmony_umap,\n",
    "      stdev = as.numeric(apply(harmony_umap, 2, stats::sd)),\n",
    "      assay = \"originalexp\",\n",
    "      key = \"umap_\"\n",
    "    )"
   ]
  },
  {
   "cell_type": "code",
   "execution_count": 865,
   "id": "6a19019e-8342-4ee9-b0cd-e1766e5085e2",
   "metadata": {},
   "outputs": [],
   "source": [
    "fibro_atlas[[\"umap\"]] <- umapdata"
   ]
  },
  {
   "cell_type": "code",
   "execution_count": 24,
   "id": "62b2be05-5bee-42ef-a541-12527a7b441a",
   "metadata": {},
   "outputs": [],
   "source": [
    "LengthCheck <- function(values, cutoff = 0) {\n",
    "  return(vapply(\n",
    "    X = values,\n",
    "    FUN = function(x) {\n",
    "      return(length(x = x) > cutoff)\n",
    "    },\n",
    "    FUN.VALUE = logical(1)\n",
    "  ))\n",
    "}"
   ]
  },
  {
   "cell_type": "code",
   "execution_count": 25,
   "id": "429fecd0-f5ce-4f67-b86b-25487caafcc8",
   "metadata": {},
   "outputs": [],
   "source": [
    "AddWeightedModuleScore <- function(\n",
    "  object,\n",
    "  features,\n",
    "  weights,\n",
    "  pool = NULL,\n",
    "  nbin = 24,\n",
    "  ctrl = 100,\n",
    "  k = FALSE,\n",
    "  assay = NULL,\n",
    "  name = 'Cluster',\n",
    "  seed = 1,\n",
    "  search = FALSE,\n",
    "  slot = 'data',\n",
    "  ...\n",
    ") {\n",
    "  if (!is.null(x = seed)) {\n",
    "    set.seed(seed = seed)\n",
    "  }\n",
    "  assay.old <- DefaultAssay(object = object)\n",
    "  assay <- assay %||% assay.old\n",
    "  DefaultAssay(object = object) <- assay\n",
    "  assay.data <- GetAssayData(object = object, assay = assay, slot = slot)\n",
    "  features.old <- features\n",
    "  features.original <- features\n",
    "  if (k) {\n",
    "    .NotYetUsed(arg = 'k')\n",
    "    features <- list()\n",
    "    for (i in as.numeric(x = names(x = table(object@kmeans.obj[[1]]$cluster)))) {\n",
    "      features[[i]] <- names(x = which(x = object@kmeans.obj[[1]]$cluster == i))\n",
    "    }\n",
    "    cluster.length <- length(x = features)\n",
    "  } else {\n",
    "    if (is.null(x = features)) {\n",
    "      stop(\"Missing input feature list\")\n",
    "    }\n",
    "    features <- lapply(\n",
    "      X = features,\n",
    "      FUN = function(x) {\n",
    "        missing.features <- setdiff(x = x, y = rownames(x = object))\n",
    "        if (length(x = missing.features) > 0) {\n",
    "          warning(\n",
    "            \"The following features are not present in the object: \",\n",
    "            paste(missing.features, collapse = \", \"),\n",
    "            ifelse(\n",
    "              test = search,\n",
    "              yes = \", attempting to find updated synonyms\",\n",
    "              no = \", not searching for symbol synonyms\"\n",
    "            ),\n",
    "            call. = FALSE,\n",
    "            immediate. = TRUE\n",
    "          )\n",
    "          if (search) {\n",
    "            tryCatch(\n",
    "              expr = {\n",
    "                updated.features <- UpdateSymbolList(symbols = missing.features, ...)\n",
    "                names(x = updated.features) <- missing.features\n",
    "                for (miss in names(x = updated.features)) {\n",
    "                  index <- which(x == miss)\n",
    "                  x[index] <- updated.features[miss]\n",
    "                }\n",
    "              },\n",
    "              error = function(...) {\n",
    "                warning(\n",
    "                  \"Could not reach HGNC's gene names database\",\n",
    "                  call. = FALSE,\n",
    "                  immediate. = TRUE\n",
    "                )\n",
    "              }\n",
    "            )\n",
    "            missing.features <- setdiff(x = x, y = rownames(x = object))\n",
    "            if (length(x = missing.features) > 0) {\n",
    "              warning(\n",
    "                \"The following features are still not present in the object: \",\n",
    "                paste(missing.features, collapse = \", \"),\n",
    "                call. = FALSE,\n",
    "                immediate. = TRUE\n",
    "              )\n",
    "            }\n",
    "          }\n",
    "        }\n",
    "        return(intersect(x = x, y = rownames(x = object)))\n",
    "      }\n",
    "    )\n",
    "    \n",
    "    for (i in 1:length(features)){\n",
    "        features[[i]] <- features.original[[i]][which(features.original[[i]] %in% features[[i]])]\n",
    "        weights[[i]] <- weights[[i]][which(features.original[[i]] %in% features[[i]])]\n",
    "    }\n",
    "    cluster.length <- length(x = features)\n",
    "  }\n",
    "  if (!all(LengthCheck(values = features))) {\n",
    "    warning(paste(\n",
    "      'Could not find enough features in the object from the following feature lists:',\n",
    "      paste(names(x = which(x = !LengthCheck(values = features)))),\n",
    "      'Attempting to match case...'\n",
    "    ))\n",
    "    features <- lapply(\n",
    "      X = features.old,\n",
    "      FUN = CaseMatch,\n",
    "      match = rownames(x = object)\n",
    "    )\n",
    "  }\n",
    "  if (!all(LengthCheck(values = features))) {\n",
    "    stop(paste(\n",
    "      'The following feature lists do not have enough features present in the object:',\n",
    "      paste(names(x = which(x = !LengthCheck(values = features)))),\n",
    "      'exiting...'\n",
    "    ))\n",
    "  }\n",
    "  pool <- pool %||% rownames(x = object)\n",
    "  data.avg <- Matrix::rowMeans(x = assay.data[pool, ])\n",
    "  data.avg <- data.avg[order(data.avg)]\n",
    "  data.cut <- cut_number(x = data.avg + rnorm(n = length(data.avg))/1e30, n = nbin, labels = FALSE, right = FALSE)\n",
    "  names(x = data.cut) <- names(x = data.avg)\n",
    "  ctrl.use <- vector(mode = \"list\", length = cluster.length)\n",
    "  for (i in 1:cluster.length) {\n",
    "    features.use <- features[[i]]\n",
    "    ctrl.use[[i]] <- vector(mode = \"list\", length = length(x = features.use))\n",
    "    for (j in 1:length(x = features.use)) {\n",
    "        \n",
    "      # save controls as list of lists\n",
    "      ctrl.use[[i]][[j]] <- names(x = sample(\n",
    "          x = data.cut[which(x = data.cut == data.cut[features.use[j]])],\n",
    "          size = ctrl,\n",
    "          replace = FALSE\n",
    "        ))\n",
    "    }\n",
    "  }\n",
    "  \n",
    "  ctrl.scores <- matrix(\n",
    "    data = numeric(length = 1L),\n",
    "    nrow = length(x = ctrl.use),\n",
    "    ncol = ncol(x = object)\n",
    "  )\n",
    "  \n",
    "  for (i in 1:length(ctrl.use)) {\n",
    "    features.use <- ctrl.use[[i]]\n",
    "    ctrl.scores[i, ] <- 0\n",
    "      \n",
    "    for (f in 1:length(features.use)){\n",
    "        ctrl.scores[i, ] <- ctrl.scores[i, ] + Matrix::colMeans(x = assay.data[features.use[[f]], ]) * weights[[i]][f]\n",
    "    }\n",
    "      \n",
    "  }\n",
    "\n",
    "  features.scores <- matrix(\n",
    "    data = numeric(length = 1L),\n",
    "    nrow = cluster.length,\n",
    "    ncol = ncol(x = object)\n",
    "  )\n",
    "  \n",
    "  for (i in 1:cluster.length) {\n",
    "    features.use <- features[[i]]\n",
    "    features.scores[i, ] <- Matrix::colSums(assay.data[features.use, , drop = FALSE] * weights[[i]])\n",
    "    \n",
    "  }\n",
    "\n",
    "  features.scores.use <- (features.scores - ctrl.scores) / mapply(function(x, y) x * y, lapply(weights, mean), lapply(features, length))\n",
    "  rownames(x = features.scores.use) <- paste0(name, 1:cluster.length)\n",
    "  features.scores.use <- as.data.frame(x = t(x = features.scores.use))\n",
    "  rownames(x = features.scores.use) <- colnames(x = object)\n",
    "  object[[colnames(x = features.scores.use)]] <- features.scores.use\n",
    "  CheckGC()\n",
    "  DefaultAssay(object = object) <- assay.old\n",
    "  return(object)\n",
    "}"
   ]
  },
  {
   "cell_type": "code",
   "execution_count": 28,
   "id": "12a0d22c-9591-497e-a254-09953c20ec50",
   "metadata": {
    "scrolled": true,
    "tags": []
   },
   "outputs": [
    {
     "name": "stderr",
     "output_type": "stream",
     "text": [
      "Warning message:\n",
      "“The following features are not present in the object: H2AFV, H2AFZ, H2AFX, HIST1H4C, attempting to find updated synonyms”\n",
      "Found updated symbols for 4 symbols\n",
      "\n",
      "H2AFV -> H2AZ2\n",
      "H2AFZ -> H2AZ1\n",
      "H2AFX -> H2AX\n",
      "HIST1H4C -> H4C3\n",
      "\n",
      "Warning message:\n",
      "“The following features are not present in the object: SNHG29, attempting to find updated synonyms”\n",
      "Warning message:\n",
      "“No updated symbols found”\n",
      "Warning message:\n",
      "“The following features are still not present in the object: SNHG29”\n",
      "Warning message:\n",
      "“The following features are not present in the object: H2AFJ, LMO7.AS1, attempting to find updated synonyms”\n",
      "Found updated symbols for 1 symbols\n",
      "\n",
      "H2AFJ -> H2AJ\n",
      "\n",
      "Warning message:\n",
      "“The following features are still not present in the object: LMO7.AS1”\n",
      "Warning message:\n",
      "“The following features are not present in the object: MDH1, SNHG29, ZFAS1, MT.ND5, SNHG5, HLA.B, NR2F1.AS1, attempting to find updated synonyms”\n",
      "Warning message:\n",
      "“No updated symbols found”\n",
      "Warning message:\n",
      "“The following features are still not present in the object: MDH1, SNHG29, ZFAS1, MT.ND5, SNHG5, HLA.B, NR2F1.AS1”\n",
      "Warning message:\n",
      "“The following features are not present in the object: SNHG16, NR2F1.AS1, attempting to find updated synonyms”\n",
      "Warning message:\n",
      "“No updated symbols found”\n",
      "Warning message:\n",
      "“The following features are still not present in the object: SNHG16, NR2F1.AS1”\n",
      "Warning message:\n",
      "“The following features are not present in the object: KRTAP2.3, KRTAP1.5, attempting to find updated synonyms”\n",
      "Warning message:\n",
      "“No updated symbols found”\n",
      "Warning message:\n",
      "“The following features are still not present in the object: KRTAP2.3, KRTAP1.5”\n",
      "Warning message:\n",
      "“The following features are not present in the object: HIST1H2AC, SNHG7, attempting to find updated synonyms”\n",
      "Found updated symbols for 1 symbols\n",
      "\n",
      "HIST1H2AC -> H2AC6\n",
      "\n",
      "Warning message:\n",
      "“The following features are still not present in the object: SNHG7”\n",
      "Warning message:\n",
      "“The following features are not present in the object: HIST1H2AC, MT.CO1, SNHG32, HLA.C, GAS5, NEAT1, MALAT1, attempting to find updated synonyms”\n",
      "Found updated symbols for 1 symbols\n",
      "\n",
      "HIST1H2AC -> H2AC6\n",
      "\n",
      "Warning message:\n",
      "“The following features are still not present in the object: MT.CO1, SNHG32, HLA.C, GAS5, NEAT1, MALAT1”\n",
      "Warning message:\n",
      "“The following features are not present in the object: H3F3A, attempting to find updated synonyms”\n",
      "Found updated symbols for 1 symbols\n",
      "\n",
      "H3F3A -> H3-3A\n",
      "\n",
      "Warning message:\n",
      "“The following features are not present in the object: HLA.C, HLA.A, HLA.B, attempting to find updated synonyms”\n",
      "Warning message:\n",
      "“No updated symbols found”\n",
      "Warning message:\n",
      "“The following features are still not present in the object: HLA.C, HLA.A, HLA.B”\n",
      "Warning message:\n",
      "“The following features are not present in the object: SERTAD4.AS1, attempting to find updated synonyms”\n",
      "Warning message:\n",
      "“No updated symbols found”\n",
      "Warning message:\n",
      "“The following features are still not present in the object: SERTAD4.AS1”\n",
      "Warning message:\n",
      "“The following features are not present in the object: MEG3, attempting to find updated synonyms”\n",
      "Warning message:\n",
      "“No updated symbols found”\n",
      "Warning message:\n",
      "“The following features are still not present in the object: MEG3”\n",
      "Warning message:\n",
      "“The following features are not present in the object: MT.CO2, MT.CYB, MT.ND2, MT.ND5, MT.CO1, MT.ND3, MT.ND4, MT.ND1, MT.ATP6, MT.CO3, attempting to find updated synonyms”\n",
      "Warning message:\n",
      "“No updated symbols found”\n",
      "Warning message:\n",
      "“The following features are still not present in the object: MT.CO2, MT.CYB, MT.ND2, MT.ND5, MT.CO1, MT.ND3, MT.ND4, MT.ND1, MT.ATP6, MT.CO3”\n",
      "Warning message:\n",
      "“The following features are not present in the object: AMD1, attempting to find updated synonyms”\n",
      "Warning message:\n",
      "“No updated symbols found”\n",
      "Warning message:\n",
      "“The following features are still not present in the object: AMD1”\n",
      "Warning message:\n",
      "“The following features are not present in the object: MEG3, NEAT1, MALAT1, attempting to find updated synonyms”\n",
      "Warning message:\n",
      "“No updated symbols found”\n",
      "Warning message:\n",
      "“The following features are still not present in the object: MEG3, NEAT1, MALAT1”\n",
      "Warning message:\n",
      "“The following features are not present in the object: SNHG8, attempting to find updated synonyms”\n",
      "Warning message:\n",
      "“No updated symbols found”\n",
      "Warning message:\n",
      "“The following features are still not present in the object: SNHG8”\n",
      "Warning message:\n",
      "“The following features are not present in the object: SERTAD4.AS1, attempting to find updated synonyms”\n",
      "Warning message:\n",
      "“No updated symbols found”\n",
      "Warning message:\n",
      "“The following features are still not present in the object: SERTAD4.AS1”\n",
      "Warning message:\n",
      "“The following features are not present in the object: AMD1, attempting to find updated synonyms”\n",
      "Warning message:\n",
      "“No updated symbols found”\n",
      "Warning message:\n",
      "“The following features are still not present in the object: AMD1”\n",
      "Warning message:\n",
      "“The following features are not present in the object: AC037198.1, attempting to find updated synonyms”\n",
      "Warning message:\n",
      "“No updated symbols found”\n",
      "Warning message:\n",
      "“The following features are still not present in the object: AC037198.1”\n",
      "Warning message:\n",
      "“The following features are not present in the object: SERTAD4.AS1, attempting to find updated synonyms”\n",
      "Warning message:\n",
      "“No updated symbols found”\n",
      "Warning message:\n",
      "“The following features are still not present in the object: SERTAD4.AS1”\n",
      "Warning message:\n",
      "“The following features are not present in the object: SNHG16, MT.CO1, KRTAP2.3, attempting to find updated synonyms”\n",
      "Warning message:\n",
      "“No updated symbols found”\n",
      "Warning message:\n",
      "“The following features are still not present in the object: SNHG16, MT.CO1, KRTAP2.3”\n",
      "Warning message:\n",
      "“The following features are not present in the object: SARS, GARS, TARS, NARS, EPRS, WARS, ZFAS1, IARS, SNHG5, EPB41L4A.AS1, GAS5, attempting to find updated synonyms”\n",
      "Found updated symbols for 7 symbols\n",
      "\n",
      "SARS -> SARS1\n",
      "GARS -> GARS1\n",
      "TARS -> TARS1\n",
      "NARS -> NARS1\n",
      "EPRS -> EPRS1\n",
      "WARS -> WARS1\n",
      "IARS -> IARS1\n",
      "\n",
      "Warning message:\n",
      "“The following features are still not present in the object: ZFAS1, SNHG5, EPB41L4A.AS1, GAS5”\n",
      "Warning message:\n",
      "“The following features are not present in the object: MIR100HG, attempting to find updated synonyms”\n",
      "Warning message:\n",
      "“No updated symbols found”\n",
      "Warning message:\n",
      "“The following features are still not present in the object: MIR100HG”\n",
      "Warning message:\n",
      "“The following features are not present in the object: H2AFV, OIP5.AS1, LINC00667, attempting to find updated synonyms”\n",
      "Found updated symbols for 1 symbols\n",
      "\n",
      "H2AFV -> H2AZ2\n",
      "\n",
      "Warning message:\n",
      "“The following features are still not present in the object: OIP5.AS1, LINC00667”\n",
      "Warning message:\n",
      "“The following features are not present in the object: EPRS, attempting to find updated synonyms”\n",
      "Found updated symbols for 1 symbols\n",
      "\n",
      "EPRS -> EPRS1\n",
      "\n",
      "Warning message:\n",
      "“The following features are not present in the object: HLA.C, attempting to find updated synonyms”\n",
      "Warning message:\n",
      "“No updated symbols found”\n",
      "Warning message:\n",
      "“The following features are still not present in the object: HLA.C”\n"
     ]
    }
   ],
   "source": [
    "fibro_atlas <- AddWeightedModuleScore(fibro_atlas, features, weights, name=\"gene.program\", search=TRUE)"
   ]
  },
  {
   "cell_type": "code",
   "execution_count": 892,
   "id": "54802b13-8721-43c1-ae6c-b65a548428a6",
   "metadata": {},
   "outputs": [],
   "source": [
    "sce_fibro_atlas <- as.SingleCellExperiment(fibro_atlas, assay = c(\"originalexp\"))\n",
    "writeH5AD(sce_fibro_atlas, \"/data/norman/angel/fibro_datasets/fibroblast_atlas_med_2022.h5ad\", X_name = 'counts')"
   ]
  },
  {
   "cell_type": "code",
   "execution_count": null,
   "id": "32359963-2756-41d4-b6f6-38a3a939681f",
   "metadata": {},
   "outputs": [],
   "source": []
  }
 ],
 "metadata": {
  "kernelspec": {
   "display_name": "R 4.3",
   "language": "R",
   "name": "ir43"
  },
  "language_info": {
   "codemirror_mode": "r",
   "file_extension": ".r",
   "mimetype": "text/x-r-source",
   "name": "R",
   "pygments_lexer": "r",
   "version": "4.3.3"
  }
 },
 "nbformat": 4,
 "nbformat_minor": 5
}
