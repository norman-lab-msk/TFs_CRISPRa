{
 "cells": [
  {
   "cell_type": "code",
   "execution_count": 1,
   "id": "3acc4f87",
   "metadata": {},
   "outputs": [],
   "source": [
    "import matplotlib.pyplot as plt\n",
    "import numpy as np\n",
    "import pandas as pd\n",
    "import seaborn as sns\n",
    "pd.options.display.float_format = '{:.4f}'.format\n",
    "import matplotlib\n",
    "from tqdm import tqdm\n",
    "\n",
    "matplotlib.rcParams['pdf.fonttype'] = 42\n",
    "%load_ext autoreload\n",
    "%autoreload 2\n",
    "%matplotlib inline\n",
    "\n",
    "from perturbseq import *"
   ]
  },
  {
   "cell_type": "code",
   "execution_count": 5,
   "id": "6f3467e5",
   "metadata": {},
   "outputs": [
    {
     "name": "stdout",
     "output_type": "stream",
     "text": [
      "Loading matrix...\n",
      "Loading metadata...\n",
      "Done in 2.1829025745391846s.\n",
      "Done.\n"
     ]
    }
   ],
   "source": [
    "gwps_mean_pop = CellPopulation.from_hdf('/data/norman/southark/tfs_standardized/20240311_fibroblast_CRISPRa_mean_pop.hdf', stored_matrix_ids=['p', 'adj_p', 'masked'])"
   ]
  },
  {
   "cell_type": "code",
   "execution_count": 6,
   "id": "e29af693",
   "metadata": {},
   "outputs": [],
   "source": [
    "gwps_mean_pop.genes.index.name = 'gene_id'"
   ]
  },
  {
   "cell_type": "markdown",
   "id": "b565781e",
   "metadata": {},
   "source": [
    "# Annotating masked_active and expanded_masked_active guides, plus picking strongest representatives when multiple guides target same gene"
   ]
  },
  {
   "cell_type": "code",
   "execution_count": 7,
   "id": "0de8cd12",
   "metadata": {},
   "outputs": [],
   "source": [
    "expanded_guides = pd.read_csv('/data/norman/southark/tfs_standardized/20240319_rescued_fibroblast_guides.csv', index_col=0)\n",
    "gwps_mean_pop.cells['expanded_masked_active'] = expanded_guides['expanded_masked_active']"
   ]
  },
  {
   "cell_type": "code",
   "execution_count": 9,
   "id": "8a5716d6",
   "metadata": {},
   "outputs": [],
   "source": [
    "guide_library = pd.read_csv('/data/norman/southark/tfs_standardized/20240318_merged_morf_tf_lib_guide_activity_classifications_final_low_UMI_count_regressions_coef.csv', index_col=0)"
   ]
  },
  {
   "cell_type": "code",
   "execution_count": 10,
   "id": "a0417caa",
   "metadata": {},
   "outputs": [],
   "source": [
    "guide_library['masked_active'] = gwps_mean_pop.cells['masked_active']\n",
    "guide_library['expanded_masked_active'] = gwps_mean_pop.cells['expanded_masked_active']\n",
    "guide_library['masked_active'].fillna(False, inplace=True)\n",
    "guide_library['expanded_masked_active'].fillna(False, inplace=True)"
   ]
  },
  {
   "cell_type": "code",
   "execution_count": 11,
   "id": "556391eb",
   "metadata": {},
   "outputs": [],
   "source": [
    "guide_library['de_genes'] = gwps_mean_pop.cells['de_genes']"
   ]
  },
  {
   "cell_type": "code",
   "execution_count": 12,
   "id": "70098908",
   "metadata": {},
   "outputs": [],
   "source": [
    "masked_and_strongest = guide_library.query('masked_active and not bad_seed').sort_values('de_genes', ascending=False).groupby('target_gene').head(1).index"
   ]
  },
  {
   "cell_type": "code",
   "execution_count": 13,
   "id": "707898f1",
   "metadata": {},
   "outputs": [],
   "source": [
    "expanded_masked = guide_library.query('expanded_masked_active and not bad_seed').index"
   ]
  },
  {
   "cell_type": "code",
   "execution_count": 14,
   "id": "54e47868",
   "metadata": {},
   "outputs": [],
   "source": [
    "gwps_mean_pop.cells['primary_guide'] = gwps_mean_pop.cells.index.isin(masked_and_strongest)\n",
    "gwps_mean_pop.cells['expanded_primary_guide'] = gwps_mean_pop.cells.index.isin(np.union1d(masked_and_strongest, expanded_masked))"
   ]
  },
  {
   "cell_type": "code",
   "execution_count": null,
   "id": "59092510",
   "metadata": {},
   "outputs": [],
   "source": []
  },
  {
   "cell_type": "markdown",
   "id": "6e874458",
   "metadata": {},
   "source": [
    "# Feature selection for use in embedding"
   ]
  },
  {
   "cell_type": "code",
   "execution_count": 1,
   "id": "6d56934d",
   "metadata": {},
   "outputs": [],
   "source": [
    "# take genes that were put into programs by sparse PCA procedure"
   ]
  },
  {
   "cell_type": "code",
   "execution_count": 15,
   "id": "02861843",
   "metadata": {},
   "outputs": [],
   "source": [
    "comps = pd.read_csv('20240331_fibroblast_bulk_comps.csv', index_col=0)\n",
    "target_genes = comps.loc[:, (comps>0).any()].columns\n",
    "target_gene_ids = gwps_mean_pop.genes.query('gene_name in @target_genes').index"
   ]
  },
  {
   "cell_type": "code",
   "execution_count": null,
   "id": "9ffc81f0",
   "metadata": {},
   "outputs": [],
   "source": []
  },
  {
   "cell_type": "code",
   "execution_count": 50,
   "id": "019fea8e",
   "metadata": {},
   "outputs": [],
   "source": [
    "masked_active_genes = gwps_mean_pop.cells.query('masked_active')['target_gene'].unique()"
   ]
  },
  {
   "cell_type": "code",
   "execution_count": 51,
   "id": "f16b258d",
   "metadata": {},
   "outputs": [],
   "source": [
    "gwps_expr = gwps_mean_pop.where(cells='de_genes > 10 and target_gene not in @masked_active_genes',\n",
    "                                genes=target_gene_ids, masked_active_genes=masked_active_genes)"
   ]
  },
  {
   "cell_type": "code",
   "execution_count": 53,
   "id": "757524b0",
   "metadata": {},
   "outputs": [],
   "source": [
    "gwps_expr['gene_id'] = guide_library.reindex(gwps_expr.index)['gene_name']\n",
    "gwps_expr.set_index('gene_id', append=True, inplace=True)"
   ]
  },
  {
   "cell_type": "code",
   "execution_count": 66,
   "id": "c025711d",
   "metadata": {
    "scrolled": true
   },
   "outputs": [
    {
     "name": "stderr",
     "output_type": "stream",
     "text": [
      "100%|█████████████████████████████████████████| 138/138 [00:00<00:00, 4440.12it/s]\n",
      "100%|█████████████████████████████████████████| 138/138 [00:00<00:00, 4515.49it/s]\n"
     ]
    }
   ],
   "source": [
    "masked_gwps_expr = get_masked_expr(gwps_expr)\n",
    "masked_gwps_variable_expr = get_masked_expr(gwps_expr[target_gene_ids])"
   ]
  },
  {
   "cell_type": "code",
   "execution_count": 67,
   "id": "55f38f75",
   "metadata": {},
   "outputs": [],
   "source": [
    "# gwps_expr[gwps_variable_genes].to_csv('/scratch/tmn/genomewide_perturbseq/final/embedding_expression.csv')"
   ]
  },
  {
   "cell_type": "code",
   "execution_count": 68,
   "id": "7d502f64",
   "metadata": {},
   "outputs": [
    {
     "name": "stdout",
     "output_type": "stream",
     "text": [
      "CPU times: user 1min 34s, sys: 83.5 ms, total: 1min 34s\n",
      "Wall time: 1min 34s\n"
     ]
    }
   ],
   "source": [
    "%%time\n",
    "gwps_corrs = masked_gwps_expr.T.corr()\n",
    "gwps_variable_corrs = masked_gwps_variable_expr.T.corr()"
   ]
  },
  {
   "cell_type": "code",
   "execution_count": 69,
   "id": "bd4f98d0",
   "metadata": {},
   "outputs": [],
   "source": [
    "gwps_distances = 1 - gwps_corrs\n",
    "gwps_variable_distances = 1 - gwps_variable_corrs"
   ]
  },
  {
   "cell_type": "code",
   "execution_count": 70,
   "id": "8a8d827d",
   "metadata": {},
   "outputs": [],
   "source": [
    "import pymde\n",
    "import torch\n",
    "from sklearn.manifold import SpectralEmbedding\n",
    "\n",
    "# very mildly modified version of pymde's preserve_neighbors that uses sklearn's spectral \n",
    "# embedding as initialization instead of theirs. Their version appears to be non-deterministic\n",
    "# at least on our server\n",
    "\n",
    "def my_preserve_neighbors(\n",
    "    data,\n",
    "    embedding_dim=2,\n",
    "    attractive_penalty=pymde.penalties.Log1p,\n",
    "    repulsive_penalty=pymde.penalties.Log,\n",
    "    constraint=None,\n",
    "    n_neighbors=None,\n",
    "    repulsive_fraction=None,\n",
    "    max_distance=None,\n",
    "    init=\"quadratic\",\n",
    "    device=\"cpu\",\n",
    "    verbose=False,\n",
    "):\n",
    "\n",
    "    if isinstance(data, pymde.preprocess.graph.Graph):\n",
    "        n = data.n_items\n",
    "    elif data.shape[0] <= 1:\n",
    "        raise ValueError(\"The data matrix must have at least two rows.\")\n",
    "    else:\n",
    "        n = data.shape[0]\n",
    "\n",
    "    if n_neighbors is None:\n",
    "        # target included edges to be ~1% of total number of edges\n",
    "        n_choose_2 = n * (n - 1) / 2\n",
    "        n_neighbors = int(max(min(15, n_choose_2 * 0.01 / n), 5))\n",
    "    if n_neighbors > n:\n",
    "        pymde.problem.LOGGER.warning(\n",
    "            (\n",
    "                \"Requested n_neighbors {0} > number of items {1}.\"\n",
    "                \" Setting n_neighbors to {2}\"\n",
    "            ).format(n_neighbors, n, n - 1)\n",
    "        )\n",
    "        n_neighbors = n - 1\n",
    "\n",
    "    if constraint is None and repulsive_penalty is not None:\n",
    "        constraint = pymde.constraints.Centered()\n",
    "    elif constraint is None and repulsive_penalty is None:\n",
    "        constraint = pymde.constraints.Standardized()\n",
    "\n",
    "    if isinstance(data, pymde.preprocess.graph.Graph):\n",
    "        # enforce a max distance, otherwise may very well run out of memory\n",
    "        # when n_items is large\n",
    "        if max_distance is None:\n",
    "            max_distance = (3 * torch.quantile(data.distances, 0.75)).item()\n",
    "\n",
    "    if verbose:\n",
    "        pymde.problem.LOGGER.info(\n",
    "            f\"Computing {n_neighbors}-nearest neighbors, with \"\n",
    "            f\"max_distance={max_distance}\"\n",
    "        )\n",
    "\n",
    "    knn_graph = pymde.preprocess.generic.k_nearest_neighbors(\n",
    "        data,\n",
    "        k=n_neighbors,\n",
    "        max_distance=max_distance,\n",
    "        verbose=verbose,\n",
    "    )\n",
    "    edges = knn_graph.edges.to(device)\n",
    "    weights = knn_graph.weights.to(device)\n",
    "\n",
    "    if isinstance(constraint, pymde.constraints.Anchored):\n",
    "        # remove anchor-anchor edges before generating intialization\n",
    "        edges, weights = pymde.recipes._remove_anchor_anchor_edges(\n",
    "            edges, weights, constraint.anchors\n",
    "        )\n",
    "\n",
    "    if init == \"quadratic\":\n",
    "        if verbose:\n",
    "            pymde.problem.LOGGER.info(\"Computing quadratic initialization.\")\n",
    "        init = SpectralEmbedding(n_components=embedding_dim,\n",
    "                             affinity='nearest_neighbors',\n",
    "                             n_neighbors=n_neighbors,\n",
    "                             eigen_solver='arpack').fit_transform(data)\n",
    "        X_init = torch.Tensor(init.copy()).to(device)\n",
    "        # X_init = pymde.quadratic.spectral(\n",
    "        #    n, embedding_dim, edges, weights, device=device\n",
    "        #)\n",
    "        if not isinstance(\n",
    "            constraint, (pymde.constraints._Centered, pymde.constraints._Standardized)\n",
    "        ):\n",
    "            constraint.project_onto_constraint(X_init, inplace=True)\n",
    "    elif init == \"random\":\n",
    "        X_init = constraint.initialization(n, embedding_dim, device)\n",
    "    else:\n",
    "        raise ValueError(\n",
    "            f\"Unsupported value '{init}' for keyword argument `init`; \"\n",
    "            \"the supported values are 'quadratic' and 'random'.\"\n",
    "        )\n",
    "\n",
    "    if repulsive_penalty is not None:\n",
    "        if repulsive_fraction is None:\n",
    "            if isinstance(constraint, pymde.constraints._Standardized):\n",
    "                # standardization constraint already implicity spreads,\n",
    "                # so use a lower replusion\n",
    "                repulsive_fraction = 0.5\n",
    "            else:\n",
    "                repulsive_fraction = 1\n",
    "\n",
    "        n_choose_2 = int(n * (n - 1) / 2)\n",
    "        n_repulsive = int(repulsive_fraction * (edges.shape[0]))\n",
    "        # cannot sample more edges than there are available\n",
    "        n_repulsive = min(n_repulsive, n_choose_2 - edges.shape[0])\n",
    "\n",
    "        negative_edges = pymde.preprocess.sample_edges(\n",
    "            n, n_repulsive, exclude=edges\n",
    "        ).to(device)\n",
    "\n",
    "        negative_weights = -torch.ones(\n",
    "            negative_edges.shape[0], dtype=X_init.dtype, device=device\n",
    "        )\n",
    "\n",
    "        if isinstance(constraint, pymde.constraints.Anchored):\n",
    "            negative_edges, negative_weights = _remove_anchor_anchor_edges(\n",
    "                negative_edges, negative_weights, constraint.anchors\n",
    "            )\n",
    "\n",
    "        edges = torch.cat([edges, negative_edges])\n",
    "        weights = torch.cat([weights, negative_weights])\n",
    "\n",
    "        f = pymde.penalties.PushAndPull(\n",
    "            weights,\n",
    "            attractive_penalty=attractive_penalty,\n",
    "            repulsive_penalty=repulsive_penalty,\n",
    "        )\n",
    "    else:\n",
    "        f = attractive_penalty(weights)\n",
    "\n",
    "    pymde.seed(0)\n",
    "    mde = pymde.problem.MDE(\n",
    "        n_items=n,\n",
    "        embedding_dim=embedding_dim,\n",
    "        edges=edges,\n",
    "        distortion_function=f,\n",
    "        constraint=constraint,\n",
    "        device=device,\n",
    "    )\n",
    "        \n",
    "    mde._X_init = X_init\n",
    "\n",
    "    # TODO cache the graph for subsequent calls / constructor for MDE from graph\n",
    "    distances = mde.distances(mde._X_init)\n",
    "    if (distances == 0).any():\n",
    "        # pathological scenario in which at least two points overlap can yield\n",
    "        # non-differentiable average distortion. perturb the initialization to\n",
    "        # mitigate.\n",
    "        mde._X_init += 1e-4 * torch.randn(\n",
    "            mde._X_init.shape,\n",
    "            device=mde._X_init.device,\n",
    "            dtype=mde._X_init.dtype,\n",
    "        )\n",
    "    return mde"
   ]
  },
  {
   "cell_type": "code",
   "execution_count": 71,
   "id": "54ade124",
   "metadata": {},
   "outputs": [],
   "source": [
    "def get_pymde_embedding(expr, embedding_dim=10, n_neighbors=None, init='quadratic', repulsive_fraction=1, return_embedding=False, max_iter=1000, memory_size=10000, eps=1e-5, device='cuda'):\n",
    "    norm_expr = expr.fillna(0).T.copy()\n",
    "    norm_expr = (norm_expr - norm_expr.mean()).div(norm_expr.std()).T\n",
    "    \n",
    "    pymde.seed(0)\n",
    "    mde = my_preserve_neighbors(\n",
    "        norm_expr.values,\n",
    "        embedding_dim=embedding_dim,\n",
    "        n_neighbors=n_neighbors,\n",
    "        verbose=True,\n",
    "        repulsive_fraction=repulsive_fraction,\n",
    "        device=device,\n",
    "        init=init,\n",
    "    )\n",
    "    embedding = mde.embed(verbose=True, max_iter=max_iter, memory_size=memory_size, eps=eps)\n",
    "    embedding_df = pd.DataFrame(np.array(embedding.cpu()), index=expr.index)\n",
    "    if return_embedding:\n",
    "        return embedding_df, embedding, mde\n",
    "    else:\n",
    "        return embedding_df"
   ]
  },
  {
   "cell_type": "code",
   "execution_count": 76,
   "id": "1060674e",
   "metadata": {
    "scrolled": true
   },
   "outputs": [
    {
     "name": "stdout",
     "output_type": "stream",
     "text": [
      "Apr 05 04:40:46 PM: Computing 7-nearest neighbors, with max_distance=None\n",
      "Apr 05 04:40:46 PM: Exact nearest neighbors by brute force \n",
      "Apr 05 04:40:46 PM: Computing quadratic initialization.\n",
      "Apr 05 04:40:48 PM: Fitting a centered embedding into R^2, for a graph with 3231 items and 123366 edges.\n",
      "Apr 05 04:40:48 PM: `embed` method parameters: eps=1.0e-06, max_iter=1400, memory_size=10000\n",
      "Apr 05 04:40:48 PM: iteration 0000 | distortion 4.259384 | residual norm 5.45565 | step length 0.00359957 | percent change 3.46974\n",
      "Apr 05 04:40:50 PM: iteration 0140 | distortion 0.178549 | residual norm 0.000347013 | step length 1 | percent change 0.569646\n",
      "Apr 05 04:40:52 PM: iteration 0280 | distortion 0.172018 | residual norm 0.0001594 | step length 1 | percent change 0.20062\n",
      "Apr 05 04:40:55 PM: iteration 0420 | distortion 0.170711 | residual norm 6.30038e-05 | step length 1 | percent change 0.170707\n",
      "Apr 05 04:40:59 PM: iteration 0560 | distortion 0.169806 | residual norm 2.86417e-05 | step length 1 | percent change 0.0930243\n",
      "Apr 05 04:41:04 PM: iteration 0700 | distortion 0.169609 | residual norm 6.9553e-06 | step length 1 | percent change 0.017078\n",
      "Apr 05 04:41:09 PM: iteration 0840 | distortion 0.169606 | residual norm 3.70686e-06 | step length 0 | percent change 0\n",
      "Apr 05 04:41:13 PM: iteration 0980 | distortion 0.169606 | residual norm 3.70686e-06 | step length 0 | percent change 0\n",
      "Apr 05 04:41:17 PM: iteration 1120 | distortion 0.169606 | residual norm 3.70686e-06 | step length 0 | percent change 0\n",
      "Apr 05 04:41:21 PM: iteration 1260 | distortion 0.169606 | residual norm 3.70686e-06 | step length 0 | percent change 0\n",
      "Apr 05 04:41:25 PM: iteration 1399 | distortion 0.169606 | residual norm 3.70686e-06 | step length 0 | percent change 0\n",
      "Apr 05 04:41:25 PM: Finished fitting in 36.960 seconds and 1400 iterations.\n",
      "Apr 05 04:41:25 PM: average distortion 0.17 | residual norm 3.7e-06\n"
     ]
    }
   ],
   "source": [
    "gwps_viz_variable_embedding = get_pymde_embedding(masked_gwps_variable_expr,\n",
    "                                    embedding_dim=2,\n",
    "                                    n_neighbors=7,\n",
    "                                    repulsive_fraction=5,\n",
    "                                    max_iter=1400,\n",
    "                                    device='cpu',\n",
    "                                    eps=1e-6,\n",
    "                                    init='quadratic')"
   ]
  },
  {
   "cell_type": "code",
   "execution_count": 77,
   "id": "c76b427f",
   "metadata": {},
   "outputs": [
    {
     "data": {
      "text/plain": [
       "<AxesSubplot:>"
      ]
     },
     "execution_count": 77,
     "metadata": {},
     "output_type": "execute_result"
    },
    {
     "data": {
      "image/png": "[encoded data removed]",
      "text/plain": [
       "<Figure size 576x576 with 1 Axes>"
      ]
     },
     "metadata": {
      "needs_background": "light"
     },
     "output_type": "display_data"
    }
   ],
   "source": [
    "pymde.plot(gwps_viz_variable_embedding)"
   ]
  },
  {
   "cell_type": "markdown",
   "id": "2606a83a",
   "metadata": {},
   "source": [
    "# Identify clusters (very conservatively) using HDBSCAN"
   ]
  },
  {
   "cell_type": "code",
   "execution_count": 82,
   "id": "d406c93b",
   "metadata": {},
   "outputs": [],
   "source": [
    "from hdbscan import HDBSCAN\n",
    "from sklearn.cluster import AgglomerativeClustering\n",
    "from sklearn.neighbors import kneighbors_graph\n",
    "\n",
    "def hdbscan_clusters(target, metric='euclidean', min_cluster_size=5, min_samples=5, cluster_selection_method='leaf', alpha=1.):\n",
    "    clusterer = HDBSCAN(metric=metric,\n",
    "                        min_cluster_size=min_cluster_size,\n",
    "                        min_samples=min_samples,\n",
    "                        cluster_selection_method=cluster_selection_method,\n",
    "                        alpha=alpha)\n",
    "    clusterer.fit(target)\n",
    "    clusters = pd.Series(clusterer.labels_, index=target.index)\n",
    "    return clusters"
   ]
  },
  {
   "cell_type": "code",
   "execution_count": 84,
   "id": "d327f73c",
   "metadata": {},
   "outputs": [],
   "source": [
    "clusters = hdbscan_clusters(gwps_variable_distances,\n",
    "                                metric='precomputed',\n",
    "                                min_cluster_size=5,\n",
    "                                min_samples=1,\n",
    "                                cluster_selection_method='leaf')"
   ]
  },
  {
   "cell_type": "code",
   "execution_count": 86,
   "id": "46299cf4",
   "metadata": {},
   "outputs": [
    {
     "data": {
      "text/plain": [
       "-1     2876\n",
       " 20      22\n",
       " 14      22\n",
       " 23      21\n",
       " 6       16\n",
       " 19      15\n",
       " 22      14\n",
       " 12      13\n",
       " 13      13\n",
       " 30      12\n",
       " 17      12\n",
       " 10      12\n",
       " 24      12\n",
       " 31      11\n",
       " 27      11\n",
       " 35       9\n",
       " 15       9\n",
       " 16       9\n",
       " 32       8\n",
       " 34       8\n",
       " 29       8\n",
       " 8        8\n",
       " 25       8\n",
       " 3        8\n",
       " 0        7\n",
       " 7        7\n",
       " 2        7\n",
       " 1        7\n",
       " 4        6\n",
       " 28       5\n",
       " 9        5\n",
       " 5        5\n",
       " 11       5\n",
       " 18       5\n",
       " 21       5\n",
       " 33       5\n",
       " 26       5\n",
       "dtype: int64"
      ]
     },
     "execution_count": 86,
     "metadata": {},
     "output_type": "execute_result"
    }
   ],
   "source": [
    "clusters.value_counts()"
   ]
  },
  {
   "cell_type": "markdown",
   "id": "1d05cf9b",
   "metadata": {},
   "source": [
    "# Check for clusters that have common seed regions and plot an example"
   ]
  },
  {
   "cell_type": "code",
   "execution_count": 88,
   "id": "5dab77e1",
   "metadata": {},
   "outputs": [
    {
     "name": "stdout",
     "output_type": "stream",
     "text": [
      "Cluster Suffixes:\n",
      "Cluster 23: GAGAG\n",
      "Cluster 13: GAGG\n",
      "Cluster 24: GGGG\n",
      "Cluster 31: CAGAG\n",
      "Cluster 10: AAGGG\n",
      "Cluster 14: GGGAG\n",
      "Cluster 20: GGAG\n",
      "Cluster 6: GAGGG\n",
      "Cluster 21: ATGAG\n",
      "Cluster 9: AGCGG\n",
      "Cluster 12: TCCCG\n",
      "Cluster 18: AAGGGG\n",
      "Cluster 32: CGAG\n",
      "Cluster 29: CCG\n",
      "Cluster 11: ACCCGG\n",
      "Cluster 5: GGCGG\n",
      "Cluster 1: GAGTG\n",
      "Cluster 3: CAC\n",
      "Cluster 22: GGGGA\n",
      "Cluster 25: GGG\n",
      "Cluster 28: CCT\n",
      "Cluster 26: CTG\n"
     ]
    }
   ],
   "source": [
    "import pandas as pd\n",
    "\n",
    "def find_common_suffix(sequences, threshold=0.9, min_suffix_length=3):\n",
    "    min_length = min(len(seq) for seq in sequences)\n",
    "    for i in range(min_length, min_suffix_length - 1, -1):\n",
    "        suffix = sequences[0][-i:]\n",
    "        if sum(seq.endswith(suffix) for seq in sequences) >= len(sequences) * threshold:\n",
    "            return suffix\n",
    "    return \"\"\n",
    "\n",
    "cluster_suffixes = {}\n",
    "for cluster_id in clusters.unique():\n",
    "    if cluster_id != -1:\n",
    "        cluster_sequences = clusters[clusters == cluster_id].index\n",
    "        common_suffix = find_common_suffix(cluster_sequences)\n",
    "        if common_suffix:\n",
    "            cluster_suffixes[cluster_id] = common_suffix\n",
    "\n",
    "print(\"Cluster Suffixes:\")\n",
    "for cluster_id, suffix in cluster_suffixes.items():\n",
    "    print(f\"Cluster {cluster_id}: {suffix}\")"
   ]
  },
  {
   "cell_type": "code",
   "execution_count": 89,
   "id": "67857857",
   "metadata": {},
   "outputs": [],
   "source": [
    "table['cluster'] = clusters"
   ]
  },
  {
   "cell_type": "code",
   "execution_count": 90,
   "id": "519edd5a",
   "metadata": {},
   "outputs": [],
   "source": [
    "table['suffix'] = table['cluster'].map(lambda x: cluster_suffixes.get(x, ''))"
   ]
  },
  {
   "cell_type": "code",
   "execution_count": 103,
   "id": "21779c9a",
   "metadata": {},
   "outputs": [
    {
     "data": {
      "image/png": "[encoded data removed]",
      "text/plain": [
       "<Figure size 288x216 with 1 Axes>"
      ]
     },
     "metadata": {
      "needs_background": "light"
     },
     "output_type": "display_data"
    }
   ],
   "source": [
    "# Create a figure and axis\n",
    "fig, ax = plt.subplots(figsize=(4, 3))\n",
    "\n",
    "# Plot all points as gray dots\n",
    "ax.scatter(table['x'], table['y'], color='gray', label='Unclustered', s=5)\n",
    "\n",
    "# Get the unique cluster labels (excluding -1) that have a suffix\n",
    "cluster_labels = table[table['suffix'] != '']['cluster'].unique()\n",
    "\n",
    "# Assign colors to each cluster with a suffix\n",
    "colors = plt.cm.get_cmap('tab20', len(cluster_labels))\n",
    "\n",
    "# Plot the clustered points with a suffix and annotate the clusters\n",
    "for i, cluster_label in enumerate(cluster_labels):\n",
    "    cluster_points = table[(table['cluster'] == cluster_label) & (table['suffix'] != '')]\n",
    "    ax.scatter(cluster_points['x'], cluster_points['y'], color=colors(i), label=f'Cluster {cluster_label}', s=10)\n",
    "    \n",
    "    # Calculate the center of the cluster\n",
    "    center_x = cluster_points['x'].mean()\n",
    "    center_y = cluster_points['y'].mean()\n",
    "    \n",
    "    # Get the suffix for the cluster\n",
    "    suffix = cluster_points['suffix'].iloc[0]\n",
    "    \n",
    "    # Annotate the cluster with the suffix\n",
    "    ax.annotate(suffix, (center_x, center_y), fontsize=10, ha='center', va='center')\n",
    "    \n",
    "    # Annotate the cluster with the indices if the suffix is \"GAGGG\"\n",
    "    if suffix == \"GAGGG\":\n",
    "        indices = cluster_points.index.tolist()\n",
    "        indices_text = '\\n'.join(str(index) for index in indices)\n",
    "        \n",
    "        # Create a text box with the indices\n",
    "        bbox_props = dict(boxstyle=\"round\", fc=\"white\", ec=\"gray\", alpha=0.9)\n",
    "        ax.text(center_x + 7, center_y, f\"{indices_text}\", fontsize=7, bbox=bbox_props, family='monospace', ha='right')\n",
    "\n",
    "# Set the axis labels and titl\n",
    "# Add a legend\n",
    "#ax.legend()\n",
    "ax.axis('off')\n",
    "\n",
    "# Display the plot\n",
    "#plt.tight_layout()\n",
    "plt.savefig('20240405_seed_embedding.pdf', bbox_inches='tight')\n",
    "plt.show()\n"
   ]
  }
 ],
 "metadata": {
  "kernelspec": {
   "display_name": "Python [conda env:tmn-pytorch]",
   "language": "python",
   "name": "conda-env-tmn-pytorch-py"
  },
  "language_info": {
   "codemirror_mode": {
    "name": "ipython",
    "version": 3
   },
   "file_extension": ".py",
   "mimetype": "text/x-python",
   "name": "python",
   "nbconvert_exporter": "python",
   "pygments_lexer": "ipython3",
   "version": "3.8.10"
  }
 },
 "nbformat": 4,
 "nbformat_minor": 5
}
