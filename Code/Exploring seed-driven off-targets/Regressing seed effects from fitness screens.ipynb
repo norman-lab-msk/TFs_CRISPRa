{
 "cells": [
  {
   "cell_type": "code",
   "execution_count": 7,
   "id": "4f9c9e68",
   "metadata": {},
   "outputs": [],
   "source": [
    "import os\n",
    "os.environ[\"OMP_NUM_THREADS\"] = \"20\""
   ]
  },
  {
   "cell_type": "code",
   "execution_count": 8,
   "id": "072d5bc0",
   "metadata": {},
   "outputs": [],
   "source": [
    "import pandas as pd\n",
    "import numpy as np\n",
    "from joblib import Parallel, delayed\n",
    "import seaborn as sns\n",
    "from tqdm.notebook import tqdm\n",
    "import matplotlib.pyplot as plt\n",
    "import matplotlib\n",
    "matplotlib.rcParams['pdf.fonttype'] = 42\n",
    "%load_ext autoreload\n",
    "%autoreload 2\n",
    "%matplotlib inline"
   ]
  },
  {
   "cell_type": "markdown",
   "id": "ea789440",
   "metadata": {},
   "source": [
    "# Regression code"
   ]
  },
  {
   "cell_type": "code",
   "execution_count": 9,
   "id": "0712367c",
   "metadata": {},
   "outputs": [],
   "source": [
    "import warnings\n",
    "from scipy.linalg import lstsq\n",
    "from scipy.stats import t as t_stat\n",
    "from joblib import Parallel, delayed\n",
    "\n",
    "def compute_column(X, y, coef, ss_res, rank, XtX_inv, constant, gene_name):\n",
    "    n = X.shape[0]\n",
    "    \n",
    "    # Degrees of freedom\n",
    "    df_model = rank - constant\n",
    "    df_resid = n - rank\n",
    "    ss_tot = y @ y\n",
    "        \n",
    "    mse = ss_res / df_resid\n",
    "    beta_var = mse * XtX_inv\n",
    "    beta_se = np.sqrt(beta_var)\n",
    "\n",
    "    # Compute T and p-values\n",
    "    T = coef / beta_se\n",
    "    pval = 2 * t_stat.sf(np.fabs(T), df_resid)\n",
    "\n",
    "    out = pd.DataFrame([pd.Series(coef, index=X.columns, name='coef'),\n",
    "                        pd.Series(pval, index=X.columns, name='p')]).T\n",
    "    if gene_name is not None:\n",
    "        out['gene_name'] = gene_name\n",
    "\n",
    "    return out\n",
    "\n",
    "def least_squares(X, Y, coef_only=False, constant=False, XtX_inv=None, n_jobs=-1):\n",
    "    \"\"\"\n",
    "    Perform ordinary least squares regression.\n",
    "    \n",
    "    Parameters:\n",
    "    - X: DataFrame containing the independent variables.\n",
    "    - Y: DataFrame containing the dependent variables.\n",
    "    - coef_only: If True, returns only the coefficients.\n",
    "    - constant: Boolean, indicating if there's a constant term in the regression.\n",
    "    - n_jobs: Number of cores to use in parallel. -1 means using all processors.\n",
    "    \n",
    "    Returns:\n",
    "    - Dictionary where each key corresponds to a dependent variable's column name and its associated value is the DataFrame containing coefficients and p-values for that dependent variable.\n",
    "    \"\"\"\n",
    "    n = X.shape[0]\n",
    "\n",
    "    # FIT LEAST SQUARES REGRESSION\n",
    "    coef, ss_res, rank, _ = lstsq(X, Y, cond=None)\n",
    "    \n",
    "    calc_ss_res = False\n",
    "    if rank < X.shape[1]:\n",
    "        warnings.warn(\n",
    "            \"Design matrix supplied with `X` parameter is rank \"\n",
    "            f\"deficient (rank {rank} with {X.shape[1]} columns). \"\n",
    "            \"That means that one or more of the columns in `X` \"\n",
    "            \"are a linear combination of one or more of the \"\n",
    "            \"other columns.\"\n",
    "        )\n",
    "        calc_ss_res = True\n",
    "        \n",
    "    if coef_only:\n",
    "        return coef\n",
    "\n",
    "    if XtX_inv is None:\n",
    "        XtX_inv = (np.linalg.pinv(X.T @ X).diagonal())\n",
    "\n",
    "    if calc_ss_res:\n",
    "        resid = Y.values - X.values @ coef\n",
    "        ss_res = (resid**2).sum(axis=0)\n",
    "    \n",
    "    ss_res = pd.Series(ss_res, index=Y.columns)\n",
    "\n",
    "    results = Parallel(n_jobs=n_jobs, verbose=10)(\n",
    "        delayed(compute_column)(X, Y[col], coef[:, i], ss_res[col], rank, XtX_inv, constant, col)\n",
    "        for i, col in enumerate(Y.columns)\n",
    "    )\n",
    "    \n",
    "    results = pd.concat(results).pivot(columns='gene_name')\n",
    "    return results['coef'], results['p']"
   ]
  },
  {
   "cell_type": "code",
   "execution_count": null,
   "id": "62c17c66",
   "metadata": {},
   "outputs": [],
   "source": []
  },
  {
   "cell_type": "markdown",
   "id": "3875d6c4",
   "metadata": {},
   "source": [
    "# Genome-Scale CRISPR-Mediated Control of Gene Repression and Activation"
   ]
  },
  {
   "cell_type": "markdown",
   "id": "cf1eb861",
   "metadata": {},
   "source": [
    "## Loading data"
   ]
  },
  {
   "cell_type": "code",
   "execution_count": 10,
   "id": "cd088a45",
   "metadata": {},
   "outputs": [],
   "source": [
    "# !wget https://www.ncbi.nlm.nih.gov/pmc/articles/PMC4253859/bin/NIHMS630425-supplement-10.xlsx"
   ]
  },
  {
   "cell_type": "code",
   "execution_count": 11,
   "id": "e567cce7",
   "metadata": {},
   "outputs": [
    {
     "name": "stderr",
     "output_type": "stream",
     "text": [
      "/data/norman/tmn/envs/analysis38/lib/python3.8/site-packages/openpyxl/worksheet/_reader.py:312: UserWarning: Unknown extension is not supported and will be removed\n",
      "  warn(msg)\n"
     ]
    }
   ],
   "source": [
    "crispra_data = pd.read_excel('NIHMS630425-supplement-10.xlsx', skiprows=1, sheet_name='CRISPRa Library')\n",
    "\n",
    "crispra_data['sgRNA ID'] = crispra_data['sgRNA ID'].astype(str)\n",
    "crispra_data = crispra_data[crispra_data['Protospacer sequence'].map(len) >= 20]\n",
    "crispra_data['gene'] = crispra_data['sgRNA ID'].map(lambda x: x.split('-')[0])\n",
    "crispra_data['sequence'] = crispra_data['Protospacer sequence'].map(lambda x: x[-8:-3].upper())\n",
    "\n",
    "crispra_data = crispra_data[~crispra_data['Protospacer sequence'].str.contains('N') & ~crispra_data['gene'].str.contains('2014')]\n",
    "crispra_data = crispra_data[crispra_data.groupby('gene').transform('count')['sgRNA ID'] >= 10].reset_index(drop=True)"
   ]
  },
  {
   "cell_type": "code",
   "execution_count": 12,
   "id": "3bce8d2a",
   "metadata": {},
   "outputs": [
    {
     "name": "stderr",
     "output_type": "stream",
     "text": [
      "/data/norman/tmn/envs/analysis38/lib/python3.8/site-packages/openpyxl/worksheet/_reader.py:312: UserWarning: Unknown extension is not supported and will be removed\n",
      "  warn(msg)\n"
     ]
    }
   ],
   "source": [
    "crispri_data = pd.read_excel('NIHMS630425-supplement-10.xlsx', skiprows=1)\n",
    "\n",
    "crispri_data['sgRNA ID'] = crispri_data['sgRNA ID'].astype(str)\n",
    "crispri_data = crispri_data[crispri_data['Protospacer sequence'].map(len) >= 20]\n",
    "crispri_data['gene'] = crispri_data['sgRNA ID'].map(lambda x: x.split('-')[0])\n",
    "crispri_data['sequence'] = crispri_data['Protospacer sequence'].map(lambda x: x[-5:].upper())\n",
    "\n",
    "crispri_data = crispri_data[~crispri_data['Protospacer sequence'].str.contains('N')]\n",
    "crispri_data = crispri_data[crispri_data.groupby('gene').transform('count')['sgRNA ID'] >= 10].reset_index(drop=True)"
   ]
  },
  {
   "cell_type": "code",
   "execution_count": null,
   "id": "8b3f3c48",
   "metadata": {},
   "outputs": [],
   "source": []
  },
  {
   "cell_type": "markdown",
   "id": "6a318676",
   "metadata": {},
   "source": [
    "## CRISPRa experiment"
   ]
  },
  {
   "cell_type": "code",
   "execution_count": 7,
   "id": "2cde9791",
   "metadata": {},
   "outputs": [
    {
     "name": "stderr",
     "output_type": "stream",
     "text": [
      "/data/norman/tmn/envs/analysis38/lib/python3.8/site-packages/pandas/core/reshape/reshape.py:134: PerformanceWarning: The following operation may generate 3126533385 cells in the resulting pandas object.\n",
      "  warnings.warn(\n"
     ]
    }
   ],
   "source": [
    "gene_design_matrix = pd.Series(1, index=pd.MultiIndex.from_arrays([crispra_data.index, crispra_data['gene']])).astype(np.float32).unstack(fill_value=0)"
   ]
  },
  {
   "cell_type": "code",
   "execution_count": 8,
   "id": "b6b9b23b",
   "metadata": {},
   "outputs": [],
   "source": [
    "sequence_design_matrix = pd.Series(1, index=pd.MultiIndex.from_arrays([crispra_data.index, crispra_data['sequence']])).astype(np.float32).unstack(fill_value=0)\n",
    "sequence_design_matrix = sequence_design_matrix.loc[:, sequence_design_matrix.sum() >= 20]\n",
    "sequence_design_matrix.columns = sequence_design_matrix.columns + '_s'\n",
    "\n",
    "design_matrix = pd.concat([gene_design_matrix, sequence_design_matrix], axis=1)"
   ]
  },
  {
   "cell_type": "code",
   "execution_count": 9,
   "id": "8f19aaba",
   "metadata": {},
   "outputs": [],
   "source": [
    "Y = crispra_data.loc[design_matrix.index, ['Growth phenotype (gamma)', 'CTx-DTA phenotype (rho)']].astype(np.float32)\n",
    "Y.columns = ['gamma', 'rho']"
   ]
  },
  {
   "cell_type": "code",
   "execution_count": 10,
   "id": "7ef697e6",
   "metadata": {},
   "outputs": [
    {
     "data": {
      "text/plain": [
       "106"
      ]
     },
     "execution_count": 10,
     "metadata": {},
     "output_type": "execute_result"
    }
   ],
   "source": [
    "del gene_design_matrix\n",
    "del sequence_design_matrix\n",
    "import gc\n",
    "gc.collect()"
   ]
  },
  {
   "cell_type": "code",
   "execution_count": 11,
   "id": "e6ff46af",
   "metadata": {},
   "outputs": [],
   "source": [
    "del design_matrix['negative_control']"
   ]
  },
  {
   "cell_type": "code",
   "execution_count": 12,
   "id": "5699fe9f",
   "metadata": {},
   "outputs": [],
   "source": [
    "design_matrix['intercept'] = np.float32(1.)"
   ]
  },
  {
   "cell_type": "code",
   "execution_count": null,
   "id": "668d8a5c",
   "metadata": {},
   "outputs": [],
   "source": []
  },
  {
   "cell_type": "code",
   "execution_count": 13,
   "id": "81a114db",
   "metadata": {},
   "outputs": [
    {
     "name": "stderr",
     "output_type": "stream",
     "text": [
      "/tmp/ipykernel_118400/2808016983.py:52: UserWarning: Design matrix supplied with `X` parameter is rank deficient (rank 16805 with 16806 columns). That means that one or more of the columns in `X` are a linear combination of one or more of the other columns.\n",
      "  warnings.warn(\n",
      "[Parallel(n_jobs=2)]: Using backend LokyBackend with 2 concurrent workers.\n",
      "[Parallel(n_jobs=2)]: Done   2 out of   2 | elapsed:    8.7s finished\n"
     ]
    }
   ],
   "source": [
    "crispra_coefs, crispra_ps = least_squares(design_matrix,\n",
    "                          Y,\n",
    "                          coef_only=False, n_jobs=2)"
   ]
  },
  {
   "cell_type": "code",
   "execution_count": 14,
   "id": "cd9063bd",
   "metadata": {},
   "outputs": [],
   "source": [
    "# crispra_coefs.to_csv('20240403_CRISPRa_coefs.csv')\n",
    "# crispra_ps.to_csv('20240403_CRISPRa_ps.csv')"
   ]
  },
  {
   "cell_type": "code",
   "execution_count": 13,
   "id": "209e06f8",
   "metadata": {},
   "outputs": [],
   "source": [
    "# crispra_coefs = pd.read_csv('20240403_CRISPRa_coefs.csv', index_col=0)\n",
    "# crispra_ps = pd.read_csv('20240403_CRISPRa_ps.csv', index_col=0)"
   ]
  },
  {
   "cell_type": "code",
   "execution_count": null,
   "id": "7fe9c4b8",
   "metadata": {},
   "outputs": [],
   "source": []
  },
  {
   "cell_type": "code",
   "execution_count": 66,
   "id": "9a3a127c",
   "metadata": {},
   "outputs": [],
   "source": [
    "seqs = crispra_data.query('gene==\"negative_control\"').groupby('sequence').count()['gene'][crispra_data.query('gene==\"negative_control\"').groupby('sequence').count()['gene'] >= 10].index\n",
    "control_effects = crispra_data.query('gene==\"negative_control\"').groupby('sequence').median().loc[seqs]\n",
    "control_effects.index = control_effects.index + '_s'"
   ]
  },
  {
   "cell_type": "code",
   "execution_count": 67,
   "id": "baf29e22",
   "metadata": {},
   "outputs": [
    {
     "name": "stderr",
     "output_type": "stream",
     "text": [
      "/data/norman/tmn/envs/analysis38/lib/python3.8/site-packages/seaborn/distributions.py:2619: FutureWarning: `distplot` is a deprecated function and will be removed in a future version. Please adapt your code to use either `displot` (a figure-level function with similar flexibility) or `histplot` (an axes-level function for histograms).\n",
      "  warnings.warn(msg, FutureWarning)\n"
     ]
    },
    {
     "data": {
      "image/png": "[encoded data removed]",
      "text/plain": [
       "<Figure size 200x175 with 1 Axes>"
      ]
     },
     "metadata": {},
     "output_type": "display_data"
    }
   ],
   "source": [
    "import seaborn as sns\n",
    "import matplotlib.pyplot as plt\n",
    "\n",
    "plt.figure(figsize=[2, 1.75])\n",
    "\n",
    "# Create the histogram using seaborn's distplot\n",
    "sns.distplot(control_effects['Growth phenotype (gamma)'], color='#D99828')\n",
    "\n",
    "# Get the minimum and maximum values of the 'Growth phenotype (gamma)' column\n",
    "min_value = control_effects['Growth phenotype (gamma)'].min()\n",
    "max_value = control_effects['Growth phenotype (gamma)'].max()\n",
    "\n",
    "# Get the indices of the 5 most negative and 5 most positive points\n",
    "neg_indices = control_effects['Growth phenotype (gamma)'].nsmallest(6).index.map(lambda x: x.split('_')[0])\n",
    "pos_indices = control_effects['Growth phenotype (gamma)'].nlargest(6).index.map(lambda x: x.split('_')[0])\n",
    "\n",
    "# Create the annotation text for negative and positive outliers\n",
    "neg_text = \"\\n\".join(neg_indices)\n",
    "pos_text = \"\\n\".join(pos_indices)\n",
    "\n",
    "# Get the y-axis limits and calculate the height of the distribution\n",
    "ylim = plt.ylim()\n",
    "height = ylim[1] - ylim[0]\n",
    "\n",
    "# Calculate the y-coordinate for the text boxes (80% of the distribution height)\n",
    "y_coord = ylim[0] + height * 0.3\n",
    "\n",
    "# Adjust the font size\n",
    "font_size = 6\n",
    "\n",
    "# Calculate the x-coordinate for the negative outliers (2% of the x-axis range from the minimum value)\n",
    "neg_x_coord = min_value + (max_value - min_value) * 0.1\n",
    "\n",
    "# Calculate the x-coordinate for the positive outliers (2% of the x-axis range from the maximum value)\n",
    "pos_x_coord = max_value - (max_value - min_value) * 0.1\n",
    "\n",
    "# Add text box annotations for negative and positive outliers\n",
    "plt.annotate(neg_text, xy=(neg_x_coord, ylim[0]), xytext=(min_value, y_coord),\n",
    "             fontfamily='monospace', ha='right',\n",
    "             arrowprops=dict(facecolor='black', shrink=0.05, width=1, headwidth=4),\n",
    "             bbox=dict(facecolor='white', edgecolor='black', boxstyle='round'),\n",
    "             fontsize=font_size)\n",
    "\n",
    "plt.annotate(pos_text, xy=(pos_x_coord, ylim[0]), xytext=(max_value, y_coord),\n",
    "             fontfamily='monospace', ha='right',\n",
    "             arrowprops=dict(facecolor='black', shrink=0.05, width=1, headwidth=4),\n",
    "             bbox=dict(facecolor='white', edgecolor='black', boxstyle='round'),\n",
    "             fontsize=font_size)\n",
    "\n",
    "# Set the font size for axis labels\n",
    "plt.xlabel('Growth phenotype (gamma)', fontsize=8)\n",
    "plt.ylabel('Density', fontsize=8)\n",
    "\n",
    "# Set the font size for tick labels\n",
    "plt.tick_params(axis='both', which='major', labelsize=7)\n",
    "\n",
    "plt.xlim([-0.05, 0.05])\n",
    "plt.tight_layout()\n",
    "plt.savefig('20240405_CRISPRa_control_sgRNA_phenotypes.pdf', bbox_inches='tight')\n",
    "plt.show()"
   ]
  },
  {
   "cell_type": "code",
   "execution_count": 68,
   "id": "93053d81",
   "metadata": {},
   "outputs": [],
   "source": [
    "table = pd.DataFrame([crispra_coefs['gamma'], -np.log10(crispra_ps['gamma'])], index=['gamma', '-log p']).T"
   ]
  },
  {
   "cell_type": "code",
   "execution_count": 69,
   "id": "22b3bb63",
   "metadata": {},
   "outputs": [
    {
     "data": {
      "image/png": "[encoded data removed]",
      "text/plain": [
       "<Figure size 200x175 with 1 Axes>"
      ]
     },
     "metadata": {},
     "output_type": "display_data"
    }
   ],
   "source": [
    "import matplotlib.pyplot as plt\n",
    "\n",
    "plt.figure(figsize=[2,1.75])\n",
    "\n",
    "# Create the scatter plot\n",
    "plt.scatter(table[table.index.str.contains('_s')]['gamma'],\n",
    "            table[table.index.str.contains('_s')]['-log p'], s=1, c='#528FF0')\n",
    "\n",
    "# Set the x-axis label and limits\n",
    "plt.xlabel('Growth phenotype (gamma)')\n",
    "plt.xlim([-0.05, 0.05])\n",
    "\n",
    "# Get the top outliers for positive and negative gamma values\n",
    "pos_outliers = table[table.index.str.contains('_s')].nlargest(6, 'gamma')\n",
    "neg_outliers = table[table.index.str.contains('_s')].nsmallest(6, 'gamma')\n",
    "\n",
    "# Annotate the top positive outliers\n",
    "for idx, row in pos_outliers.iterrows():\n",
    "    plt.annotate(idx.split('_')[0], xy=(row['gamma'], row['-log p']),\n",
    "                 xytext=(1, 1), textcoords='offset points',\n",
    "                 fontsize=6, ha='left', va='bottom')\n",
    "\n",
    "# Annotate the top negative outliers\n",
    "for idx, row in neg_outliers.iterrows():\n",
    "    plt.annotate(idx.split('_')[0], xy=(row['gamma'], row['-log p']),\n",
    "                 xytext=(-1, 1), textcoords='offset points',\n",
    "                 fontsize=6, ha='right', va='bottom')\n",
    "\n",
    "plt.ylim([-10, 220])\n",
    "plt.xlabel('Growth phenotype (gamma)', fontsize=8)\n",
    "\n",
    "plt.ylabel('-log p', fontsize=8)\n",
    "plt.tick_params(axis='both', which='major', labelsize=7)\n",
    "plt.tight_layout()\n",
    "plt.savefig('20240405_CRISPRa_seed_phenotypes.pdf', bbox_inches='tight')\n",
    "\n",
    "plt.show()"
   ]
  },
  {
   "cell_type": "code",
   "execution_count": null,
   "id": "e699869c",
   "metadata": {},
   "outputs": [],
   "source": []
  },
  {
   "cell_type": "markdown",
   "id": "ef7b8153",
   "metadata": {},
   "source": [
    "## CRISPRi experiment"
   ]
  },
  {
   "cell_type": "code",
   "execution_count": 66,
   "id": "1dedc714",
   "metadata": {},
   "outputs": [],
   "source": [
    "gene_design_matrix = pd.Series(1, index=pd.MultiIndex.from_arrays([crispri_data.index, crispri_data['gene']])).astype(np.float32).unstack(fill_value=0)"
   ]
  },
  {
   "cell_type": "code",
   "execution_count": 67,
   "id": "098f7279",
   "metadata": {},
   "outputs": [
    {
     "name": "stderr",
     "output_type": "stream",
     "text": [
      "Exception ignored in: <bound method IPythonKernel._clean_thread_parent_frames of <ipykernel.ipkernel.IPythonKernel object at 0x7f4b84666bb0>>\n",
      "Traceback (most recent call last):\n",
      "  File \"/data/norman/tmn/envs/analysis38/lib/python3.8/site-packages/ipykernel/ipkernel.py\", line 770, in _clean_thread_parent_frames\n",
      "    def _clean_thread_parent_frames(\n",
      "KeyboardInterrupt: \n",
      "\n",
      "KeyboardInterrupt\n",
      "\n"
     ]
    }
   ],
   "source": [
    "sequence_design_matrix = pd.Series(1, index=pd.MultiIndex.from_arrays([crispri_data.index, crispri_data['sequence']])).astype(np.float32).unstack(fill_value=0)\n",
    "sequence_design_matrix = sequence_design_matrix.loc[:, sequence_design_matrix.sum() >= 20]\n",
    "sequence_design_matrix.columns = sequence_design_matrix.columns + '_s'\n",
    "\n",
    "design_matrix = pd.concat([gene_design_matrix, sequence_design_matrix], axis=1)"
   ]
  },
  {
   "cell_type": "code",
   "execution_count": null,
   "id": "b6e1f433",
   "metadata": {},
   "outputs": [],
   "source": [
    "Y = crispri_data.loc[design_matrix.index, ['Growth phenotype (gamma)', 'CTx-DTA phenotype (rho)']].astype(np.float32)\n",
    "Y.columns = ['gamma', 'rho']"
   ]
  },
  {
   "cell_type": "code",
   "execution_count": null,
   "id": "68c5af14",
   "metadata": {},
   "outputs": [],
   "source": [
    "del gene_design_matrix\n",
    "del sequence_design_matrix\n",
    "import gc\n",
    "gc.collect()"
   ]
  },
  {
   "cell_type": "code",
   "execution_count": null,
   "id": "a0e6614f",
   "metadata": {},
   "outputs": [],
   "source": [
    "del design_matrix['negative_control']"
   ]
  },
  {
   "cell_type": "code",
   "execution_count": null,
   "id": "472a2d6f",
   "metadata": {},
   "outputs": [],
   "source": [
    "design_matrix['intercept'] = np.float32(1.)"
   ]
  },
  {
   "cell_type": "code",
   "execution_count": null,
   "id": "9a11aecf",
   "metadata": {},
   "outputs": [],
   "source": [
    "crispri_coefs, crispri_ps = least_squares(design_matrix,\n",
    "                          Y,\n",
    "                          coef_only=False, n_jobs=2)"
   ]
  },
  {
   "cell_type": "code",
   "execution_count": null,
   "id": "d338dc45",
   "metadata": {},
   "outputs": [],
   "source": [
    "# crispri_coefs.to_csv('20240403_CRISPRi_coefs.csv')\n",
    "# crispri_ps.to_csv('20240403_CRISPRi_ps.csv')"
   ]
  },
  {
   "cell_type": "code",
   "execution_count": 40,
   "id": "f38a60b4",
   "metadata": {},
   "outputs": [],
   "source": [
    "crispri_coefs = pd.read_csv('20240403_CRISPRi_coefs.csv', index_col=0)\n",
    "crispri_ps = pd.read_csv('20240403_CRISPRi_ps.csv', index_col=0)"
   ]
  },
  {
   "cell_type": "code",
   "execution_count": null,
   "id": "20289352",
   "metadata": {},
   "outputs": [],
   "source": []
  },
  {
   "cell_type": "code",
   "execution_count": 71,
   "id": "6c050eec",
   "metadata": {},
   "outputs": [],
   "source": [
    "seqs = crispri_data.query('gene==\"negative_control\"').groupby('sequence').count()['gene'][crispri_data.query('gene==\"negative_control\"').groupby('sequence').count()['gene'] >= 10].index\n",
    "control_effects = crispri_data.query('gene==\"negative_control\"').groupby('sequence').median().loc[seqs]\n",
    "control_effects.index = control_effects.index + '_s'"
   ]
  },
  {
   "cell_type": "code",
   "execution_count": 72,
   "id": "2088a64c",
   "metadata": {},
   "outputs": [
    {
     "name": "stderr",
     "output_type": "stream",
     "text": [
      "/data/norman/tmn/envs/analysis38/lib/python3.8/site-packages/seaborn/distributions.py:2619: FutureWarning: `distplot` is a deprecated function and will be removed in a future version. Please adapt your code to use either `displot` (a figure-level function with similar flexibility) or `histplot` (an axes-level function for histograms).\n",
      "  warnings.warn(msg, FutureWarning)\n"
     ]
    },
    {
     "data": {
      "image/png": "[encoded data removed]",
      "text/plain": [
       "<Figure size 200x175 with 1 Axes>"
      ]
     },
     "metadata": {},
     "output_type": "display_data"
    }
   ],
   "source": [
    "import seaborn as sns\n",
    "import matplotlib.pyplot as plt\n",
    "\n",
    "plt.figure(figsize=[2, 1.75])\n",
    "\n",
    "# Create the histogram using seaborn's distplot\n",
    "sns.distplot(control_effects['Growth phenotype (gamma)'], color='#D99828')\n",
    "\n",
    "# Get the minimum and maximum values of the 'Growth phenotype (gamma)' column\n",
    "min_value = control_effects['Growth phenotype (gamma)'].min()\n",
    "max_value = control_effects['Growth phenotype (gamma)'].max()\n",
    "\n",
    "# Get the indices of the 5 most negative and 5 most positive points\n",
    "neg_indices = control_effects['Growth phenotype (gamma)'].nsmallest(6).index.map(lambda x: x.split('_')[0])\n",
    "pos_indices = control_effects['Growth phenotype (gamma)'].nlargest(6).index.map(lambda x: x.split('_')[0])\n",
    "\n",
    "# Create the annotation text for negative and positive outliers\n",
    "neg_text = \"\\n\".join(neg_indices)\n",
    "pos_text = \"\\n\".join(pos_indices)\n",
    "\n",
    "# Get the y-axis limits and calculate the height of the distribution\n",
    "ylim = plt.ylim()\n",
    "height = ylim[1] - ylim[0]\n",
    "\n",
    "# Calculate the y-coordinate for the text boxes (80% of the distribution height)\n",
    "y_coord = ylim[0] + height * 0.3\n",
    "\n",
    "# Adjust the font size\n",
    "font_size = 6\n",
    "\n",
    "# Calculate the x-coordinate for the negative outliers (2% of the x-axis range from the minimum value)\n",
    "neg_x_coord = min_value + (max_value - min_value) * 0.1\n",
    "\n",
    "# Calculate the x-coordinate for the positive outliers (2% of the x-axis range from the maximum value)\n",
    "pos_x_coord = max_value - (max_value - min_value) * 0.1\n",
    "\n",
    "# Add text box annotations for negative and positive outliers\n",
    "plt.annotate(neg_text, xy=(neg_x_coord, ylim[0]), xytext=(min_value, y_coord),\n",
    "             fontfamily='monospace', ha='right',\n",
    "             arrowprops=dict(facecolor='black', shrink=0.05, width=1, headwidth=4),\n",
    "             bbox=dict(facecolor='white', edgecolor='black', boxstyle='round'),\n",
    "             fontsize=font_size)\n",
    "\n",
    "plt.annotate(pos_text, xy=(pos_x_coord, ylim[0]), xytext=(max_value, y_coord),\n",
    "             fontfamily='monospace', ha='right',\n",
    "             arrowprops=dict(facecolor='black', shrink=0.05, width=1, headwidth=4),\n",
    "             bbox=dict(facecolor='white', edgecolor='black', boxstyle='round'),\n",
    "             fontsize=font_size)\n",
    "\n",
    "# Set the font size for axis labels\n",
    "plt.xlabel('Growth phenotype (gamma)', fontsize=8)\n",
    "plt.ylabel('Density', fontsize=8)\n",
    "\n",
    "# Set the font size for tick labels\n",
    "plt.tick_params(axis='both', which='major', labelsize=7)\n",
    "\n",
    "plt.xlim([-0.05, 0.05])\n",
    "plt.tight_layout()\n",
    "plt.savefig('20240405_CRISPRi_control_sgRNA_phenotypes.pdf', bbox_inches='tight')\n",
    "\n",
    "plt.show()"
   ]
  },
  {
   "cell_type": "code",
   "execution_count": 73,
   "id": "7461d04d",
   "metadata": {},
   "outputs": [],
   "source": [
    "table = pd.DataFrame([crispri_coefs['gamma'], -np.log10(crispri_ps['gamma'])], index=['gamma', '-log p']).T"
   ]
  },
  {
   "cell_type": "code",
   "execution_count": 74,
   "id": "e2ddb7d1",
   "metadata": {},
   "outputs": [
    {
     "data": {
      "image/png": "[encoded data removed]",
      "text/plain": [
       "<Figure size 200x175 with 1 Axes>"
      ]
     },
     "metadata": {},
     "output_type": "display_data"
    }
   ],
   "source": [
    "import matplotlib.pyplot as plt\n",
    "\n",
    "plt.figure(figsize=[2,1.75])\n",
    "\n",
    "# Create the scatter plot\n",
    "plt.scatter(table[table.index.str.contains('_s')]['gamma'],\n",
    "            table[table.index.str.contains('_s')]['-log p'], s=1, c='#528FF0')\n",
    "\n",
    "# Set the x-axis label and limits\n",
    "plt.xlabel('Growth phenotype (gamma)')\n",
    "plt.xlim([-0.05, 0.05])\n",
    "\n",
    "# Get the top outliers for positive and negative gamma values\n",
    "pos_outliers = table[table.index.str.contains('_s')].nlargest(6, 'gamma')\n",
    "neg_outliers = table[table.index.str.contains('_s')].nsmallest(6, 'gamma')\n",
    "\n",
    "# Annotate the top positive outliers\n",
    "for idx, row in pos_outliers.iterrows():\n",
    "    plt.annotate(idx.split('_')[0], xy=(row['gamma'], row['-log p']),\n",
    "                 xytext=(1, 1), textcoords='offset points',\n",
    "                 fontsize=6, ha='left', va='bottom')\n",
    "\n",
    "# Annotate the top negative outliers\n",
    "for idx, row in neg_outliers.iterrows():\n",
    "    plt.annotate(idx.split('_')[0], xy=(row['gamma'], row['-log p']),\n",
    "                 xytext=(-1, 1), textcoords='offset points',\n",
    "                 fontsize=6, ha='right', va='bottom')\n",
    "\n",
    "plt.ylim([-10, 220])\n",
    "plt.xlabel('Growth phenotype (gamma)', fontsize=8)\n",
    "\n",
    "plt.ylabel('-log p', fontsize=8)\n",
    "plt.tick_params(axis='both', which='major', labelsize=7)\n",
    "plt.tight_layout()\n",
    "plt.savefig('20240405_CRISPRi_seed_phenotypes.pdf', bbox_inches='tight')\n",
    "\n",
    "\n",
    "plt.show()"
   ]
  },
  {
   "cell_type": "code",
   "execution_count": null,
   "id": "08455172",
   "metadata": {},
   "outputs": [],
   "source": []
  },
  {
   "cell_type": "markdown",
   "id": "d6408be9",
   "metadata": {},
   "source": [
    "# Optimized libraries for CRISPR-Cas9 genetic screens with multiple modalities"
   ]
  },
  {
   "cell_type": "markdown",
   "id": "b763a1a3",
   "metadata": {},
   "source": [
    "## pXPR_109 Mel Sel SetAB "
   ]
  },
  {
   "cell_type": "code",
   "execution_count": 91,
   "id": "837d8b24",
   "metadata": {},
   "outputs": [],
   "source": [
    "doench_analysis = pd.read_excel('41467_2018_7901_MOESM8_ESM.xlsx',\n",
    "                                header=[0], index_col=0,\n",
    "                                sheet_name='pXPR_109 Mel Sel SetAB analysis')"
   ]
  },
  {
   "cell_type": "code",
   "execution_count": 92,
   "id": "3729f896",
   "metadata": {},
   "outputs": [],
   "source": [
    "#109 is dCas9-VP64 + PH from SAM system on sgRNA\n",
    "#118 is just dCas9 (so only PH)"
   ]
  },
  {
   "cell_type": "code",
   "execution_count": 94,
   "id": "be71b9fc",
   "metadata": {},
   "outputs": [],
   "source": [
    "ind = pd.MultiIndex.from_tuples(doench_analysis['Perturbations'].str.split(';').explode().items())\n",
    "\n",
    "lfcs = pd.Series(doench_analysis['Individual LFCs'].str.split(';').explode().values, index=ind).astype(float)\n",
    "\n",
    "lfcs = lfcs.to_frame()\n",
    "lfcs.columns = ['lfc']\n",
    "lfcs['end'] = lfcs.index.get_level_values(1).map(lambda x: x[-5:])\n",
    "lfcs.set_index('end', append=True, inplace=True)"
   ]
  },
  {
   "cell_type": "code",
   "execution_count": 99,
   "id": "0832e197",
   "metadata": {},
   "outputs": [],
   "source": [
    "well_represented_genes = lfcs.groupby(level=0).size().sort_values()[lfcs.groupby(level=0).size().sort_values()>=3].index"
   ]
  },
  {
   "cell_type": "code",
   "execution_count": 100,
   "id": "e1fa0414",
   "metadata": {},
   "outputs": [],
   "source": [
    "sequence_design_matrix = pd.Series(1, index=lfcs[lfcs.index.get_level_values(0).isin(well_represented_genes)].index).unstack(fill_value=0).astype(np.float32).droplevel(0).sort_index()"
   ]
  },
  {
   "cell_type": "code",
   "execution_count": 101,
   "id": "944b2483",
   "metadata": {},
   "outputs": [],
   "source": [
    "gene_design_matrix = pd.Series(1, index=lfcs[lfcs.index.get_level_values(0).isin(well_represented_genes)].index).unstack(fill_value=0, level=0).astype(np.float32).droplevel(1).sort_index()"
   ]
  },
  {
   "cell_type": "code",
   "execution_count": 102,
   "id": "30b8d0e0",
   "metadata": {},
   "outputs": [],
   "source": [
    "sequence_design_matrix = sequence_design_matrix.loc[:, sequence_design_matrix.sum() >= 10]\n",
    "sequence_design_matrix.columns = sequence_design_matrix.columns + '_s'"
   ]
  },
  {
   "cell_type": "code",
   "execution_count": 103,
   "id": "47ff96c6",
   "metadata": {},
   "outputs": [],
   "source": [
    "design_matrix = pd.concat([gene_design_matrix, sequence_design_matrix], axis=1)"
   ]
  },
  {
   "cell_type": "code",
   "execution_count": 104,
   "id": "9dfbd0ba",
   "metadata": {},
   "outputs": [],
   "source": [
    "design_matrix['intercept'] = 1"
   ]
  },
  {
   "cell_type": "code",
   "execution_count": 105,
   "id": "5b2c2f79",
   "metadata": {},
   "outputs": [],
   "source": [
    "Y = lfcs.droplevel([0, 2])[['lfc']].loc[design_matrix.index].dropna().sort_index()"
   ]
  },
  {
   "cell_type": "code",
   "execution_count": 106,
   "id": "28068bc3",
   "metadata": {},
   "outputs": [],
   "source": [
    "design_matrix = design_matrix.astype(np.float32).loc[Y.index]\n",
    "Y = Y.astype(np.float32)"
   ]
  },
  {
   "cell_type": "code",
   "execution_count": null,
   "id": "6b05360f",
   "metadata": {},
   "outputs": [],
   "source": []
  },
  {
   "cell_type": "code",
   "execution_count": 107,
   "id": "e19d7f21",
   "metadata": {},
   "outputs": [
    {
     "name": "stderr",
     "output_type": "stream",
     "text": [
      "/tmp/ipykernel_764408/2808016983.py:52: UserWarning: Design matrix supplied with `X` parameter is rank deficient (rank 19979 with 19980 columns). That means that one or more of the columns in `X` are a linear combination of one or more of the other columns.\n",
      "  warnings.warn(\n",
      "[Parallel(n_jobs=1)]: Done   1 tasks      | elapsed:    0.1s\n",
      "[Parallel(n_jobs=1)]: Done   1 tasks      | elapsed:    0.1s\n"
     ]
    }
   ],
   "source": [
    "doench_coefs, doench_ps = least_squares(design_matrix,\n",
    "                          Y,\n",
    "                          coef_only=False, n_jobs=1)"
   ]
  },
  {
   "cell_type": "code",
   "execution_count": 111,
   "id": "fb80ee5f",
   "metadata": {},
   "outputs": [],
   "source": [
    "# doench_coefs.to_csv('20240403_doench_coefs.csv')\n",
    "# doench_ps.to_csv('20240403_doench_ps.csv')"
   ]
  },
  {
   "cell_type": "code",
   "execution_count": 47,
   "id": "5b610c15",
   "metadata": {},
   "outputs": [],
   "source": [
    "# doench_coefs = pd.read_csv('20240403_doench_coefs.csv', index_col=0)\n",
    "# doench_ps = pd.read_csv('20240403_doench_ps.csv', index_col=0)"
   ]
  },
  {
   "cell_type": "code",
   "execution_count": null,
   "id": "59e60c89",
   "metadata": {},
   "outputs": [],
   "source": []
  },
  {
   "cell_type": "code",
   "execution_count": 48,
   "id": "ed67088d",
   "metadata": {},
   "outputs": [],
   "source": [
    "table = pd.DataFrame([doench_coefs['lfc'], -np.log10(doench_ps['lfc'])], index=['LFC', '-log p']).T"
   ]
  },
  {
   "cell_type": "code",
   "execution_count": 49,
   "id": "b64b2803",
   "metadata": {},
   "outputs": [
    {
     "data": {
      "image/png": "[encoded data removed]",
      "text/plain": [
       "<Figure size 200x175 with 1 Axes>"
      ]
     },
     "metadata": {},
     "output_type": "display_data"
    }
   ],
   "source": [
    "import matplotlib.pyplot as plt\n",
    "\n",
    "plt.figure(figsize=[2,1.75])\n",
    "\n",
    "# Create the scatter plot\n",
    "plt.scatter(table[table.index.str.contains('_s')]['LFC'],\n",
    "            table[table.index.str.contains('_s')]['-log p'], s=1, c='#528FF0')\n",
    "\n",
    "# Set the x-axis label and limits\n",
    "plt.xlabel('Growth phenotype (LFC)')\n",
    "plt.xlim([-1.5, 1.5])\n",
    "\n",
    "# Get the top outliers for positive and negative LFC values\n",
    "pos_outliers = table[table.index.str.contains('_s')].nlargest(6, 'LFC')\n",
    "neg_outliers = table[table.index.str.contains('_s')].nsmallest(6, 'LFC')\n",
    "\n",
    "# Annotate the top positive outliers\n",
    "for idx, row in pos_outliers.iterrows():\n",
    "    plt.annotate(idx.split('_')[0], xy=(row['LFC'], row['-log p']),\n",
    "                 xytext=(1, 1), textcoords='offset points',\n",
    "                 fontsize=6, ha='left', va='bottom')\n",
    "\n",
    "# Annotate the top negative outliers\n",
    "for idx, row in neg_outliers.iterrows():\n",
    "    plt.annotate(idx.split('_')[0], xy=(row['LFC'], row['-log p']),\n",
    "                 xytext=(-1, 1), textcoords='offset points',\n",
    "                 fontsize=6, ha='right', va='bottom')\n",
    "\n",
    "plt.ylim([-3, 60])\n",
    "plt.xlabel('Growth phenotype (LFC)', fontsize=8)\n",
    "\n",
    "plt.ylabel('-log p', fontsize=8)\n",
    "plt.tick_params(axis='both', which='major', labelsize=7)\n",
    "plt.tight_layout()\n",
    "plt.savefig('20240405_Doench_seed_phenotypes.pdf', bbox_inches='tight')\n",
    "\n",
    "plt.show()"
   ]
  },
  {
   "cell_type": "code",
   "execution_count": null,
   "id": "01569107",
   "metadata": {},
   "outputs": [],
   "source": []
  },
  {
   "cell_type": "markdown",
   "id": "2aae1fab",
   "metadata": {},
   "source": [
    "## pXPR_118 A375 Vem SetA "
   ]
  },
  {
   "cell_type": "code",
   "execution_count": 115,
   "id": "618baec6",
   "metadata": {},
   "outputs": [],
   "source": [
    "doench_analysis = pd.read_excel('41467_2018_7901_MOESM8_ESM.xlsx',\n",
    "                                header=[0], index_col=0,\n",
    "                                sheet_name='pXPR_118 A375 Vem SetA analysis')"
   ]
  },
  {
   "cell_type": "code",
   "execution_count": 116,
   "id": "dbc5a3d8",
   "metadata": {},
   "outputs": [],
   "source": [
    "#109 is dCas9-VP64 + PH from SAM system on sgRNA\n",
    "#118 is just dCas9 (so only PH)"
   ]
  },
  {
   "cell_type": "code",
   "execution_count": 117,
   "id": "efbfa8d9",
   "metadata": {},
   "outputs": [],
   "source": [
    "ind = pd.MultiIndex.from_tuples(doench_analysis['Perturbations'].str.split(';').explode().items())\n",
    "\n",
    "lfcs = pd.Series(doench_analysis['Individual LFCs'].str.split(';').explode().values, index=ind).astype(float)\n",
    "lfcs = lfcs.to_frame()\n",
    "lfcs.columns = ['lfc']\n",
    "lfcs['end'] = lfcs.index.get_level_values(1).map(lambda x: x[-5:])\n",
    "lfcs.set_index('end', append=True, inplace=True)"
   ]
  },
  {
   "cell_type": "code",
   "execution_count": 122,
   "id": "65629554",
   "metadata": {},
   "outputs": [],
   "source": [
    "well_represented_genes = lfcs.groupby(level=0).size().sort_values()[lfcs.groupby(level=0).size().sort_values()>=3].index"
   ]
  },
  {
   "cell_type": "code",
   "execution_count": 123,
   "id": "811c0480",
   "metadata": {},
   "outputs": [],
   "source": [
    "sequence_design_matrix = pd.Series(1, index=lfcs[lfcs.index.get_level_values(0).isin(well_represented_genes)].index).unstack(fill_value=0).astype(np.float32).droplevel(0).sort_index()"
   ]
  },
  {
   "cell_type": "code",
   "execution_count": 124,
   "id": "bad01372",
   "metadata": {},
   "outputs": [],
   "source": [
    "gene_design_matrix = pd.Series(1, index=lfcs[lfcs.index.get_level_values(0).isin(well_represented_genes)].index).unstack(fill_value=0, level=0).astype(np.float32).droplevel(1).sort_index()"
   ]
  },
  {
   "cell_type": "code",
   "execution_count": 125,
   "id": "eb4e39bd",
   "metadata": {},
   "outputs": [],
   "source": [
    "sequence_design_matrix = sequence_design_matrix.loc[:, sequence_design_matrix.sum() >= 10]\n",
    "sequence_design_matrix.columns = sequence_design_matrix.columns + '_s'"
   ]
  },
  {
   "cell_type": "code",
   "execution_count": 126,
   "id": "a8fef86b",
   "metadata": {},
   "outputs": [],
   "source": [
    "design_matrix = pd.concat([gene_design_matrix, sequence_design_matrix], axis=1)"
   ]
  },
  {
   "cell_type": "code",
   "execution_count": 127,
   "id": "5f098aa1",
   "metadata": {},
   "outputs": [],
   "source": [
    "design_matrix['intercept'] = 1"
   ]
  },
  {
   "cell_type": "code",
   "execution_count": 128,
   "id": "0beb991d",
   "metadata": {},
   "outputs": [],
   "source": [
    "Y = lfcs.droplevel([0, 2])[['lfc']].loc[design_matrix.index].dropna().sort_index()"
   ]
  },
  {
   "cell_type": "code",
   "execution_count": null,
   "id": "d87a551c",
   "metadata": {},
   "outputs": [],
   "source": []
  },
  {
   "cell_type": "code",
   "execution_count": 129,
   "id": "584d01f8",
   "metadata": {},
   "outputs": [],
   "source": [
    "design_matrix = design_matrix.astype(np.float32).loc[Y.index]\n",
    "Y = Y.astype(np.float32)"
   ]
  },
  {
   "cell_type": "code",
   "execution_count": null,
   "id": "bb661ce8",
   "metadata": {},
   "outputs": [],
   "source": []
  },
  {
   "cell_type": "code",
   "execution_count": 130,
   "id": "ff7333b1",
   "metadata": {},
   "outputs": [
    {
     "name": "stderr",
     "output_type": "stream",
     "text": [
      "/tmp/ipykernel_764408/2808016983.py:52: UserWarning: Design matrix supplied with `X` parameter is rank deficient (rank 19590 with 19591 columns). That means that one or more of the columns in `X` are a linear combination of one or more of the other columns.\n",
      "  warnings.warn(\n",
      "[Parallel(n_jobs=1)]: Done   1 tasks      | elapsed:    0.4s\n",
      "[Parallel(n_jobs=1)]: Done   1 tasks      | elapsed:    0.4s\n"
     ]
    }
   ],
   "source": [
    "doench_coefs, doench_ps = least_squares(design_matrix,\n",
    "                          Y,\n",
    "                          coef_only=False, n_jobs=1)"
   ]
  },
  {
   "cell_type": "code",
   "execution_count": 131,
   "id": "7ea260d1",
   "metadata": {},
   "outputs": [],
   "source": [
    "# doench_coefs.to_csv('20240403_doench_PH_coefs.csv')\n",
    "# doench_ps.to_csv('20240403_doench_PH_ps.csv')"
   ]
  },
  {
   "cell_type": "code",
   "execution_count": 44,
   "id": "944f0f1a",
   "metadata": {},
   "outputs": [],
   "source": [
    "# doench_coefs = pd.read_csv('20240403_doench_PH_coefs.csv', index_col=0)\n",
    "# doench_ps = pd.read_csv('20240403_doench_PH_ps.csv', index_col=0)"
   ]
  },
  {
   "cell_type": "code",
   "execution_count": null,
   "id": "c9dd8b0b",
   "metadata": {},
   "outputs": [],
   "source": []
  },
  {
   "cell_type": "code",
   "execution_count": 45,
   "id": "5696ddbd",
   "metadata": {},
   "outputs": [],
   "source": [
    "table = pd.DataFrame([doench_coefs['lfc'], -np.log10(doench_ps['lfc'])], index=['LFC', '-log p']).T"
   ]
  },
  {
   "cell_type": "code",
   "execution_count": null,
   "id": "2dd041e6",
   "metadata": {},
   "outputs": [],
   "source": [
    "import matplotlib.pyplot as plt\n",
    "\n",
    "plt.figure(figsize=[2,1.75])\n",
    "\n",
    "# Create the scatter plot\n",
    "plt.scatter(table[table.index.str.contains('_s')]['LFC'],\n",
    "            table[table.index.str.contains('_s')]['-log p'], s=1, c='#528FF0')\n",
    "\n",
    "# Set the x-axis label and limits\n",
    "plt.xlabel('Growth phenotype (LFC)')\n",
    "plt.xlim([-1.5, 1.5])\n",
    "\n",
    "# Get the top outliers for positive and negative LFC values\n",
    "pos_outliers = table[table.index.str.contains('_s')].nlargest(6, 'LFC')\n",
    "neg_outliers = table[table.index.str.contains('_s')].nsmallest(6, 'LFC')\n",
    "\n",
    "# Annotate the top positive outliers\n",
    "for idx, row in pos_outliers.iterrows():\n",
    "    plt.annotate(idx.split('_')[0], xy=(row['LFC'], row['-log p']),\n",
    "                 xytext=(1, 1), textcoords='offset points',\n",
    "                 fontsize=6, ha='left', va='bottom')\n",
    "\n",
    "# Annotate the top negative outliers\n",
    "for idx, row in neg_outliers.iterrows():\n",
    "    plt.annotate(idx.split('_')[0], xy=(row['LFC'], row['-log p']),\n",
    "                 xytext=(-1, 1), textcoords='offset points',\n",
    "                 fontsize=6, ha='right', va='bottom')\n",
    "\n",
    "plt.ylim([-3, 60])\n",
    "plt.xlabel('Growth phenotype (LFC)', fontsize=8)\n",
    "\n",
    "plt.ylabel('-log p', fontsize=8)\n",
    "plt.tick_params(axis='both', which='major', labelsize=7)\n",
    "plt.tight_layout()\n",
    "plt.savefig('20240405_Doench_PH_seed_phenotypes.pdf', bbox_inches='tight')\n",
    "\n",
    "plt.show()"
   ]
  },
  {
   "cell_type": "code",
   "execution_count": null,
   "id": "6912edce",
   "metadata": {},
   "outputs": [],
   "source": []
  },
  {
   "cell_type": "markdown",
   "id": "0d818b97",
   "metadata": {},
   "source": [
    "# A genome–wide CRISPR activation screen identifies SCREEM a novel SNAI1 super-enhancer demarcated by eRNAs"
   ]
  },
  {
   "cell_type": "code",
   "execution_count": 1,
   "id": "79a9a0a4",
   "metadata": {},
   "outputs": [],
   "source": [
    "# https://www.frontiersin.org/articles/10.3389/fmolb.2023.1110445/full\n",
    "# !wget https://www.frontiersin.org/articles/file/downloadfile/1110445_supplementary-materials_tables_4_xlsx/octet-stream/Table%204.XLSX/1/1110445?isPublishedV2=False\n",
    "# !mv 1110445?isPublishedV2=False Table4.xlsx"
   ]
  },
  {
   "cell_type": "code",
   "execution_count": null,
   "id": "0ed48fd5",
   "metadata": {},
   "outputs": [],
   "source": [
    "cd44_low_counts = pd.read_excel('Table4.xlsx', sheet_name='CD44 LOW mageck_sgrna_summary')\n",
    "cd44_low_counts['end'] = cd44_low_counts['sgrna'].map(lambda x: x[-5:].upper())\n",
    "\n",
    "cd44_low_counts = cd44_low_counts.groupby('sgrna').head(1)"
   ]
  },
  {
   "cell_type": "code",
   "execution_count": null,
   "id": "210a035a",
   "metadata": {},
   "outputs": [],
   "source": [
    "well_represented = cd44_low_counts.groupby('GeneID').count()['sgrna']\n",
    "well_represented = well_represented[well_represented >= 6].index"
   ]
  },
  {
   "cell_type": "code",
   "execution_count": null,
   "id": "cada62b2",
   "metadata": {},
   "outputs": [],
   "source": [
    "gene_design_matrix = pd.Series(1, index=cd44_low_counts.query('GeneID in @well_represented').set_index(['sgrna', 'GeneID']).index).unstack(fill_value=0)"
   ]
  },
  {
   "cell_type": "code",
   "execution_count": null,
   "id": "2b6e00fb",
   "metadata": {},
   "outputs": [],
   "source": [
    "sequence_design_matrix = pd.Series(1, index=cd44_low_counts.query('GeneID in @well_represented').set_index(['sgrna', 'end']).index).unstack(fill_value=0)"
   ]
  },
  {
   "cell_type": "code",
   "execution_count": null,
   "id": "bd8badfb",
   "metadata": {},
   "outputs": [],
   "source": [
    "sequence_design_matrix = sequence_design_matrix.loc[:, sequence_design_matrix.sum() >= 10]"
   ]
  },
  {
   "cell_type": "code",
   "execution_count": null,
   "id": "dddd689b",
   "metadata": {},
   "outputs": [],
   "source": [
    "sequence_design_matrix.columns = sequence_design_matrix.columns + '_s'"
   ]
  },
  {
   "cell_type": "code",
   "execution_count": null,
   "id": "4347e9d1",
   "metadata": {},
   "outputs": [],
   "source": [
    "design_matrix = pd.concat([gene_design_matrix, sequence_design_matrix], axis=1)"
   ]
  },
  {
   "cell_type": "code",
   "execution_count": null,
   "id": "877e8355",
   "metadata": {},
   "outputs": [],
   "source": [
    "Y = cd44_low_counts.set_index('sgrna')[['LFC', 'score']].loc[design_matrix.index]"
   ]
  },
  {
   "cell_type": "code",
   "execution_count": null,
   "id": "5070b0ec",
   "metadata": {},
   "outputs": [],
   "source": [
    "del design_matrix['nontargeting']\n",
    "design_matrix['intercept'] = 1"
   ]
  },
  {
   "cell_type": "code",
   "execution_count": null,
   "id": "9f6eab16",
   "metadata": {},
   "outputs": [],
   "source": [
    "design_matrix = design_matrix.astype(np.float32)\n",
    "Y = Y.astype(np.float32)"
   ]
  },
  {
   "cell_type": "code",
   "execution_count": null,
   "id": "14a027fd",
   "metadata": {},
   "outputs": [],
   "source": [
    "Y = Y.loc[design_matrix.index]"
   ]
  },
  {
   "cell_type": "code",
   "execution_count": null,
   "id": "cb71cf76",
   "metadata": {},
   "outputs": [],
   "source": [
    "cd44_coefs, cd44_ps = least_squares(design_matrix,\n",
    "                          Y,\n",
    "                          coef_only=False, n_jobs=1)"
   ]
  },
  {
   "cell_type": "code",
   "execution_count": null,
   "id": "e6b74c4b",
   "metadata": {},
   "outputs": [],
   "source": [
    "table = pd.DataFrame([cd44_coefs['LFC'], -np.log10(cd44_ps['LFC'])], index=['LFC', '-log p']).T"
   ]
  },
  {
   "cell_type": "code",
   "execution_count": null,
   "id": "d281bd2f",
   "metadata": {},
   "outputs": [],
   "source": [
    "import matplotlib.pyplot as plt\n",
    "\n",
    "plt.figure(figsize=[2,1.75])\n",
    "\n",
    "# Create the scatter plot\n",
    "plt.scatter(table[table.index.str.contains('_s')]['LFC'],\n",
    "            table[table.index.str.contains('_s')]['-log p'], s=1, c='#528FF0')\n",
    "\n",
    "# Set the x-axis label and limits\n",
    "plt.xlabel('Growth phenotype (LFC)')\n",
    "plt.xlim([-1.5, 1.5])\n",
    "\n",
    "# Get the top outliers for positive and negative LFC values\n",
    "pos_outliers = table[table.index.str.contains('_s')].nlargest(10, 'LFC')\n",
    "neg_outliers = table[table.index.str.contains('_s')].nsmallest(6, 'LFC')\n",
    "\n",
    "# Annotate the top positive outliers\n",
    "for idx, row in pos_outliers.iterrows():\n",
    "    plt.annotate(idx.split('_')[0], xy=(row['LFC'], row['-log p']),\n",
    "                 xytext=(1, 1), textcoords='offset points',\n",
    "                 fontsize=6, ha='left', va='bottom')\n",
    "\n",
    "# # Annotate the top negative outliers\n",
    "# for idx, row in neg_outliers.iterrows():\n",
    "#     plt.annotate(idx.split('_')[0], xy=(row['LFC'], row['-log p']),\n",
    "#                  xytext=(-1, 1), textcoords='offset points',\n",
    "#                  fontsize=6, ha='right', va='bottom')\n",
    "\n",
    "plt.ylim([-3, 60])\n",
    "plt.xlabel('Growth phenotype (LFC)', fontsize=8)\n",
    "\n",
    "plt.ylabel('-log p', fontsize=8)\n",
    "plt.tick_params(axis='both', which='major', labelsize=7)\n",
    "plt.tight_layout()\n",
    "plt.savefig('20240405_CD44_seed_phenotypes.pdf', bbox_inches='tight')\n",
    "\n",
    "plt.show()"
   ]
  },
  {
   "cell_type": "code",
   "execution_count": null,
   "id": "8cb7077f",
   "metadata": {},
   "outputs": [],
   "source": []
  },
  {
   "cell_type": "markdown",
   "id": "289abaf7",
   "metadata": {},
   "source": [
    "# Genome-wide programmable transcriptional memory by CRISPR-based epigenome editing"
   ]
  },
  {
   "cell_type": "code",
   "execution_count": null,
   "id": "9f8f477c",
   "metadata": {},
   "outputs": [],
   "source": [
    "tiling_annotations = pd.read_excel('1-s2.0-S0092867421003536-mmc4.xlsx', sheet_name='Tiling protospacers', skiprows=3, header=[0], index_col=0)"
   ]
  },
  {
   "cell_type": "code",
   "execution_count": null,
   "id": "aa68dcf1",
   "metadata": {},
   "outputs": [],
   "source": [
    "tiling_off_counts = pd.read_excel('1-s2.0-S0092867421003536-mmc4.xlsx', sheet_name='CRISPRoff', skiprows=4, header=[0], index_col=0)"
   ]
  },
  {
   "cell_type": "code",
   "execution_count": null,
   "id": "f0a62dcb",
   "metadata": {},
   "outputs": [],
   "source": [
    "tiling_annotations['end'] = tiling_annotations['sequence'].map(lambda x: x[-5:].upper())"
   ]
  },
  {
   "cell_type": "code",
   "execution_count": null,
   "id": "c0a18fe7",
   "metadata": {},
   "outputs": [],
   "source": [
    "tiling_off_counts['end'] = tiling_annotations['end']\n",
    "tiling_off_counts['gene'] = tiling_off_counts.index.map(lambda x: x.split('_')[0] if 'non' not in x else 'non-targeting')\n",
    "tiling_off_counts = tiling_off_counts.set_index(['gene', 'end'], append=True)"
   ]
  },
  {
   "cell_type": "code",
   "execution_count": null,
   "id": "48176721",
   "metadata": {},
   "outputs": [],
   "source": []
  },
  {
   "cell_type": "code",
   "execution_count": null,
   "id": "cdb1c32b",
   "metadata": {},
   "outputs": [],
   "source": [
    "control_effects = tiling_off_counts[tiling_off_counts.index.get_level_values(1).str.contains('non')].groupby(level=2).median().loc[seqs.index, 'ave_Rep1_Rep2']\n",
    "\n",
    "control_effects.index = control_effects.index + '_s'\n",
    "\n",
    "control_effects = pd.DataFrame(control_effects)\n",
    "control_effects.columns = ['Growth phenotype (gamma)']"
   ]
  },
  {
   "cell_type": "code",
   "execution_count": null,
   "id": "9cb8790d",
   "metadata": {},
   "outputs": [],
   "source": [
    "import seaborn as sns\n",
    "import matplotlib.pyplot as plt\n",
    "\n",
    "plt.figure(figsize=[2, 1.75])\n",
    "\n",
    "# Create the histogram using seaborn's distplot\n",
    "sns.distplot(control_effects['Growth phenotype (gamma)'], color='#D99828')\n",
    "\n",
    "# Get the minimum and maximum values of the 'Growth phenotype (gamma)' column\n",
    "min_value = control_effects['Growth phenotype (gamma)'].min()\n",
    "max_value = control_effects['Growth phenotype (gamma)'].max()\n",
    "\n",
    "# Get the indices of the 5 most negative and 5 most positive points\n",
    "neg_indices = control_effects['Growth phenotype (gamma)'].nsmallest(8).index.map(lambda x: x.split('_')[0])\n",
    "pos_indices = control_effects['Growth phenotype (gamma)'].nlargest(6).index.map(lambda x: x.split('_')[0])\n",
    "\n",
    "# Create the annotation text for negative and positive outliers\n",
    "neg_text = \"\\n\".join(neg_indices)\n",
    "pos_text = \"\\n\".join(pos_indices)\n",
    "\n",
    "# Get the y-axis limits and calculate the height of the distribution\n",
    "ylim = plt.ylim()\n",
    "height = ylim[1] - ylim[0]\n",
    "\n",
    "# Calculate the y-coordinate for the text boxes (80% of the distribution height)\n",
    "y_coord = ylim[0] + height * 0.3\n",
    "\n",
    "# Adjust the font size\n",
    "font_size = 6\n",
    "\n",
    "# Calculate the x-coordinate for the negative outliers (2% of the x-axis range from the minimum value)\n",
    "neg_x_coord = min_value + (max_value - min_value) * 0.1\n",
    "\n",
    "# Calculate the x-coordinate for the positive outliers (2% of the x-axis range from the maximum value)\n",
    "pos_x_coord = max_value - (max_value - min_value) * 0.1\n",
    "\n",
    "# Add text box annotations for negative and positive outliers\n",
    "plt.annotate(neg_text, xy=(neg_x_coord, ylim[0]), xytext=(min_value, y_coord),\n",
    "             fontfamily='monospace', ha='right',\n",
    "             arrowprops=dict(facecolor='black', shrink=0.05, width=1, headwidth=4),\n",
    "             bbox=dict(facecolor='white', edgecolor='black', boxstyle='round'),\n",
    "             fontsize=font_size)\n",
    "\n",
    "# plt.annotate(pos_text, xy=(pos_x_coord, ylim[0]), xytext=(max_value, y_coord),\n",
    "#              fontfamily='monospace', ha='right',\n",
    "#              arrowprops=dict(facecolor='black', shrink=0.05, width=1, headwidth=4),\n",
    "#              bbox=dict(facecolor='white', edgecolor='black', boxstyle='round'),\n",
    "#              fontsize=font_size)\n",
    "\n",
    "# Set the font size for axis labels\n",
    "plt.xlabel('Growth phenotype (gamma)', fontsize=8)\n",
    "plt.ylabel('Density', fontsize=8)\n",
    "\n",
    "# Set the font size for tick labels\n",
    "plt.tick_params(axis='both', which='major', labelsize=7)\n",
    "\n",
    "plt.xlim([-0.075, 0.075])\n",
    "plt.tight_layout()\n",
    "plt.savefig('20240405_CRISPRoff_control_sgRNA_phenotypes.pdf', bbox_inches='tight')\n",
    "plt.show()"
   ]
  },
  {
   "cell_type": "code",
   "execution_count": null,
   "id": "e7908cf4",
   "metadata": {},
   "outputs": [],
   "source": []
  }
 ],
 "metadata": {
  "kernelspec": {
   "display_name": "Python [conda env:tmn-analysis38] *",
   "language": "python",
   "name": "conda-env-tmn-analysis38-py"
  },
  "language_info": {
   "codemirror_mode": {
    "name": "ipython",
    "version": 3
   },
   "file_extension": ".py",
   "mimetype": "text/x-python",
   "name": "python",
   "nbconvert_exporter": "python",
   "pygments_lexer": "ipython3",
   "version": "3.8.15"
  }
 },
 "nbformat": 4,
 "nbformat_minor": 5
}
